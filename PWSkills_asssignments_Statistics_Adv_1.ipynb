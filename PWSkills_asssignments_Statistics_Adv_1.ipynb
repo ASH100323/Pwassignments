{
  "nbformat": 4,
  "nbformat_minor": 0,
  "metadata": {
    "colab": {
      "provenance": []
    },
    "kernelspec": {
      "name": "python3",
      "display_name": "Python 3"
    },
    "language_info": {
      "name": "python"
    }
  },
  "cells": [
    {
      "cell_type": "markdown",
      "source": [
        "#**Statistic Advance Part 1**"
      ],
      "metadata": {
        "id": "12pvzitYI1W7"
      }
    },
    {
      "cell_type": "markdown",
      "source": [
        "1. What is a random variable in probability theory?"
      ],
      "metadata": {
        "id": "EkLQ_YwgI2cM"
      }
    },
    {
      "cell_type": "markdown",
      "source": [
        "A random variable is a function that assigns a real number to each possible outcome of a random experiment.\n",
        "\n",
        "Example: Tossing a coin → X = 0 (Tails), X = 1 (Heads)."
      ],
      "metadata": {
        "id": "WgTCcZolJZ8x"
      }
    },
    {
      "cell_type": "markdown",
      "source": [
        "2. What are the types of random variables?"
      ],
      "metadata": {
        "id": "uPO4LF31Javg"
      }
    },
    {
      "cell_type": "markdown",
      "source": [
        "Discrete Random Variable → Takes countable outcomes.\n",
        "Example: Number of heads in 10 coin flips.\n",
        "\n",
        "Continuous Random Variable → Takes any value in an interval.\n",
        "Example: Height of students in a class."
      ],
      "metadata": {
        "id": "uCwYd33_Mlwn"
      }
    },
    {
      "cell_type": "markdown",
      "source": [
        "3. What is the difference between discrete and continuous distributions1"
      ],
      "metadata": {
        "id": "VEv7wLCmJgZW"
      }
    },
    {
      "cell_type": "markdown",
      "source": [
        "Discrete Distribution: Probability Mass Function (PMF), sum of probabilities = 1\n",
        "👉 Examples: Binomial, Poisson\n",
        "\n",
        "Continuous Distribution: Probability Density Function (PDF), integral of density = 1\n",
        "👉 Examples: Normal, Exponential"
      ],
      "metadata": {
        "id": "tuWEHfEwMsAw"
      }
    },
    {
      "cell_type": "markdown",
      "source": [
        "4. What are probability distribution functions (PDF)?"
      ],
      "metadata": {
        "id": "r5Gso6bcJg15"
      }
    },
    {
      "cell_type": "markdown",
      "source": [
        "A Probability Distribution Function (PDF) describes the probability structure of a random variable.\n",
        "\n",
        "For discrete → PMF (𝑃(𝑋 = 𝑥)).\n",
        "\n",
        "For continuous → PDF f(x), with property:\n",
        "\n",
        "P(a≤X≤b)=a∫bf(x)dx\n"
      ],
      "metadata": {
        "id": "wHWQBgjwMxPo"
      }
    },
    {
      "cell_type": "markdown",
      "source": [
        "5. How do cumulative distribution functions (CDF) differ from probability distribution functions (PDF)?"
      ],
      "metadata": {
        "id": "_-EqbAQ7JkjG"
      }
    },
    {
      "cell_type": "markdown",
      "source": [
        "PDF: Tells probability at a value (or density).\n",
        "\n",
        "CDF: Cumulative probability up to a value x. Formula:\n",
        "F(x)=P(X≤x)"
      ],
      "metadata": {
        "id": "F4XrC0GnNZ4X"
      }
    },
    {
      "cell_type": "markdown",
      "source": [
        "6. What is a discrete uniform distribution?"
      ],
      "metadata": {
        "id": "Dw8OE35qJkgv"
      }
    },
    {
      "cell_type": "markdown",
      "source": [
        "A distribution with equal probability for all outcomes in a finite set.\n",
        "\n",
        "Example: Dice roll → each face has P=1/6\n",
        "\n"
      ],
      "metadata": {
        "id": "64UjZ7d1Niof"
      }
    },
    {
      "cell_type": "markdown",
      "source": [
        "7. What are the key properties of a Bernoulli distribution?"
      ],
      "metadata": {
        "id": "1vyf_v0jJkdo"
      }
    },
    {
      "cell_type": "markdown",
      "source": [
        "Two outcomes: Success (1), Failure (0).\n",
        "Parameter: p = P(success).\n",
        "\n",
        "Mean: E[X]=pE[X]=p\n",
        "\n",
        "Variance: Var(X)=p(1−p)\n"
      ],
      "metadata": {
        "id": "NV2CL3IzNtn3"
      }
    },
    {
      "cell_type": "markdown",
      "source": [
        "8. What is the binomial distribution, and how is it used in probability?"
      ],
      "metadata": {
        "id": "INfK9sHAJkaG"
      }
    },
    {
      "cell_type": "markdown",
      "source": [
        "Models number of successes in\n",
        "n\n",
        "n Bernoulli trials.\n",
        "\n",
        "Formula:\n",
        "\n",
        "P(X=k)=(\n",
        "k\n",
        "n\n",
        " )p\n",
        "^k\n",
        " (1−p)\n",
        "^n−k"
      ],
      "metadata": {
        "id": "O1_zEX80OSVe"
      }
    },
    {
      "cell_type": "markdown",
      "source": [
        "9. What is the Poisson distribution and where is it applied?"
      ],
      "metadata": {
        "id": "D3OaVPp8JkXH"
      }
    },
    {
      "cell_type": "markdown",
      "source": [
        "Models rare events in a fixed interval of time or space.\n",
        "\n",
        "Formula:\n",
        "\n",
        "P(X=k)=\n",
        "λ^k\n",
        " e\n",
        "−λ/ k!\n",
        "\n",
        "\n",
        "Applications: Number of emails per hour, earthquakes per year."
      ],
      "metadata": {
        "id": "sj_9UNBQRJwI"
      }
    },
    {
      "cell_type": "markdown",
      "source": [
        "10. What is a continuous uniform distribution?"
      ],
      "metadata": {
        "id": "LC0_6OkUJkUG"
      }
    },
    {
      "cell_type": "markdown",
      "source": [
        "All values in interval [a,b] are equally likely.\n",
        "\n",
        "PDF:\n",
        "\n",
        "f\n",
        "(\n",
        "x\n",
        ")\n",
        "=\n",
        "1/\n",
        "b\n",
        "−\n",
        "a\n",
        ",\n",
        "\n",
        "\n",
        "a\n",
        "≤\n",
        "x\n",
        "≤\n",
        "b\n",
        "\n",
        "Example: Choosing random time between 1 PM and 2 PM."
      ],
      "metadata": {
        "id": "ypjecxCBRdhg"
      }
    },
    {
      "cell_type": "markdown",
      "source": [
        "11. What are the characteristics of a normal distribution?"
      ],
      "metadata": {
        "id": "dOzGgRNWJkQ2"
      }
    },
    {
      "cell_type": "markdown",
      "source": [
        "Bell-shaped, symmetric about mean.\n",
        "\n",
        "Defined by parameters: mean (µ), variance (σ²).\n",
        "\n",
        "68-95-99.7 Rule:\n",
        "\n",
        "68% data within 1σ\n",
        "\n",
        "95% within 2σ\n",
        "\n",
        "99.7% within 3σ"
      ],
      "metadata": {
        "id": "HlMSY6bQRpew"
      }
    },
    {
      "cell_type": "markdown",
      "source": [
        "12. What is the standard normal distribution, and why is it important?"
      ],
      "metadata": {
        "id": "f3f4T67eJkNm"
      }
    },
    {
      "cell_type": "markdown",
      "source": [
        "Special case of Normal with µ=0, σ=1.\n",
        "\n",
        "Used to compute Z-scores and probability lookups.\n",
        "\n",
        "Any Normal distribution can be standardized to Z form."
      ],
      "metadata": {
        "id": "VyY2WoeJRuAe"
      }
    },
    {
      "cell_type": "markdown",
      "source": [
        "13. What is the Central Limit Theorem (CLT), and why is it critical in statistics?"
      ],
      "metadata": {
        "id": "8RDHgpYcJkKO"
      }
    },
    {
      "cell_type": "markdown",
      "source": [
        "CLT: When sample size is large (n ≥ 30), the sample mean distribution → Normal, regardless of population distribution.\n",
        "\n",
        "Critical because → enables probability inference & hypothesis tests."
      ],
      "metadata": {
        "id": "SxoCKP88R0H4"
      }
    },
    {
      "cell_type": "markdown",
      "source": [
        "14. How does the Central Limit Theorem relate to the normal distribution?"
      ],
      "metadata": {
        "id": "3bnaZ49bJkHQ"
      }
    },
    {
      "cell_type": "markdown",
      "source": [
        "CLT explains why normal distribution appears frequently in real life.\n",
        "\n",
        "Sampling distribution of means always tends toward a normal."
      ],
      "metadata": {
        "id": "928qu4MyR19W"
      }
    },
    {
      "cell_type": "markdown",
      "source": [
        "15. What is the application of Z statistics in hypothesis testing?"
      ],
      "metadata": {
        "id": "B12KBoltJkD-"
      }
    },
    {
      "cell_type": "markdown",
      "source": [
        "Z-test checks if a sample mean significantly differs from the population mean.\n",
        "\n",
        "Formula:\n",
        "\n",
        "Z\n",
        "=\n",
        "(X\n",
        "−\n",
        "μ)/\n",
        "σ\n",
        "/\n",
        "sqrt(n)\n",
        "\n"
      ],
      "metadata": {
        "id": "vgvHl9dkR5Rf"
      }
    },
    {
      "cell_type": "markdown",
      "source": [
        "16. How do you calculate a Z-score, and what does it represent?"
      ],
      "metadata": {
        "id": "7EYxiFy6JkAn"
      }
    },
    {
      "cell_type": "markdown",
      "source": [
        "Formula:\n",
        "\n",
        "Z\n",
        "=\n",
        "X\n",
        "−\n",
        "μ/\n",
        "σ\n",
        "\n",
        "\n",
        "Interprets how far X is from mean in standard deviations.\n",
        "\n",
        "Example: If class mean=70, σ=10, a student with 85 → Z=+1.5."
      ],
      "metadata": {
        "id": "yTQMyoJDSSuu"
      }
    },
    {
      "cell_type": "markdown",
      "source": [
        "17. What are point estimates and interval estimates in statistics?"
      ],
      "metadata": {
        "id": "IrlM_-BrJj82"
      }
    },
    {
      "cell_type": "markdown",
      "source": [
        "Point Estimate: Single value (sample mean, variance).\n",
        "\n",
        "Interval Estimate: Range of values → Confidence Interval (CI)"
      ],
      "metadata": {
        "id": "S7PlAQvcSdpv"
      }
    },
    {
      "cell_type": "markdown",
      "source": [
        "18. What is the significance of confidence intervals in statistical analysis?"
      ],
      "metadata": {
        "id": "-6kmH4F2Jj5X"
      }
    },
    {
      "cell_type": "markdown",
      "source": [
        "CI gives range of plausible values for population parameter.\n",
        "\n",
        "If CI does not include hypothesized mean → reject null hypothesis.\n",
        "\n",
        "Example: 95% CI = → true mean lies in this interval with 95% confidence.\n",
        "\n"
      ],
      "metadata": {
        "id": "lOnE206iShd_"
      }
    },
    {
      "cell_type": "markdown",
      "source": [
        "19. What is the relationship between a Z-score and a confidence interval?"
      ],
      "metadata": {
        "id": "JiCWfXOJJj14"
      }
    },
    {
      "cell_type": "markdown",
      "source": [
        "CI is based on Z critical values:\n",
        "\n",
        "![Screenshot 2025-08-20 154640.png](data:image/png;base64,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)\n"
      ],
      "metadata": {
        "id": "88eNTB7RSkjg"
      }
    },
    {
      "cell_type": "markdown",
      "source": [
        "20. How are Z-scores used to compare different distributions?"
      ],
      "metadata": {
        "id": "lVojxOnaJjyQ"
      }
    },
    {
      "cell_type": "markdown",
      "source": [
        "Z-scores normalize datasets → mean 0, variance 1.\n",
        "\n",
        "Useful to compare scores from different exams/scales."
      ],
      "metadata": {
        "id": "OsxjsSIuTHRQ"
      }
    },
    {
      "cell_type": "markdown",
      "source": [
        "21. What are the assumptions for applying the Central Limit Theorem?"
      ],
      "metadata": {
        "id": "qeDBMRUqJju3"
      }
    },
    {
      "cell_type": "markdown",
      "source": [
        "Randomly selected samples.\n",
        "\n",
        "Independence of observations.\n",
        "\n",
        "Identically distributed variables.\n",
        "\n",
        "Large n (rule of thumb: n ≥ 30)."
      ],
      "metadata": {
        "id": "jXUx_jVITkjg"
      }
    },
    {
      "cell_type": "markdown",
      "source": [
        "22. What is the concept of expected value in a probability distribution?"
      ],
      "metadata": {
        "id": "x2MdDQcaJjrh"
      }
    },
    {
      "cell_type": "markdown",
      "source": [
        "Weighted average of all possible outcomes.\n",
        "\n",
        "Formula:![Screenshot 2025-08-20 154818.png](data:image/png;base64,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)\n",
        "\n"
      ],
      "metadata": {
        "id": "yW-maTI1Tp5A"
      }
    },
    {
      "cell_type": "markdown",
      "source": [
        "23. How does a probability distribution relate to the expected outcome of a random variable?"
      ],
      "metadata": {
        "id": "-wwrE0YHJjn_"
      }
    },
    {
      "cell_type": "markdown",
      "source": [
        "Distribution defines the likelihood of possible outcomes.\n",
        "\n",
        "The expected outcome (mean) is the \"long-run average\" predicted by the distribution.\n",
        "\n"
      ],
      "metadata": {
        "id": "aAvt1ZviJjgm"
      }
    },
    {
      "cell_type": "markdown",
      "source": [],
      "metadata": {
        "id": "3JH7pNT2JjdZ"
      }
    },
    {
      "cell_type": "markdown",
      "source": [],
      "metadata": {
        "id": "QAXC_zriJjZf"
      }
    },
    {
      "cell_type": "markdown",
      "source": [],
      "metadata": {
        "id": "c0rb5fD2JjWO"
      }
    },
    {
      "cell_type": "markdown",
      "source": [],
      "metadata": {
        "id": "4Q37KNt-JjTG"
      }
    },
    {
      "cell_type": "markdown",
      "source": [],
      "metadata": {
        "id": "Epdf36GTJjPQ"
      }
    },
    {
      "cell_type": "markdown",
      "source": [],
      "metadata": {
        "id": "0d7z-wFSJjMA"
      }
    },
    {
      "cell_type": "markdown",
      "source": [],
      "metadata": {
        "id": "H2r8m3nPJjI2"
      }
    },
    {
      "cell_type": "markdown",
      "source": [],
      "metadata": {
        "id": "Z5N5gSWSJjFe"
      }
    },
    {
      "cell_type": "markdown",
      "source": [],
      "metadata": {
        "id": "ARDUEi5EJjCQ"
      }
    },
    {
      "cell_type": "markdown",
      "source": [],
      "metadata": {
        "id": "Fgnjf9J1Ji_A"
      }
    },
    {
      "cell_type": "markdown",
      "source": [],
      "metadata": {
        "id": "2a4h7-Z6Ji7m"
      }
    },
    {
      "cell_type": "markdown",
      "source": [],
      "metadata": {
        "id": "4cPHdsj7Ji4P"
      }
    },
    {
      "cell_type": "markdown",
      "source": [],
      "metadata": {
        "id": "VJSNBZlBJi1Q"
      }
    },
    {
      "cell_type": "markdown",
      "source": [],
      "metadata": {
        "id": "n2Y0X0PdJixv"
      }
    },
    {
      "cell_type": "markdown",
      "source": [],
      "metadata": {
        "id": "jufkeX-3JiuQ"
      }
    },
    {
      "cell_type": "markdown",
      "source": [],
      "metadata": {
        "id": "zWopn9QQJioP"
      }
    },
    {
      "cell_type": "markdown",
      "source": [],
      "metadata": {
        "id": "__hmiF1fJik-"
      }
    },
    {
      "cell_type": "markdown",
      "source": [],
      "metadata": {
        "id": "ZLT3U9tXJihv"
      }
    },
    {
      "cell_type": "markdown",
      "source": [],
      "metadata": {
        "id": "N3e00ZXoJieX"
      }
    },
    {
      "cell_type": "markdown",
      "source": [],
      "metadata": {
        "id": "tWB2P9yhJibH"
      }
    },
    {
      "cell_type": "markdown",
      "source": [],
      "metadata": {
        "id": "kIbgmF5mJiXm"
      }
    },
    {
      "cell_type": "markdown",
      "source": [],
      "metadata": {
        "id": "qPfYz4o3JiUe"
      }
    },
    {
      "cell_type": "markdown",
      "source": [],
      "metadata": {
        "id": "J53KsrpZJiRm"
      }
    },
    {
      "cell_type": "markdown",
      "source": [],
      "metadata": {
        "id": "AMXUybf-JiOQ"
      }
    },
    {
      "cell_type": "markdown",
      "source": [],
      "metadata": {
        "id": "iVVu0EXQJiKh"
      }
    },
    {
      "cell_type": "markdown",
      "source": [],
      "metadata": {
        "id": "sPE6olZkJiHO"
      }
    },
    {
      "cell_type": "markdown",
      "source": [],
      "metadata": {
        "id": "nCohH24KJiEA"
      }
    },
    {
      "cell_type": "markdown",
      "source": [],
      "metadata": {
        "id": "xq6n5XuAJiAe"
      }
    },
    {
      "cell_type": "markdown",
      "source": [],
      "metadata": {
        "id": "G1JPaLYEJh9X"
      }
    },
    {
      "cell_type": "markdown",
      "source": [],
      "metadata": {
        "id": "q7C3sLcoJh6A"
      }
    },
    {
      "cell_type": "markdown",
      "source": [],
      "metadata": {
        "id": "IQVHbto8Jh2n"
      }
    },
    {
      "cell_type": "markdown",
      "source": [],
      "metadata": {
        "id": "bKfdhru4JhzZ"
      }
    },
    {
      "cell_type": "markdown",
      "source": [],
      "metadata": {
        "id": "BaWdJ_V_JhvH"
      }
    },
    {
      "cell_type": "markdown",
      "source": [],
      "metadata": {
        "id": "Yw57MxVQJhrw"
      }
    },
    {
      "cell_type": "markdown",
      "source": [],
      "metadata": {
        "id": "Ux8l4u3-JhZA"
      }
    }
  ]
}
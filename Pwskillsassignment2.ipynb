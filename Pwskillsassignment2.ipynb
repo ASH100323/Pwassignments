{
  "nbformat": 4,
  "nbformat_minor": 0,
  "metadata": {
    "colab": {
      "provenance": []
    },
    "kernelspec": {
      "name": "python3",
      "display_name": "Python 3"
    },
    "language_info": {
      "name": "python"
    }
  },
  "cells": [
    {
      "cell_type": "markdown",
      "source": [
        "1. What are data structures, and why are they important?"
      ],
      "metadata": {
        "id": "bfi215Rr0tcv"
      }
    },
    {
      "cell_type": "markdown",
      "source": [
        "Data structures are ways of organizing and storing data in a computer so it can be accessed and modified efficiently. They're important because they optimize operations like searching, insertion, deletion, and data management."
      ],
      "metadata": {
        "id": "ka1tgGDA0lyH"
      }
    },
    {
      "cell_type": "markdown",
      "source": [
        "2. Explain the difference between mutable and immutable data types with examples."
      ],
      "metadata": {
        "id": "Z1KPSM8q0pFE"
      }
    },
    {
      "cell_type": "markdown",
      "source": [
        "Mutable: Can be changed after creation. Example: List → my_list = [1, 2, 3]\n",
        "\n",
        "Immutable: Cannot be changed after creation. Example: String → name = \"Ashmi\""
      ],
      "metadata": {
        "id": "t-Vnsptc0bzZ"
      }
    },
    {
      "cell_type": "markdown",
      "source": [
        "3. What are the main differences between lists and tuples in Python."
      ],
      "metadata": {
        "id": "pvgE974o0cFv"
      }
    },
    {
      "cell_type": "markdown",
      "source": [
        "Lists are mutable, tuples are immutable.\n",
        "\n",
        "Lists use [], tuples use ().\n",
        "\n",
        "Tuples are faster and used for fixed collections of data."
      ],
      "metadata": {
        "id": "Dj5yzMyszrwV"
      }
    },
    {
      "cell_type": "markdown",
      "source": [
        "4. Describe how dictionaries store data."
      ],
      "metadata": {
        "id": "cIm3cyjkzrHA"
      }
    },
    {
      "cell_type": "markdown",
      "source": [
        "Dictionaries store data in key-value pairs using a hash map under the hood, allowing fast retrieval by key."
      ],
      "metadata": {
        "id": "fdRKuIP2W7A7"
      }
    },
    {
      "cell_type": "markdown",
      "source": [
        "5. Why might you use a set instead of a list in Python?"
      ],
      "metadata": {
        "id": "begSQNZ6W7SN"
      }
    },
    {
      "cell_type": "markdown",
      "source": [
        "Sets do not allow duplicate values and offer faster membership testing than lists."
      ],
      "metadata": {
        "id": "Bl9gjK6JXA93"
      }
    },
    {
      "cell_type": "markdown",
      "source": [
        "6. What is a string in Python, and how is it different from a list?"
      ],
      "metadata": {
        "id": "wqVNKRTCXBRH"
      }
    },
    {
      "cell_type": "markdown",
      "source": [
        "A string is an immutable sequence of characters, whereas a list is a mutable sequence of elements (which can include strings)."
      ],
      "metadata": {
        "id": "mD6DR84mXHY5"
      }
    },
    {
      "cell_type": "markdown",
      "source": [
        "7. How do tuples ensure data integrity in Python?"
      ],
      "metadata": {
        "id": "c7L_xEYMXHoB"
      }
    },
    {
      "cell_type": "markdown",
      "source": [
        "Tuples are immutable, so their data cannot be accidentally modified, ensuring data integrity."
      ],
      "metadata": {
        "id": "tUxoM4V8XOHg"
      }
    },
    {
      "cell_type": "markdown",
      "source": [
        "8. What is a hash table, and how does it relate to dictionaries in Python?"
      ],
      "metadata": {
        "id": "Bb8F8BYYXOc-"
      }
    },
    {
      "cell_type": "markdown",
      "source": [
        "A hash table is a data structure that maps keys to values using a hash function. Python’s dictionary uses this internally."
      ],
      "metadata": {
        "id": "FcgNcnNZXf6E"
      }
    },
    {
      "cell_type": "markdown",
      "source": [
        "9. Can lists contain different data types in Python?"
      ],
      "metadata": {
        "id": "6yO_lsGyXgJy"
      }
    },
    {
      "cell_type": "markdown",
      "source": [
        "Yes.\n",
        "Example: my_list = [1, \"hello\", 3.14, True]"
      ],
      "metadata": {
        "id": "_yPTMLVoXl9C"
      }
    },
    {
      "cell_type": "markdown",
      "source": [
        "10. Explain why strings are immutable in Python?"
      ],
      "metadata": {
        "id": "NwPlUdR6XnJZ"
      }
    },
    {
      "cell_type": "markdown",
      "source": [
        "For efficiency, safety, and optimization; changing a string creates a new one rather than modifying the existing one."
      ],
      "metadata": {
        "id": "XkioaViGXuZN"
      }
    },
    {
      "cell_type": "markdown",
      "source": [
        "11. What advantages do dictionaries offer over lists for certain tasks?"
      ],
      "metadata": {
        "id": "Mzr0a2rYXu_X"
      }
    },
    {
      "cell_type": "markdown",
      "source": [
        "(1) Faster lookups using keys\n",
        "(2) Organizes data in key-value pairs\n",
        "(3) More readable when data has named labels\n",
        "\n",
        "\n"
      ],
      "metadata": {
        "id": "NeqHjkvBX6qJ"
      }
    },
    {
      "cell_type": "markdown",
      "source": [
        "12. Describe a scenario where using a tuple would be preferable over a list."
      ],
      "metadata": {
        "id": "Uu4Ke-0-X7Dl"
      }
    },
    {
      "cell_type": "markdown",
      "source": [
        "Storing coordinates (x, y), RGB color values, or fixed configuration values that shouldn't change."
      ],
      "metadata": {
        "id": "r7wJNW1iYH0w"
      }
    },
    {
      "cell_type": "markdown",
      "source": [
        "13.  How do sets handle duplicate values in Python?"
      ],
      "metadata": {
        "id": "HrrvV1CrYIHQ"
      }
    },
    {
      "cell_type": "markdown",
      "source": [
        "Sets automatically eliminate duplicates.\n",
        "Example: set([1, 2, 2, 3]) → {1, 2, 3}"
      ],
      "metadata": {
        "id": "-t6xfV4wYOzY"
      }
    },
    {
      "cell_type": "markdown",
      "source": [
        "14. How does the “in” keyword work differently for lists and dictionaries?"
      ],
      "metadata": {
        "id": "K2Om7FPUYPdp"
      }
    },
    {
      "cell_type": "markdown",
      "source": [
        "In lists: checks if value is in the list.\n",
        "\n",
        "In dictionaries: checks if the key exists.\n",
        "\n"
      ],
      "metadata": {
        "id": "QKsstFk7YV1l"
      }
    },
    {
      "cell_type": "markdown",
      "source": [
        "15. Can you modify the elements of a tuple? Explain why or why not?"
      ],
      "metadata": {
        "id": "XX_GEnU7YWJI"
      }
    },
    {
      "cell_type": "markdown",
      "source": [
        "No. Tuples are immutable, meaning once created, they cannot be changed."
      ],
      "metadata": {
        "id": "j0fAIN0fYbjW"
      }
    },
    {
      "cell_type": "markdown",
      "source": [
        "16. What is a nested dictionary, and give an example of its use case?"
      ],
      "metadata": {
        "id": "1hy14k7NYb5q"
      }
    },
    {
      "cell_type": "markdown",
      "source": [
        "A dictionary inside another dictionary.\n",
        "Example:\n",
        "student = {\"name\": \"Ashmi\", \"marks\": {\"math\": 90, \"science\": 95}}"
      ],
      "metadata": {
        "id": "vA3y9zEiYhGX"
      }
    },
    {
      "cell_type": "markdown",
      "source": [
        "17. Describe the time complexity of accessing elements in a dictionary."
      ],
      "metadata": {
        "id": "LA1_RfOFYhuN"
      }
    },
    {
      "cell_type": "markdown",
      "source": [
        "Average case: O(1) (constant time) due to hashing."
      ],
      "metadata": {
        "id": "FJetKenkYmuI"
      }
    },
    {
      "cell_type": "markdown",
      "source": [
        "18. In what situations are lists preferred over dictionaries?"
      ],
      "metadata": {
        "id": "0EZ0T3YdYnVs"
      }
    },
    {
      "cell_type": "markdown",
      "source": [
        "When data is ordered, indexed by position, or when key-value access isn’t needed."
      ],
      "metadata": {
        "id": "gY2ycAtuYvMh"
      }
    },
    {
      "cell_type": "markdown",
      "source": [
        "19. Why are dictionaries considered unordered, and how does that affect data retrieval?"
      ],
      "metadata": {
        "id": "eQac1_QsYvxU"
      }
    },
    {
      "cell_type": "markdown",
      "source": [
        "Prior to Python 3.7, dictionaries did not maintain insertion order. Retrieval is by key, not by position."
      ],
      "metadata": {
        "id": "d_ojVbInY1fH"
      }
    },
    {
      "cell_type": "markdown",
      "source": [
        "20. Explain the difference between a list and a dictionary in terms of data retrieval."
      ],
      "metadata": {
        "id": "cQVtR1DyY1w9"
      }
    },
    {
      "cell_type": "markdown",
      "source": [
        "List: retrieve by index\n",
        "\n",
        "Dictionary: retrieve by key\n",
        "\n"
      ],
      "metadata": {
        "id": "P4bEq4NuY7pO"
      }
    },
    {
      "cell_type": "markdown",
      "source": [
        "Practical Questions:"
      ],
      "metadata": {
        "id": "uwPcN2S4Y87Y"
      }
    },
    {
      "cell_type": "markdown",
      "source": [
        "1. Write a code to create a string with your name and print it?"
      ],
      "metadata": {
        "id": "mbOx_SLlZD9U"
      }
    },
    {
      "cell_type": "code",
      "source": [
        "name = \"Ashmi\"\n",
        "print(name)"
      ],
      "metadata": {
        "id": "WOVgSD5YZNer",
        "colab": {
          "base_uri": "https://localhost:8080/"
        },
        "outputId": "9ba619e8-2bb7-4e78-abe8-d30c45f27d53"
      },
      "execution_count": 1,
      "outputs": [
        {
          "output_type": "stream",
          "name": "stdout",
          "text": [
            "Ashmi\n"
          ]
        }
      ]
    },
    {
      "cell_type": "markdown",
      "source": [
        "2. Write a code to find the length of the string \"Hello World\"?"
      ],
      "metadata": {
        "id": "DoGWaCBCZOMe"
      }
    },
    {
      "cell_type": "code",
      "source": [
        "print(len(\"Hello World\"))"
      ],
      "metadata": {
        "id": "CTiwI69xZXMi",
        "colab": {
          "base_uri": "https://localhost:8080/"
        },
        "outputId": "4864090b-9038-46d8-99b3-d3216493e1ab"
      },
      "execution_count": 2,
      "outputs": [
        {
          "output_type": "stream",
          "name": "stdout",
          "text": [
            "11\n"
          ]
        }
      ]
    },
    {
      "cell_type": "markdown",
      "source": [
        "3. Write a code to slice the first 3 characters from the string \"Python Programming\"?"
      ],
      "metadata": {
        "id": "NQL0GebiZXdJ"
      }
    },
    {
      "cell_type": "code",
      "source": [
        "print(\"Python Programming\"[:3])"
      ],
      "metadata": {
        "id": "vwkZkR__ZeSs",
        "colab": {
          "base_uri": "https://localhost:8080/"
        },
        "outputId": "21daf3a1-c683-4804-8fc1-97ceded2edb0"
      },
      "execution_count": 3,
      "outputs": [
        {
          "output_type": "stream",
          "name": "stdout",
          "text": [
            "Pyt\n"
          ]
        }
      ]
    },
    {
      "cell_type": "markdown",
      "source": [
        "4. Write a code to convert the string \"hello\" to uppercase."
      ],
      "metadata": {
        "id": "OE9qmrMOZfIE"
      }
    },
    {
      "cell_type": "code",
      "source": [
        "print(\"Hello\".upper())"
      ],
      "metadata": {
        "id": "CloXBQDbZkuR",
        "colab": {
          "base_uri": "https://localhost:8080/"
        },
        "outputId": "1d311b34-b9c7-4123-c211-21857fad3d8f"
      },
      "execution_count": 4,
      "outputs": [
        {
          "output_type": "stream",
          "name": "stdout",
          "text": [
            "HELLO\n"
          ]
        }
      ]
    },
    {
      "cell_type": "markdown",
      "source": [
        "5. Write a code to replace the word \"apple\" with \"orange\" in the string \"I like apple\"."
      ],
      "metadata": {
        "id": "xo6wAmGzZlbA"
      }
    },
    {
      "cell_type": "code",
      "source": [
        "print(\"I like apple\".replace(\"apple\", \"orange\"))"
      ],
      "metadata": {
        "id": "YUKC1PcVZrXY",
        "colab": {
          "base_uri": "https://localhost:8080/"
        },
        "outputId": "54e9e449-40de-4c00-c1fe-c58a27a45956"
      },
      "execution_count": 5,
      "outputs": [
        {
          "output_type": "stream",
          "name": "stdout",
          "text": [
            "I like orange\n"
          ]
        }
      ]
    },
    {
      "cell_type": "markdown",
      "source": [
        "6. Create a list with numbers 1 to 5 and print it"
      ],
      "metadata": {
        "id": "cU5vHhMrZr2_"
      }
    },
    {
      "cell_type": "code",
      "source": [
        "numbers = [1, 2, 3, 4, 5]\n",
        "print(numbers)"
      ],
      "metadata": {
        "id": "jBsDDW38ZyyB",
        "colab": {
          "base_uri": "https://localhost:8080/"
        },
        "outputId": "b83f757b-ee53-4681-8a37-7434f116260f"
      },
      "execution_count": 6,
      "outputs": [
        {
          "output_type": "stream",
          "name": "stdout",
          "text": [
            "[1, 2, 3, 4, 5]\n"
          ]
        }
      ]
    },
    {
      "cell_type": "markdown",
      "source": [
        "7. Write a code to append the number 10 to the list [1, 2, 3, 4]."
      ],
      "metadata": {
        "id": "Qw7dcKYjZzCb"
      }
    },
    {
      "cell_type": "code",
      "source": [
        "my_list = [1, 2, 3, 4]\n",
        "my_list.append(10)\n",
        "print(my_list)"
      ],
      "metadata": {
        "id": "o3voGFqqZ7tz"
      },
      "execution_count": null,
      "outputs": []
    },
    {
      "cell_type": "markdown",
      "source": [
        "8. Write a code to remove the number 3 from the list [1, 2, 3, 4, 5]."
      ],
      "metadata": {
        "id": "u4dVeL8fZ8Qy"
      }
    },
    {
      "cell_type": "code",
      "source": [
        "my_list = [1, 2, 3, 4, 5]\n",
        "my_list.remove(3)\n",
        "print(my_list)"
      ],
      "metadata": {
        "id": "HxFz637waBkf",
        "colab": {
          "base_uri": "https://localhost:8080/"
        },
        "outputId": "9efd6241-d659-434e-cd5c-38b8d28bf665"
      },
      "execution_count": 7,
      "outputs": [
        {
          "output_type": "stream",
          "name": "stdout",
          "text": [
            "[1, 2, 4, 5]\n"
          ]
        }
      ]
    },
    {
      "cell_type": "markdown",
      "source": [
        "9. Write a code to access the second element in the list ['a', 'b', 'c', 'd']."
      ],
      "metadata": {
        "id": "pAuSqhSTaCI1"
      }
    },
    {
      "cell_type": "code",
      "source": [
        "my_list =  ['a', 'b', 'c', 'd']\n",
        "print(my_list[1])"
      ],
      "metadata": {
        "id": "b7LbFr5CaHk4"
      },
      "execution_count": null,
      "outputs": []
    },
    {
      "cell_type": "markdown",
      "source": [
        "10. Write a code to reverse the list [10, 20, 30, 40, 50]."
      ],
      "metadata": {
        "id": "883Xey5AaIC6"
      }
    },
    {
      "cell_type": "code",
      "source": [
        "l = [10,20,30,40,50]\n",
        "l.reverse()\n",
        "print(l)"
      ],
      "metadata": {
        "colab": {
          "base_uri": "https://localhost:8080/"
        },
        "id": "NxxHQeDfUJXK",
        "outputId": "a88912b5-1efd-4c40-b234-afed95a4b4f0"
      },
      "execution_count": 8,
      "outputs": [
        {
          "output_type": "stream",
          "name": "stdout",
          "text": [
            "[50, 40, 30, 20, 10]\n"
          ]
        }
      ]
    },
    {
      "cell_type": "code",
      "source": [
        "l = [10,20,30,40,50]\n",
        "print(l[::-1])"
      ],
      "metadata": {
        "colab": {
          "base_uri": "https://localhost:8080/"
        },
        "id": "Zc26SHmbau8S",
        "outputId": "a01336cf-c1fe-4395-cdd4-40949be6e57e"
      },
      "execution_count": 9,
      "outputs": [
        {
          "output_type": "stream",
          "name": "stdout",
          "text": [
            "[50, 40, 30, 20, 10]\n"
          ]
        }
      ]
    },
    {
      "cell_type": "markdown",
      "source": [
        "11. Write a code to create a tuple with the elements 100, 200, 300 and print it."
      ],
      "metadata": {
        "id": "xP4pvuzGUJsC"
      }
    },
    {
      "cell_type": "code",
      "source": [
        "tuple = (100, 200, 300)\n",
        "print(tuple)"
      ],
      "metadata": {
        "colab": {
          "base_uri": "https://localhost:8080/"
        },
        "id": "y_9GJdzAUm9i",
        "outputId": "2d6d3fa3-5998-41f2-eba3-8e78c1e73d98"
      },
      "execution_count": 10,
      "outputs": [
        {
          "output_type": "stream",
          "name": "stdout",
          "text": [
            "(100, 200, 300)\n"
          ]
        }
      ]
    },
    {
      "cell_type": "markdown",
      "source": [
        "12.  Write a code to access the second-to-last element of the tuple ('red', 'green', 'blue', 'yellow')."
      ],
      "metadata": {
        "id": "vfUEYszNUnQK"
      }
    },
    {
      "cell_type": "code",
      "source": [
        "tuple = ('red', 'green', 'blue', 'yellow')\n",
        "print(tuple[-2])"
      ],
      "metadata": {
        "colab": {
          "base_uri": "https://localhost:8080/"
        },
        "id": "P7LanDvzUwoy",
        "outputId": "20545a4a-c0c8-475d-83c5-9a4b84c93db3"
      },
      "execution_count": 11,
      "outputs": [
        {
          "output_type": "stream",
          "name": "stdout",
          "text": [
            "blue\n"
          ]
        }
      ]
    },
    {
      "cell_type": "markdown",
      "source": [
        "13.  Write a code to find the minimum number in the tuple (10, 20, 5, 15)."
      ],
      "metadata": {
        "id": "NMbafSY0Uw-Z"
      }
    },
    {
      "cell_type": "code",
      "source": [
        "tuple = (10, 20, 5, 15)\n",
        "print(min(tuple))"
      ],
      "metadata": {
        "colab": {
          "base_uri": "https://localhost:8080/"
        },
        "id": "L4pf8dTUU1J6",
        "outputId": "845fea2d-1ff9-4276-e825-a27001205bd3"
      },
      "execution_count": 12,
      "outputs": [
        {
          "output_type": "stream",
          "name": "stdout",
          "text": [
            "5\n"
          ]
        }
      ]
    },
    {
      "cell_type": "markdown",
      "source": [
        "4. Write a code to find the index of the element \"cat\" in the tuple ('dog', 'cat', 'rabbit')."
      ],
      "metadata": {
        "id": "VHauLGe0U1yh"
      }
    },
    {
      "cell_type": "code",
      "source": [
        "animals = ('dog', 'cat', 'rabbit')\n",
        "print(animals.index('cat'))"
      ],
      "metadata": {
        "colab": {
          "base_uri": "https://localhost:8080/"
        },
        "id": "NU_ejMsfU56C",
        "outputId": "9a8f9ed7-c62c-410a-acf7-15ec3cb3626a"
      },
      "execution_count": 13,
      "outputs": [
        {
          "output_type": "stream",
          "name": "stdout",
          "text": [
            "1\n"
          ]
        }
      ]
    },
    {
      "cell_type": "markdown",
      "source": [
        "15. Write a code to create a tuple containing three different fruits and check if \"kiwi\" is in it.\n",
        "\n"
      ],
      "metadata": {
        "id": "2KR0hRWJU4Xx"
      }
    },
    {
      "cell_type": "code",
      "source": [
        "fruit = (\"apple\", \"kiwi\", \"orange\")\n",
        "print (\"kiwi\" in fruit)"
      ],
      "metadata": {
        "colab": {
          "base_uri": "https://localhost:8080/"
        },
        "id": "72ID8-SYU9-B",
        "outputId": "b6f52d35-50f6-44ec-d4bc-b235345b1198"
      },
      "execution_count": 14,
      "outputs": [
        {
          "output_type": "stream",
          "name": "stdout",
          "text": [
            "True\n"
          ]
        }
      ]
    },
    {
      "cell_type": "markdown",
      "source": [
        "16. Write a code to create a set with the elements 'a', 'b', 'c' and print it."
      ],
      "metadata": {
        "id": "zUwSuji4U-fZ"
      }
    },
    {
      "cell_type": "code",
      "source": [
        "set = {'a','b','c'}\n",
        "print(set)"
      ],
      "metadata": {
        "colab": {
          "base_uri": "https://localhost:8080/"
        },
        "id": "k633N2I-VBXK",
        "outputId": "5da77a6a-12d0-4916-b713-79c005267b37"
      },
      "execution_count": 15,
      "outputs": [
        {
          "output_type": "stream",
          "name": "stdout",
          "text": [
            "{'c', 'a', 'b'}\n"
          ]
        }
      ]
    },
    {
      "cell_type": "markdown",
      "source": [
        "17. Write a code to clear all elements from the set {1, 2, 3, 4, 5}."
      ],
      "metadata": {
        "id": "wly0lTu2VDfK"
      }
    },
    {
      "cell_type": "code",
      "source": [
        "s = {1, 2, 3, 4, 5}\n",
        "s.clear()\n",
        "print(s)"
      ],
      "metadata": {
        "colab": {
          "base_uri": "https://localhost:8080/"
        },
        "id": "m9bsa_ZQVC6h",
        "outputId": "c5f5f273-5944-44f5-ba02-7a4883aa8e9c"
      },
      "execution_count": 16,
      "outputs": [
        {
          "output_type": "stream",
          "name": "stdout",
          "text": [
            "set()\n"
          ]
        }
      ]
    },
    {
      "cell_type": "markdown",
      "source": [
        "18. Write a code to remove the element 4 from the set {1, 2, 3, 4}."
      ],
      "metadata": {
        "id": "cy8im8RPVG4C"
      }
    },
    {
      "cell_type": "code",
      "source": [
        "set = {1, 2, 3, 4}\n",
        "s.remove(4)\n",
        "print(s)"
      ],
      "metadata": {
        "id": "9JelxbKsVfLp"
      },
      "execution_count": null,
      "outputs": []
    },
    {
      "cell_type": "markdown",
      "source": [
        "19. Write a code to find the union of two sets {1, 2, 3} and {3, 4, 5}."
      ],
      "metadata": {
        "id": "MPwQDGEjVLHZ"
      }
    },
    {
      "cell_type": "code",
      "source": [
        "union = {1, 2, 3} | {3, 4, 5}\n",
        "print(union)"
      ],
      "metadata": {
        "colab": {
          "base_uri": "https://localhost:8080/"
        },
        "id": "83ExTlMZVLrJ",
        "outputId": "987965ee-67d1-454e-ffd4-ea6267688fc4"
      },
      "execution_count": 17,
      "outputs": [
        {
          "output_type": "stream",
          "name": "stdout",
          "text": [
            "{1, 2, 3, 4, 5}\n"
          ]
        }
      ]
    },
    {
      "cell_type": "code",
      "source": [
        "u = {1,2,3}.union({3,4,5})\n",
        "print(u)"
      ],
      "metadata": {
        "colab": {
          "base_uri": "https://localhost:8080/"
        },
        "id": "cIMLndupcJNC",
        "outputId": "f53c3415-d503-4cb4-cb83-343a8f38bbbb"
      },
      "execution_count": 19,
      "outputs": [
        {
          "output_type": "stream",
          "name": "stdout",
          "text": [
            "{1, 2, 3, 4, 5}\n"
          ]
        }
      ]
    },
    {
      "cell_type": "markdown",
      "source": [
        "20. Write a code to find the intersection of two sets {1, 2, 3} and {2, 3, 4}."
      ],
      "metadata": {
        "id": "y1HEc690VXuh"
      }
    },
    {
      "cell_type": "code",
      "source": [
        "s = {1,2,3} & {2,3,4}\n",
        "print(s)"
      ],
      "metadata": {
        "colab": {
          "base_uri": "https://localhost:8080/"
        },
        "id": "yuQ0FBRTVl1p",
        "outputId": "00c17b4b-387d-4ed7-bc28-460a21a9c666"
      },
      "execution_count": 20,
      "outputs": [
        {
          "output_type": "stream",
          "name": "stdout",
          "text": [
            "{2, 3}\n"
          ]
        }
      ]
    },
    {
      "cell_type": "markdown",
      "source": [
        "21. Write a code to create a dictionary with the keys \"name\", \"age\", and \"city\", and print it."
      ],
      "metadata": {
        "id": "5ZfL6hTtViCB"
      }
    },
    {
      "cell_type": "code",
      "source": [
        "d = {\"name\": \"Ashmi\", \"age\": 20, \"city\": \"New York\"}\n",
        "print(d)"
      ],
      "metadata": {
        "colab": {
          "base_uri": "https://localhost:8080/"
        },
        "id": "BBUDs94CVijZ",
        "outputId": "def0247f-627b-464e-8f74-56c167b56d2c"
      },
      "execution_count": 21,
      "outputs": [
        {
          "output_type": "stream",
          "name": "stdout",
          "text": [
            "{'name': 'Ashmi', 'age': 20, 'city': 'New York'}\n"
          ]
        }
      ]
    },
    {
      "cell_type": "markdown",
      "source": [
        "22. Write a code to add a new key-value pair \"country\": \"USA\" to the dictionary {'name': 'John', 'age': 25}."
      ],
      "metadata": {
        "id": "0jGujSRhVkVB"
      }
    },
    {
      "cell_type": "code",
      "source": [
        "d= {'name': 'John', 'age': 25}\n",
        "d[\"country\"] = \"USA\"\n",
        "print(d)"
      ],
      "metadata": {
        "colab": {
          "base_uri": "https://localhost:8080/"
        },
        "id": "AywAfqaNVjKh",
        "outputId": "b6103c6c-6a33-4e10-e120-e3aadd184e9b"
      },
      "execution_count": 22,
      "outputs": [
        {
          "output_type": "stream",
          "name": "stdout",
          "text": [
            "{'name': 'John', 'age': 25, 'country': 'USA'}\n"
          ]
        }
      ]
    },
    {
      "cell_type": "markdown",
      "source": [
        "23. Write a code to access the value associated with the key \"name\" in the dictionary {'name': 'Alice', 'age': 30}."
      ],
      "metadata": {
        "id": "Q0YQt-ujVi1x"
      }
    },
    {
      "cell_type": "code",
      "source": [
        "d = {'name': 'Alice', 'age': 30}\n",
        "print(d[\"name\"])"
      ],
      "metadata": {
        "colab": {
          "base_uri": "https://localhost:8080/"
        },
        "id": "UVmhpEVWVuYh",
        "outputId": "c3de854d-c141-40b6-f6d5-5b2596747435"
      },
      "execution_count": 23,
      "outputs": [
        {
          "output_type": "stream",
          "name": "stdout",
          "text": [
            "Alice\n"
          ]
        }
      ]
    },
    {
      "cell_type": "markdown",
      "source": [
        "24. Write a code to remove the key \"age\" from the dictionary {'name': 'Bob', 'age': 22, 'city': 'New York'}."
      ],
      "metadata": {
        "id": "FDFGyTNiVu-5"
      }
    },
    {
      "cell_type": "code",
      "source": [
        "d = {'name': 'Bob', 'age': 22, 'city': 'New York'}\n",
        "del d[\"age\"]\n",
        "print(d)"
      ],
      "metadata": {
        "colab": {
          "base_uri": "https://localhost:8080/"
        },
        "id": "ML48KX1gVx6J",
        "outputId": "e3dd6788-a5fb-4d33-e6f4-66c7a0e4e83b"
      },
      "execution_count": 24,
      "outputs": [
        {
          "output_type": "stream",
          "name": "stdout",
          "text": [
            "{'name': 'Bob', 'city': 'New York'}\n"
          ]
        }
      ]
    },
    {
      "cell_type": "markdown",
      "source": [
        "25. Write a code to check if the key \"city\" exists in the dictionary {'name': 'Alice', 'city': 'Paris'}."
      ],
      "metadata": {
        "id": "u79pPUWUVyTB"
      }
    },
    {
      "cell_type": "code",
      "source": [
        "d = {'name': 'Alice', 'city': 'Paris'}\n",
        "print(\"city\" in d)"
      ],
      "metadata": {
        "colab": {
          "base_uri": "https://localhost:8080/"
        },
        "id": "46TqyFf9V0kh",
        "outputId": "c929a6b2-5968-48be-ce04-41fb605fb9cd"
      },
      "execution_count": 25,
      "outputs": [
        {
          "output_type": "stream",
          "name": "stdout",
          "text": [
            "True\n"
          ]
        }
      ]
    },
    {
      "cell_type": "markdown",
      "source": [
        "26. Write a code to create a list, a tuple, and a dictionary, and print them all."
      ],
      "metadata": {
        "id": "yJYzJmeRV1QJ"
      }
    },
    {
      "cell_type": "code",
      "source": [
        "lst = [1, 2, 3]\n",
        "tup = (4, 5, 6)\n",
        "dct = {\"a\": 1, \"b\": 2}\n",
        "print(lst, tup, dct)"
      ],
      "metadata": {
        "colab": {
          "base_uri": "https://localhost:8080/"
        },
        "id": "bdpyTYrXV3-y",
        "outputId": "6d0ccea6-9a94-41f8-da9f-a37e60bcb3ed"
      },
      "execution_count": 26,
      "outputs": [
        {
          "output_type": "stream",
          "name": "stdout",
          "text": [
            "[1, 2, 3] (4, 5, 6) {'a': 1, 'b': 2}\n"
          ]
        }
      ]
    },
    {
      "cell_type": "markdown",
      "source": [
        "27. Write a code to create a list of 5 random numbers between 1 and 100, sort it in ascending order, and print the\n",
        "result.(replaced)"
      ],
      "metadata": {
        "id": "wFtHOtmVV4bU"
      }
    },
    {
      "cell_type": "code",
      "source": [
        "import random\n",
        "rand_nums = random.sample(range(1, 101), 5)\n",
        "rand_nums.sort()\n",
        "print(rand_nums)"
      ],
      "metadata": {
        "colab": {
          "base_uri": "https://localhost:8080/"
        },
        "id": "xpKSV4aLV7QT",
        "outputId": "9917c138-447b-436c-d870-48c2db5b91ef"
      },
      "execution_count": 27,
      "outputs": [
        {
          "output_type": "stream",
          "name": "stdout",
          "text": [
            "[25, 34, 39, 72, 86]\n"
          ]
        }
      ]
    },
    {
      "cell_type": "markdown",
      "source": [
        "28. Write a code to create a list with strings and print the element at the third index."
      ],
      "metadata": {
        "id": "2XAq6FdQV7iZ"
      }
    },
    {
      "cell_type": "code",
      "source": [
        "words = [\"apple\", \"banana\", \"cherry\", \"date\", \"elderberry\"]\n",
        "print(words[3])"
      ],
      "metadata": {
        "colab": {
          "base_uri": "https://localhost:8080/"
        },
        "id": "1p-mMkWSV_8Z",
        "outputId": "02b0e790-0f83-42a7-bfe3-06bb2f20d96c"
      },
      "execution_count": 28,
      "outputs": [
        {
          "output_type": "stream",
          "name": "stdout",
          "text": [
            "date\n"
          ]
        }
      ]
    },
    {
      "cell_type": "markdown",
      "source": [
        "29. Write a code to combine two dictionaries into one and print the result."
      ],
      "metadata": {
        "id": "2lN85NUlWCHr"
      }
    },
    {
      "cell_type": "code",
      "source": [
        "d1 = {\"a\": 1, \"b\": 2}\n",
        "d2 = {\"c\": 3, \"d\": 4}\n",
        "combined = {**d1, **d2}\n",
        "print(combined)"
      ],
      "metadata": {
        "colab": {
          "base_uri": "https://localhost:8080/"
        },
        "id": "9F_W1NQvWC6x",
        "outputId": "e57945b8-6dae-4820-e31f-98089dee3ba0"
      },
      "execution_count": 29,
      "outputs": [
        {
          "output_type": "stream",
          "name": "stdout",
          "text": [
            "{'a': 1, 'b': 2, 'c': 3, 'd': 4}\n"
          ]
        }
      ]
    },
    {
      "cell_type": "markdown",
      "source": [
        "30. Write a code to convert a list of strings into a set."
      ],
      "metadata": {
        "id": "W2l6qRj6WDaK"
      }
    },
    {
      "cell_type": "code",
      "source": [
        "my_list = [\"apple\", \"banana\", \"cherry\", \"apple\"]\n",
        "my_unique_set = set(my_list)\n",
        "print(my_unique_set)"
      ],
      "metadata": {
        "colab": {
          "base_uri": "https://localhost:8080/",
          "height": 176
        },
        "id": "Vp8fYEBsWGFT",
        "outputId": "319fefad-1701-433a-943a-6954a917f955"
      },
      "execution_count": 39,
      "outputs": [
        {
          "output_type": "error",
          "ename": "TypeError",
          "evalue": "'set' object is not callable",
          "traceback": [
            "\u001b[0;31m---------------------------------------------------------------------------\u001b[0m",
            "\u001b[0;31mTypeError\u001b[0m                                 Traceback (most recent call last)",
            "\u001b[0;32m/tmp/ipython-input-39-2654299880.py\u001b[0m in \u001b[0;36m<cell line: 0>\u001b[0;34m()\u001b[0m\n\u001b[1;32m      1\u001b[0m \u001b[0mmy_list\u001b[0m \u001b[0;34m=\u001b[0m \u001b[0;34m[\u001b[0m\u001b[0;34m\"apple\"\u001b[0m\u001b[0;34m,\u001b[0m \u001b[0;34m\"banana\"\u001b[0m\u001b[0;34m,\u001b[0m \u001b[0;34m\"cherry\"\u001b[0m\u001b[0;34m,\u001b[0m \u001b[0;34m\"apple\"\u001b[0m\u001b[0;34m]\u001b[0m\u001b[0;34m\u001b[0m\u001b[0;34m\u001b[0m\u001b[0m\n\u001b[0;32m----> 2\u001b[0;31m \u001b[0mmy_unique_set\u001b[0m \u001b[0;34m=\u001b[0m \u001b[0mset\u001b[0m\u001b[0;34m(\u001b[0m\u001b[0mmy_list\u001b[0m\u001b[0;34m)\u001b[0m\u001b[0;34m\u001b[0m\u001b[0;34m\u001b[0m\u001b[0m\n\u001b[0m\u001b[1;32m      3\u001b[0m \u001b[0mprint\u001b[0m\u001b[0;34m(\u001b[0m\u001b[0mmy_unique_set\u001b[0m\u001b[0;34m)\u001b[0m\u001b[0;34m\u001b[0m\u001b[0;34m\u001b[0m\u001b[0m\n",
            "\u001b[0;31mTypeError\u001b[0m: 'set' object is not callable"
          ]
        }
      ]
    },
    {
      "cell_type": "code",
      "source": [],
      "metadata": {
        "id": "kP_q7y0kfTDs"
      },
      "execution_count": null,
      "outputs": []
    }
  ]
}
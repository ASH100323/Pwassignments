{
  "nbformat": 4,
  "nbformat_minor": 0,
  "metadata": {
    "colab": {
      "provenance": []
    },
    "kernelspec": {
      "name": "python3",
      "display_name": "Python 3"
    },
    "language_info": {
      "name": "python"
    }
  },
  "cells": [
    {
      "cell_type": "markdown",
      "source": [
        "# Theoretical\n",
        "\n"
      ],
      "metadata": {
        "id": "UyPcZpaNgdKc"
      }
    },
    {
      "cell_type": "markdown",
      "source": [
        "1.  Can we use Bagging for regression problems?"
      ],
      "metadata": {
        "id": "TGRagrL4LE6i"
      }
    },
    {
      "cell_type": "markdown",
      "source": [
        "Yes, Bagging (Bootstrap Aggregating) can be used for regression problems. While often discussed in the context of classification, the principle of combining multiple models to reduce variance and improve stability applies equally well to regression tasks."
      ],
      "metadata": {
        "id": "ppm2DJH1kby6"
      }
    },
    {
      "cell_type": "markdown",
      "source": [
        "2. What is the difference between multiple model training and single model training?"
      ],
      "metadata": {
        "id": "ocmm1oZVLPpe"
      }
    },
    {
      "cell_type": "markdown",
      "source": [
        "The main difference lies in the number of models trained and how their predictions are combined. In single model training, one model is trained on the entire dataset. In multiple model training (like ensemble methods), several models are trained, often on different subsets of the data or with different initializations, and their predictions are then combined to produce a final output.\n"
      ],
      "metadata": {
        "id": "PFJjg66_lhih"
      }
    },
    {
      "cell_type": "markdown",
      "source": [
        "3. Explain the concept of feature randomness in Random Fores."
      ],
      "metadata": {
        "id": "P-Kq6aEJLVfn"
      }
    },
    {
      "cell_type": "markdown",
      "source": [
        "Feature randomness in Random Forest refers to the process where, at each split in the construction of individual decision trees, only a random subset of features is considered for finding the best split. This introduces diversity among the trees and helps to reduce correlation between them, leading to a more robust ensemble."
      ],
      "metadata": {
        "id": "ahG8X2_Glsna"
      }
    },
    {
      "cell_type": "markdown",
      "source": [
        "4. What is OOB (Out-of-Bag) Score?"
      ],
      "metadata": {
        "id": "Px0T42wOLZpD"
      }
    },
    {
      "cell_type": "markdown",
      "source": [
        "The OOB (Out-of-Bag) score is a method to estimate the generalization error of a Bagging model, such as a Random Forest, without the need for a separate validation set. For each data point, the OOB score is calculated using only the trees that were not trained on that specific data point during bootstrap sampling.\n"
      ],
      "metadata": {
        "id": "jKFLPSHalui5"
      }
    },
    {
      "cell_type": "markdown",
      "source": [
        "5. How can you measure the importance of features in a Random Forest model?"
      ],
      "metadata": {
        "id": "t56Cc6_XLdXX"
      }
    },
    {
      "cell_type": "markdown",
      "source": [
        "Feature importance in a Random Forest model can be measured by assessing how much each feature contributes to the reduction of impurity (e.g., Gini impurity for classification, mean squared error for regression) across all the trees in the forest. Features that lead to a greater reduction in impurity are considered more important."
      ],
      "metadata": {
        "id": "TZgY5MHpl1Kf"
      }
    },
    {
      "cell_type": "markdown",
      "source": [
        "6. Explain the working principle of a Bagging Classifier."
      ],
      "metadata": {
        "id": "zOzt0s0uLhRW"
      }
    },
    {
      "cell_type": "markdown",
      "source": [
        "A Bagging Classifier works by training multiple base classifiers (e.g., decision trees) on different bootstrap samples of the training data. For a new instance, each base classifier makes a prediction, and the final prediction is determined by majority voting among the predictions of the individual classifiers.\n"
      ],
      "metadata": {
        "id": "BVam1iG-l7Cy"
      }
    },
    {
      "cell_type": "markdown",
      "source": [
        "7. How do you evaluate a Bagging Classifier’s performance?"
      ],
      "metadata": {
        "id": "ewhebVeeLosW"
      }
    },
    {
      "cell_type": "markdown",
      "source": [
        "The performance of a Bagging Classifier can be evaluated using standard classification metrics such as accuracy, precision, recall, F1-score, and AUC-ROC. Additionally, the Out-of-Bag (OOB) score provides an internal estimate of performance without requiring a separate validation set.\n"
      ],
      "metadata": {
        "id": "nWiJrt4il_LR"
      }
    },
    {
      "cell_type": "markdown",
      "source": [
        "8. How does a Bagging Regressor work?"
      ],
      "metadata": {
        "id": "zCUvHy_ULsyC"
      }
    },
    {
      "cell_type": "markdown",
      "source": [
        "A Bagging Regressor works similarly to a Bagging Classifier but for regression tasks. Multiple base regressors are trained on different bootstrap samples of the training data. For a new instance, each base regressor makes a prediction, and the final prediction is typically the average of the predictions from the individual regressors.\n"
      ],
      "metadata": {
        "id": "Ow2A745QmC2f"
      }
    },
    {
      "cell_type": "markdown",
      "source": [
        "9. What is the main advantage of ensemble techniques?"
      ],
      "metadata": {
        "id": "4XLMI0XOLwic"
      }
    },
    {
      "cell_type": "markdown",
      "source": [
        "The main advantage of ensemble techniques is their ability to improve predictive accuracy and robustness compared to single models. By combining the predictions of multiple models, ensembles can reduce variance, bias, or both, leading to better generalization performance."
      ],
      "metadata": {
        "id": "bLOaz7fSmGxO"
      }
    },
    {
      "cell_type": "markdown",
      "source": [
        "10. What is the main challenge of ensemble methods?"
      ],
      "metadata": {
        "id": "Try405JfL0iD"
      }
    },
    {
      "cell_type": "markdown",
      "source": [
        "The main challenge of ensemble methods can be increased computational complexity and interpretability. Training and combining multiple models can be more computationally expensive than training a single model, and understanding the decision-making process of an ensemble can be more difficult."
      ],
      "metadata": {
        "id": "EG9Az8lVmMgJ"
      }
    },
    {
      "cell_type": "markdown",
      "source": [
        "11. Explain the key idea behind ensemble techniques."
      ],
      "metadata": {
        "id": "ID_adqXMfpxb"
      }
    },
    {
      "cell_type": "markdown",
      "source": [
        "The key idea behind ensemble techniques is to combine the predictions of multiple individual models to achieve better overall performance than any single model could achieve alone. This is often based on the principle that a \"wisdom of the crowd\" approach can lead to more accurate and stable predictions.\n"
      ],
      "metadata": {
        "id": "vBjiBPYqmQt8"
      }
    },
    {
      "cell_type": "markdown",
      "source": [
        "12. What is a Random Forest Classifier?"
      ],
      "metadata": {
        "id": "Gy003gHBfuV3"
      }
    },
    {
      "cell_type": "markdown",
      "source": [
        "A Random Forest Classifier is an ensemble learning method that builds a \"forest\" of multiple decision trees during training. It uses Bagging and feature randomness to create diverse trees, and for classification, it combines their predictions through majority voting to make a final decision.\n"
      ],
      "metadata": {
        "id": "tmZJNcDHmVOq"
      }
    },
    {
      "cell_type": "markdown",
      "source": [
        "13. What are the main types of ensemble techniques?"
      ],
      "metadata": {
        "id": "POqMPoBFf1BF"
      }
    },
    {
      "cell_type": "markdown",
      "source": [
        "The main types of ensemble techniques include Bagging (e.g., Random Forest), Boosting (e.g., AdaBoost, Gradient Boosting), and Stacking. Each type combines models in a different way to achieve improved performance.\n"
      ],
      "metadata": {
        "id": "rBl3I62UmUde"
      }
    },
    {
      "cell_type": "markdown",
      "source": [
        "14. What is ensemble learning in machine learning?"
      ],
      "metadata": {
        "id": "UnfqdEDof6Em"
      }
    },
    {
      "cell_type": "markdown",
      "source": [
        "Ensemble learning in machine learning is a meta-algorithm that combines the predictions of multiple base learners (or models) to improve predictive performance, reduce variance, and enhance robustness compared to using a single model."
      ],
      "metadata": {
        "id": "7RkQqVPxmcun"
      }
    },
    {
      "cell_type": "markdown",
      "source": [
        "15. When should we avoid using ensemble methods?"
      ],
      "metadata": {
        "id": "9OdHldaUgAJQ"
      }
    },
    {
      "cell_type": "markdown",
      "source": [
        "We should avoid using ensemble methods when the computational cost or complexity is prohibitive for the given resources or time constraints, or when the base models are already performing exceptionally well and the marginal gains from ensembling are minimal."
      ],
      "metadata": {
        "id": "C9uuyES4mhYA"
      }
    },
    {
      "cell_type": "markdown",
      "source": [
        "16.  How does Bagging help in reducing overfitting?"
      ],
      "metadata": {
        "id": "czu5Wp27gEH7"
      }
    },
    {
      "cell_type": "markdown",
      "source": [
        "Bagging helps in reducing overfitting by reducing the variance of the model. By training multiple models on different bootstrap samples and averaging their predictions (or using majority voting), Bagging smooths out the individual model's tendencies to overfit to specific training data points."
      ],
      "metadata": {
        "id": "x9fTVKRwmmav"
      }
    },
    {
      "cell_type": "markdown",
      "source": [
        "17. Why is Random Forest better than a single Decision Tree?"
      ],
      "metadata": {
        "id": "aQmzwzcngIVO"
      }
    },
    {
      "cell_type": "markdown",
      "source": [
        "Random Forest is generally better than a single Decision Tree because it reduces overfitting and improves generalization performance. It achieves this by combining multiple diverse decision trees (built using Bagging and feature randomness), which leads to a more stable and accurate model.\n"
      ],
      "metadata": {
        "id": "N618SgvTmqzd"
      }
    },
    {
      "cell_type": "markdown",
      "source": [
        "18. What is the role of bootstrap sampling in Bagging?"
      ],
      "metadata": {
        "id": "beftPj1xgNPP"
      }
    },
    {
      "cell_type": "markdown",
      "source": [
        "Bootstrap sampling in Bagging involves randomly drawing samples with replacement from the original training dataset to create multiple new datasets. Each of these bootstrap samples is then used to train an individual base model, introducing diversity among the models in the ensemble."
      ],
      "metadata": {
        "id": "RUzwKp4lmySa"
      }
    },
    {
      "cell_type": "markdown",
      "source": [
        "19. What are some real-world applications of ensemble techniques?"
      ],
      "metadata": {
        "id": "jNTUedIdgSOO"
      }
    },
    {
      "cell_type": "markdown",
      "source": [
        "Ensemble techniques are widely used in various real-world applications to improve model performance and robustness. Some examples include:\n",
        "1. **Medical Diagnosis**: Combining multiple models to predict diseases like cancer or heart conditions more accurately.\n",
        "2. **Fraud Detection**: Utilizing ensemble methods to identify fraudulent transactions in financial systems.\n",
        "3. **Image Recognition**: Enhancing the accuracy of object detection and image classification tasks.\n",
        "4. **Customer Churn Prediction**: Predicting which customers are likely to leave a service by combining various predictive models.\n",
        "Recommendation Systems: Improving the relevance and accuracy of recommendations in e-commerce and streaming platforms."
      ],
      "metadata": {
        "id": "JZrbwoR3m1c3"
      }
    },
    {
      "cell_type": "markdown",
      "source": [
        "20. What is the difference between Bagging and Boosting?"
      ],
      "metadata": {
        "id": "7lAgY0VQgXYX"
      }
    },
    {
      "cell_type": "markdown",
      "source": [
        "Bagging (Bootstrap Aggregating) and Boosting are both ensemble techniques that combine multiple models to improve predictive performance, but they differ in their approach:\n",
        "* **Bagging:**\n",
        "Trains multiple base models independently on different bootstrap samples of the training data.\n",
        "Combines predictions by averaging (for regression) or voting (for classification).\n",
        "Reduces variance and helps prevent overfitting.\n",
        "Examples: Random Forest.\n",
        "* **Boosting:**\n",
        "Trains base models sequentially, with each new model focusing on correcting the errors of the previous ones.\n",
        "Assigns higher weights to misclassified samples, forcing subsequent models to learn from these errors.\n",
        "Reduces bias and can achieve high accuracy but can be more prone to overfitting if not carefully tuned.\n",
        "Examples: AdaBoost, Gradient Boosting (GBM), XGBoost."
      ],
      "metadata": {
        "id": "nV4gDQVupUSI"
      }
    },
    {
      "cell_type": "markdown",
      "source": [
        "#Practical"
      ],
      "metadata": {
        "id": "txgIXoyxgttQ"
      }
    },
    {
      "cell_type": "markdown",
      "source": [
        "21. Train a Bagging Classifier using Decision Trees on a sample dataset and print model accuracy."
      ],
      "metadata": {
        "id": "bBiJGKklg0MP"
      }
    },
    {
      "cell_type": "code",
      "source": [
        "from sklearn.datasets import load_iris\n",
        "from sklearn.model_selection import train_test_split\n",
        "from sklearn.tree import DecisionTreeClassifier\n",
        "from sklearn.ensemble import BaggingClassifier\n",
        "from sklearn.metrics import accuracy_score\n",
        "\n",
        "# Load dataset\n",
        "data = load_iris()\n",
        "X, y = data.data, data.target\n",
        "\n",
        "# Train-test split\n",
        "X_train, X_test, y_train, y_test = train_test_split(X, y, test_size=0.2, random_state=42)\n",
        "\n",
        "# Base learner\n",
        "dt = DecisionTreeClassifier(random_state=42)\n",
        "\n",
        "# Bagging classifier (new sklearn uses \"estimator\")\n",
        "bag_clf = BaggingClassifier(\n",
        "    estimator=dt,       # correct argument for new sklearn\n",
        "    n_estimators=50,\n",
        "    random_state=42,\n",
        "    n_jobs=-1\n",
        ")\n",
        "\n",
        "# Train\n",
        "bag_clf.fit(X_train, y_train)\n",
        "\n",
        "# Predict\n",
        "y_pred = bag_clf.predict(X_test)\n",
        "\n",
        "# Accuracy\n",
        "print(\"Bagging Classifier Accuracy:\", accuracy_score(y_test, y_pred))\n",
        "\n"
      ],
      "metadata": {
        "colab": {
          "base_uri": "https://localhost:8080/"
        },
        "id": "T1MTfNtEpp2w",
        "outputId": "28556bc3-ec76-4ba7-c054-cce971963cff"
      },
      "execution_count": null,
      "outputs": [
        {
          "output_type": "stream",
          "name": "stdout",
          "text": [
            "Bagging Classifier Accuracy: 1.0\n"
          ]
        }
      ]
    },
    {
      "cell_type": "markdown",
      "source": [
        "22. Train a Bagging Regressor using Decision Trees and evaluate using Mean Squared Error (MSE)."
      ],
      "metadata": {
        "id": "IwUm7akhg6cJ"
      }
    },
    {
      "cell_type": "code",
      "source": [
        "from sklearn.datasets import load_diabetes\n",
        "from sklearn.model_selection import train_test_split\n",
        "from sklearn.tree import DecisionTreeRegressor\n",
        "from sklearn.ensemble import BaggingRegressor\n",
        "from sklearn.metrics import mean_squared_error\n",
        "\n",
        "# Load a regression dataset (Diabetes dataset)\n",
        "data = load_diabetes()\n",
        "X, y = data.data, data.target\n",
        "\n",
        "# Train-test split\n",
        "X_train, X_test, y_train, y_test = train_test_split(X, y, test_size=0.2, random_state=42)\n",
        "\n",
        "# Base learner\n",
        "dt = DecisionTreeRegressor(random_state=42)\n",
        "\n",
        "# Bagging Regressor (new sklearn uses \"estimator\")\n",
        "bag_reg = BaggingRegressor(\n",
        "    estimator=dt,       # base model\n",
        "    n_estimators=50,    # number of trees\n",
        "    random_state=42,\n",
        "    n_jobs=-1\n",
        ")\n",
        "\n",
        "# Train model\n",
        "bag_reg.fit(X_train, y_train)\n",
        "\n",
        "# Predictions\n",
        "y_pred = bag_reg.predict(X_test)\n",
        "\n",
        "# Evaluate using Mean Squared Error\n",
        "mse = mean_squared_error(y_test, y_pred)\n",
        "print(\"Bagging Regressor MSE:\", mse)\n",
        "\n"
      ],
      "metadata": {
        "colab": {
          "base_uri": "https://localhost:8080/"
        },
        "id": "Jss3UW_-MTB4",
        "outputId": "63e9748b-62fa-4073-beca-119621d917e1"
      },
      "execution_count": null,
      "outputs": [
        {
          "output_type": "stream",
          "name": "stdout",
          "text": [
            "Bagging Regressor MSE: 3056.494602247191\n"
          ]
        }
      ]
    },
    {
      "cell_type": "markdown",
      "source": [
        "23.  Train a Random Forest Classifier on the Breast Cancer dataset and print feature importance scores."
      ],
      "metadata": {
        "id": "ZR0k61k5g7Fj"
      }
    },
    {
      "cell_type": "code",
      "source": [
        "from sklearn.datasets import load_breast_cancer\n",
        "from sklearn.ensemble import RandomForestClassifier\n",
        "from sklearn.model_selection import train_test_split\n",
        "from sklearn.metrics import accuracy_score\n",
        "import pandas as pd\n",
        "\n",
        "# Load Breast Cancer dataset\n",
        "bc = load_breast_cancer()\n",
        "X, y = bc.data, bc.target\n",
        "\n",
        "X_train, X_test, y_train, y_test = train_test_split(\n",
        "    X, y, test_size=0.25, random_state=0)\n",
        "\n",
        "# Random Forest Classifier\n",
        "rf = RandomForestClassifier(n_estimators=100, random_state=0)\n",
        "rf.fit(X_train, y_train)\n",
        "\n",
        "acc = accuracy_score(y_test, rf.predict(X_test))\n",
        "print(\"Q3) RandomForestClassifier Accuracy:\", round(acc, 4))\n",
        "\n",
        "# Feature importances\n",
        "feat_imp = pd.Series(rf.feature_importances_, index=bc.feature_names)\n",
        "print(\"Top 10 Important Features:\\n\", feat_imp.sort_values(ascending=False).head(10))\n"
      ],
      "metadata": {
        "colab": {
          "base_uri": "https://localhost:8080/"
        },
        "id": "fGfb_KQmMVGl",
        "outputId": "f5a43b23-e2b5-44eb-b50c-5ef3a1b31d3a"
      },
      "execution_count": null,
      "outputs": [
        {
          "output_type": "stream",
          "name": "stdout",
          "text": [
            "Q3) RandomForestClassifier Accuracy: 0.972\n",
            "Top 10 Important Features:\n",
            " worst perimeter         0.160277\n",
            "worst concave points    0.117118\n",
            "worst radius            0.116573\n",
            "mean concave points     0.103054\n",
            "worst area              0.063469\n",
            "mean concavity          0.055395\n",
            "mean perimeter          0.053727\n",
            "mean area               0.048616\n",
            "worst concavity         0.039237\n",
            "area error              0.034202\n",
            "dtype: float64\n"
          ]
        }
      ]
    },
    {
      "cell_type": "markdown",
      "source": [
        "24. Train a Random Forest Regressor and compare its performance with a single Decision Tree."
      ],
      "metadata": {
        "id": "6FFNDlynhGSd"
      }
    },
    {
      "cell_type": "code",
      "source": [
        "from sklearn.datasets import make_regression\n",
        "from sklearn.model_selection import train_test_split\n",
        "from sklearn.ensemble import RandomForestRegressor\n",
        "from sklearn.tree import DecisionTreeRegressor\n",
        "from sklearn.metrics import mean_squared_error\n",
        "\n",
        "# Create regression dataset\n",
        "X, y = make_regression(n_samples=900, n_features=12,\n",
        "                       n_informative=8, noise=5.0, random_state=2)\n",
        "\n",
        "X_train, X_test, y_train, y_test = train_test_split(\n",
        "    X, y, test_size=0.2, random_state=2)\n",
        "\n",
        "# RandomForest Regressor\n",
        "rf_reg = RandomForestRegressor(n_estimators=100, random_state=2)\n",
        "rf_reg.fit(X_train, y_train)\n",
        "rf_mse = mean_squared_error(y_test, rf_reg.predict(X_test))\n",
        "\n",
        "# Single Decision Tree Regressor\n",
        "dt_reg = DecisionTreeRegressor(random_state=2)\n",
        "dt_reg.fit(X_train, y_train)\n",
        "dt_mse = mean_squared_error(y_test, dt_reg.predict(X_test))\n",
        "\n",
        "print(\"Q4) RandomForestRegressor MSE:\", round(rf_mse, 4))\n",
        "print(\"Q4) DecisionTreeRegressor MSE:\", round(dt_mse, 4))\n"
      ],
      "metadata": {
        "colab": {
          "base_uri": "https://localhost:8080/"
        },
        "id": "Q80DqzGGMdBd",
        "outputId": "131c4270-95c4-47ff-b845-47093b9be139"
      },
      "execution_count": null,
      "outputs": [
        {
          "output_type": "stream",
          "name": "stdout",
          "text": [
            "Q4) RandomForestRegressor MSE: 3720.2363\n",
            "Q4) DecisionTreeRegressor MSE: 12295.9203\n"
          ]
        }
      ]
    },
    {
      "cell_type": "markdown",
      "source": [
        "25. Compute the Out-of-Bag (OOB) Score for a Random Forest Classifier."
      ],
      "metadata": {
        "id": "g3nKOoKEhLAW"
      }
    },
    {
      "cell_type": "code",
      "source": [
        "from sklearn.datasets import load_breast_cancer\n",
        "from sklearn.ensemble import RandomForestClassifier\n",
        "from sklearn.model_selection import train_test_split\n",
        "\n",
        "# Load dataset\n",
        "bc = load_breast_cancer()\n",
        "X, y = bc.data, bc.target\n",
        "\n",
        "X_train, X_test, y_train, y_test = train_test_split(\n",
        "    X, y, test_size=0.25, random_state=0)\n",
        "\n",
        "# RandomForest with OOB\n",
        "rf_oob = RandomForestClassifier(n_estimators=200, oob_score=True, random_state=3)\n",
        "rf_oob.fit(X_train, y_train)\n",
        "\n",
        "print(\"Q5) RandomForestClassifier OOB Score:\", round(rf_oob.oob_score_, 4))\n"
      ],
      "metadata": {
        "colab": {
          "base_uri": "https://localhost:8080/"
        },
        "id": "1s2WstetMgql",
        "outputId": "a568c143-46a7-4733-8f1c-37bcc6c6c184"
      },
      "execution_count": null,
      "outputs": [
        {
          "output_type": "stream",
          "name": "stdout",
          "text": [
            "Q5) RandomForestClassifier OOB Score: 0.9577\n"
          ]
        }
      ]
    },
    {
      "cell_type": "markdown",
      "source": [
        "26. Train a Bagging Classifier using SVM as a base estimator and print accuracy."
      ],
      "metadata": {
        "id": "Qgy3-29BhTt6"
      }
    },
    {
      "cell_type": "code",
      "source": [
        "from sklearn.datasets import load_wine\n",
        "from sklearn.model_selection import train_test_split\n",
        "from sklearn.svm import SVC\n",
        "from sklearn.ensemble import BaggingClassifier\n",
        "from sklearn.metrics import accuracy_score\n",
        "\n",
        "# Load dataset (wine classification dataset)\n",
        "data = load_wine()\n",
        "X, y = data.data, data.target\n",
        "\n",
        "# Train-test split\n",
        "X_train, X_test, y_train, y_test = train_test_split(X, y, test_size=0.2, random_state=42)\n",
        "\n",
        "# Base estimator (SVM)\n",
        "svm = SVC(kernel='rbf', gamma='scale')\n",
        "\n",
        "# Bagging Classifier with SVM\n",
        "bag_svm = BaggingClassifier(\n",
        "    estimator=svm,     # In new sklearn versions, use 'estimator'\n",
        "    n_estimators=30,   # Number of SVMs\n",
        "    max_samples=0.8,   # Each SVM sees 80% of training samples\n",
        "    random_state=42\n",
        ")\n",
        "\n",
        "# Train model\n",
        "bag_svm.fit(X_train, y_train)\n",
        "\n",
        "# Predictions\n",
        "y_pred = bag_svm.predict(X_test)\n",
        "\n",
        "# Accuracy\n",
        "accuracy = accuracy_score(y_test, y_pred)\n",
        "print(\"Bagging Classifier with SVM Accuracy:\", accuracy)\n",
        "\n"
      ],
      "metadata": {
        "colab": {
          "base_uri": "https://localhost:8080/"
        },
        "id": "ddHjQOoiMli0",
        "outputId": "14f3cd2c-2344-4359-d683-8b36dd24e94e"
      },
      "execution_count": null,
      "outputs": [
        {
          "output_type": "stream",
          "name": "stdout",
          "text": [
            "Bagging Classifier with SVM Accuracy: 0.8611111111111112\n"
          ]
        }
      ]
    },
    {
      "cell_type": "markdown",
      "source": [
        "27. Train a Random Forest Classifier with different numbers of trees and compare accuracy."
      ],
      "metadata": {
        "id": "-6XF9PjdhbVJ"
      }
    },
    {
      "cell_type": "code",
      "source": [
        "from sklearn.ensemble import RandomForestClassifier\n",
        "\n",
        "n_list = [10, 50, 100, 200]\n",
        "rf_scores = {}\n",
        "\n",
        "for n in n_list:\n",
        "    rf = RandomForestClassifier(n_estimators=n, random_state=42)\n",
        "    rf.fit(X_train, y_train)\n",
        "    rf_scores[n] = accuracy_score(y_test, rf.predict(X_test))\n",
        "\n",
        "print(\"Q7) RandomForestClassifier accuracy vs n_estimators:\")\n",
        "for n, acc in rf_scores.items():\n",
        "    print(f\"   Trees={n} -> Accuracy={round(acc,4)}\")\n"
      ],
      "metadata": {
        "colab": {
          "base_uri": "https://localhost:8080/"
        },
        "id": "T9HnEjaAMvTD",
        "outputId": "409d2fff-275d-4ead-a317-b736732bdf5a"
      },
      "execution_count": null,
      "outputs": [
        {
          "output_type": "stream",
          "name": "stdout",
          "text": [
            "Q7) RandomForestClassifier accuracy vs n_estimators:\n",
            "   Trees=10 -> Accuracy=0.88\n",
            "   Trees=50 -> Accuracy=0.872\n",
            "   Trees=100 -> Accuracy=0.888\n",
            "   Trees=200 -> Accuracy=0.892\n"
          ]
        }
      ]
    },
    {
      "cell_type": "markdown",
      "source": [
        "28. Train a Bagging Classifier using Logistic Regression as a base estimator and print AUC score."
      ],
      "metadata": {
        "id": "Dt-2XvkthdB-"
      }
    },
    {
      "cell_type": "code",
      "source": [
        "from sklearn.datasets import load_breast_cancer\n",
        "from sklearn.model_selection import train_test_split\n",
        "from sklearn.linear_model import LogisticRegression\n",
        "from sklearn.ensemble import BaggingClassifier\n",
        "from sklearn.metrics import roc_auc_score\n",
        "\n",
        "# Load dataset (binary classification: breast cancer dataset)\n",
        "data = load_breast_cancer()\n",
        "X, y = data.data, data.target\n",
        "\n",
        "# Train-test split\n",
        "X_train, X_test, y_train, y_test = train_test_split(\n",
        "    X, y, test_size=0.2, random_state=42, stratify=y\n",
        ")\n",
        "\n",
        "# Base estimator (Logistic Regression)\n",
        "log_reg = LogisticRegression(solver='liblinear')\n",
        "\n",
        "# Bagging Classifier with Logistic Regression\n",
        "bag_lr = BaggingClassifier(\n",
        "    estimator=log_reg,    # use 'estimator' in latest sklearn\n",
        "    n_estimators=30,      # number of base learners\n",
        "    max_samples=0.8,\n",
        "    random_state=42\n",
        ")\n",
        "\n",
        "# Train the model\n",
        "bag_lr.fit(X_train, y_train)\n",
        "\n",
        "# Predict probabilities\n",
        "y_pred_proba = bag_lr.predict_proba(X_test)[:, 1]\n",
        "\n",
        "# Calculate AUC\n",
        "auc = roc_auc_score(y_test, y_pred_proba)\n",
        "print(\"Bagging Classifier with Logistic Regression AUC:\", auc)\n",
        "\n"
      ],
      "metadata": {
        "colab": {
          "base_uri": "https://localhost:8080/"
        },
        "id": "DSMN9odsMywi",
        "outputId": "85325e8c-01df-43ea-d1ec-67b191f92167"
      },
      "execution_count": null,
      "outputs": [
        {
          "output_type": "stream",
          "name": "stdout",
          "text": [
            "Bagging Classifier with Logistic Regression AUC: 0.9940476190476191\n"
          ]
        }
      ]
    },
    {
      "cell_type": "markdown",
      "source": [
        "29. Train a Random Forest Regressor and analyze feature importance scores."
      ],
      "metadata": {
        "id": "AqjzR_X_hohW"
      }
    },
    {
      "cell_type": "code",
      "source": [
        "from sklearn.ensemble import RandomForestRegressor\n",
        "import pandas as pd\n",
        "\n",
        "# Use regression dataset from Q2\n",
        "rf_reg2 = RandomForestRegressor(n_estimators=100, random_state=4)\n",
        "rf_reg2.fit(X_train, y_train)  # careful: use regression dataset if needed\n",
        "\n",
        "# If you want from regression dataset:\n",
        "# rf_reg2.fit(Xr_train, yr_train)\n",
        "\n",
        "feat_imp = pd.Series(rf_reg2.feature_importances_,\n",
        "                     index=[f\"f{i}\" for i in range(X_train.shape[1])])\n",
        "\n",
        "print(\"Q9) RandomForestRegressor Top 5 Features:\\n\",\n",
        "      feat_imp.sort_values(ascending=False).head(5))\n"
      ],
      "metadata": {
        "colab": {
          "base_uri": "https://localhost:8080/"
        },
        "id": "A2hqImslNCvY",
        "outputId": "c41a4102-ba29-45b8-b2a2-4a063c8f8de0"
      },
      "execution_count": null,
      "outputs": [
        {
          "output_type": "stream",
          "name": "stdout",
          "text": [
            "Q9) RandomForestRegressor Top 5 Features:\n",
            " f0     0.459882\n",
            "f6     0.096636\n",
            "f10    0.066155\n",
            "f7     0.060788\n",
            "f12    0.034872\n",
            "dtype: float64\n"
          ]
        }
      ]
    },
    {
      "cell_type": "markdown",
      "source": [
        "30. Train an ensemble model using both Bagging and Random Forest and compare accuracy."
      ],
      "metadata": {
        "id": "sCDOjLefhtJD"
      }
    },
    {
      "cell_type": "code",
      "source": [
        "from sklearn.datasets import load_breast_cancer\n",
        "from sklearn.model_selection import train_test_split\n",
        "from sklearn.tree import DecisionTreeClassifier\n",
        "from sklearn.ensemble import BaggingClassifier, RandomForestClassifier\n",
        "from sklearn.metrics import accuracy_score\n",
        "\n",
        "# Load dataset\n",
        "data = load_breast_cancer()\n",
        "X, y = data.data, data.target\n",
        "\n",
        "# Train-test split\n",
        "X_train, X_test, y_train, y_test = train_test_split(\n",
        "    X, y, test_size=0.2, random_state=42, stratify=y\n",
        ")\n",
        "\n",
        "# Base estimator for Bagging\n",
        "dt = DecisionTreeClassifier(random_state=42)\n",
        "\n",
        "# Bagging Classifier\n",
        "bag_clf = BaggingClassifier(\n",
        "    estimator=dt,        # base learner\n",
        "    n_estimators=50,\n",
        "    max_samples=0.8,\n",
        "    random_state=42,\n",
        "    n_jobs=-1\n",
        ")\n",
        "\n",
        "# Random Forest Classifier\n",
        "rf_clf = RandomForestClassifier(\n",
        "    n_estimators=50,\n",
        "    random_state=42,\n",
        "    n_jobs=-1\n",
        ")\n",
        "\n",
        "# Train models\n",
        "bag_clf.fit(X_train, y_train)\n",
        "rf_clf.fit(X_train, y_train)\n",
        "\n",
        "# Predictions\n",
        "y_pred_bag = bag_clf.predict(X_test)\n",
        "y_pred_rf = rf_clf.predict(X_test)\n",
        "\n",
        "# Accuracy\n",
        "acc_bag = accuracy_score(y_test, y_pred_bag)\n",
        "acc_rf = accuracy_score(y_test, y_pred_rf)\n",
        "\n",
        "print(\"Bagging Classifier Accuracy:\", acc_bag)\n",
        "print(\"Random Forest Classifier Accuracy:\", acc_rf)\n",
        "\n"
      ],
      "metadata": {
        "colab": {
          "base_uri": "https://localhost:8080/"
        },
        "id": "vFVYYEPZNGMn",
        "outputId": "6c6ddb5b-4f41-4c32-b00b-61adcc761f53"
      },
      "execution_count": null,
      "outputs": [
        {
          "output_type": "stream",
          "name": "stdout",
          "text": [
            "Bagging Classifier Accuracy: 0.956140350877193\n",
            "Random Forest Classifier Accuracy: 0.956140350877193\n"
          ]
        }
      ]
    },
    {
      "cell_type": "markdown",
      "source": [
        "31. Train a Random Forest Classifier and tune hyperparameters using GridSearchCV."
      ],
      "metadata": {
        "id": "UpiMwSQ_hxZ2"
      }
    },
    {
      "cell_type": "code",
      "source": [
        "from sklearn.model_selection import GridSearchCV\n",
        "from sklearn.ensemble import RandomForestClassifier\n",
        "\n",
        "# Define parameter grid\n",
        "param_grid = {\n",
        "    'n_estimators': [50, 100],\n",
        "    'max_depth': [None, 5, 10],\n",
        "    'min_samples_split': [2, 5]\n",
        "}\n",
        "\n",
        "# GridSearchCV\n",
        "grid = GridSearchCV(\n",
        "    estimator=RandomForestClassifier(random_state=0),\n",
        "    param_grid=param_grid,\n",
        "    cv=4,\n",
        "    scoring='accuracy',\n",
        "    n_jobs=-1\n",
        ")\n",
        "\n",
        "grid.fit(X_train, y_train)\n",
        "\n",
        "print(\"Q11) Best Parameters:\", grid.best_params_)\n",
        "print(\"Q11) Best CV Score:\", round(grid.best_score_, 4))\n"
      ],
      "metadata": {
        "colab": {
          "base_uri": "https://localhost:8080/"
        },
        "id": "XozJIKfPNLlO",
        "outputId": "22e04907-a1f1-4cd7-8560-d2e442dcbd2a"
      },
      "execution_count": null,
      "outputs": [
        {
          "output_type": "stream",
          "name": "stdout",
          "text": [
            "Q11) Best Parameters: {'max_depth': None, 'min_samples_split': 2, 'n_estimators': 100}\n",
            "Q11) Best CV Score: 0.8667\n"
          ]
        }
      ]
    },
    {
      "cell_type": "markdown",
      "source": [
        "32. Train a Bagging Regressor with different numbers of base estimators and compare performance."
      ],
      "metadata": {
        "id": "seFVHyrAh1xE"
      }
    },
    {
      "cell_type": "code",
      "source": [
        "from sklearn.datasets import load_diabetes\n",
        "from sklearn.model_selection import train_test_split\n",
        "from sklearn.tree import DecisionTreeRegressor\n",
        "from sklearn.ensemble import BaggingRegressor\n",
        "from sklearn.metrics import mean_squared_error\n",
        "\n",
        "# Load dataset\n",
        "data = load_diabetes()\n",
        "X, y = data.data, data.target\n",
        "\n",
        "# Train-test split\n",
        "X_train, X_test, y_train, y_test = train_test_split(\n",
        "    X, y, test_size=0.2, random_state=42\n",
        ")\n",
        "\n",
        "# Base model\n",
        "dt = DecisionTreeRegressor(random_state=42)\n",
        "\n",
        "# Try different numbers of estimators\n",
        "n_estimators_list = [10, 50, 100, 200]\n",
        "results = {}\n",
        "\n",
        "for n in n_estimators_list:\n",
        "    bag_reg = BaggingRegressor(\n",
        "        estimator=dt,\n",
        "        n_estimators=n,\n",
        "        random_state=42,\n",
        "        n_jobs=-1\n",
        "    )\n",
        "    bag_reg.fit(X_train, y_train)\n",
        "    y_pred = bag_reg.predict(X_test)\n",
        "    mse = mean_squared_error(y_test, y_pred)\n",
        "    results[n] = mse\n",
        "    print(f\"Bagging Regressor (n_estimators={n}) MSE: {mse:.4f}\")\n",
        "\n",
        "# Best performing model\n",
        "best_n = min(results, key=results.get)\n",
        "print(f\"\\nBest performance with n_estimators={best_n}, MSE={results[best_n]:.4f}\")\n",
        "\n"
      ],
      "metadata": {
        "colab": {
          "base_uri": "https://localhost:8080/"
        },
        "id": "6dY_TkMLNXG1",
        "outputId": "17e8b50f-3269-400f-e048-6d209a26db2a"
      },
      "execution_count": null,
      "outputs": [
        {
          "output_type": "stream",
          "name": "stdout",
          "text": [
            "Bagging Regressor (n_estimators=10) MSE: 3256.9618\n",
            "Bagging Regressor (n_estimators=50) MSE: 3056.4946\n",
            "Bagging Regressor (n_estimators=100) MSE: 2970.8632\n",
            "Bagging Regressor (n_estimators=200) MSE: 2995.6186\n",
            "\n",
            "Best performance with n_estimators=100, MSE=2970.8632\n"
          ]
        }
      ]
    },
    {
      "cell_type": "markdown",
      "source": [
        "33. Train a Random Forest Classifier and analyze misclassified samples."
      ],
      "metadata": {
        "id": "iJnKty5fh9cm"
      }
    },
    {
      "cell_type": "code",
      "source": [
        "from sklearn.metrics import accuracy_score\n",
        "import numpy as np\n",
        "\n",
        "rf = RandomForestClassifier(n_estimators=100, random_state=42)\n",
        "rf.fit(X_train, y_train)\n",
        "y_pred = rf.predict(X_test)\n",
        "\n",
        "# Accuracy\n",
        "print(\"Q13) RF Accuracy:\", round(accuracy_score(y_test, y_pred), 4))\n",
        "\n",
        "# Misclassified samples\n",
        "mis_idx = np.where(y_pred != y_test)[0]\n",
        "print(\"Q13) Misclassified Samples Count:\", len(mis_idx))\n",
        "print(\"Q13) Example Misclassified Indices:\", mis_idx[:5])\n"
      ],
      "metadata": {
        "id": "cQPc3bj4Naxj",
        "colab": {
          "base_uri": "https://localhost:8080/"
        },
        "outputId": "4227366e-47bc-471a-d48a-16b08ade2ddb"
      },
      "execution_count": null,
      "outputs": [
        {
          "output_type": "stream",
          "name": "stdout",
          "text": [
            "Q13) RF Accuracy: 0.0\n",
            "Q13) Misclassified Samples Count: 89\n",
            "Q13) Example Misclassified Indices: [0 1 2 3 4]\n"
          ]
        }
      ]
    },
    {
      "cell_type": "markdown",
      "source": [
        "34. Train a Bagging Classifier and compare its performance with a single Decision Tree Classifier."
      ],
      "metadata": {
        "id": "3ej85AHliBjN"
      }
    },
    {
      "cell_type": "code",
      "source": [
        "from sklearn.datasets import load_breast_cancer\n",
        "from sklearn.model_selection import train_test_split\n",
        "from sklearn.tree import DecisionTreeClassifier\n",
        "from sklearn.ensemble import BaggingClassifier\n",
        "from sklearn.metrics import accuracy_score\n",
        "\n",
        "# Load dataset\n",
        "data = load_breast_cancer()\n",
        "X, y = data.data, data.target\n",
        "\n",
        "# Train-test split\n",
        "X_train, X_test, y_train, y_test = train_test_split(\n",
        "    X, y, test_size=0.2, random_state=42, stratify=y\n",
        ")\n",
        "\n",
        "# Single Decision Tree Classifier\n",
        "dt = DecisionTreeClassifier(random_state=42)\n",
        "dt.fit(X_train, y_train)\n",
        "y_pred_dt = dt.predict(X_test)\n",
        "acc_dt = accuracy_score(y_test, y_pred_dt)\n",
        "\n",
        "# Bagging Classifier with Decision Trees\n",
        "bag_clf = BaggingClassifier(\n",
        "    estimator=DecisionTreeClassifier(random_state=42),\n",
        "    n_estimators=50,\n",
        "    max_samples=0.8,\n",
        "    random_state=42,\n",
        "    n_jobs=-1\n",
        ")\n",
        "bag_clf.fit(X_train, y_train)\n",
        "y_pred_bag = bag_clf.predict(X_test)\n",
        "acc_bag = accuracy_score(y_test, y_pred_bag)\n",
        "\n",
        "# Print results\n",
        "print(\"Single Decision Tree Accuracy:\", acc_dt)\n",
        "print(\"Bagging Classifier Accuracy:\", acc_bag)\n",
        "\n"
      ],
      "metadata": {
        "colab": {
          "base_uri": "https://localhost:8080/"
        },
        "id": "mxTPYJmUS1hO",
        "outputId": "10199242-50b8-4cb5-f248-145f2b70fe6d"
      },
      "execution_count": null,
      "outputs": [
        {
          "output_type": "stream",
          "name": "stdout",
          "text": [
            "Single Decision Tree Accuracy: 0.9122807017543859\n",
            "Bagging Classifier Accuracy: 0.956140350877193\n"
          ]
        }
      ]
    },
    {
      "cell_type": "markdown",
      "source": [
        "35. Train a Random Forest Classifier and visualize the confusion matrix."
      ],
      "metadata": {
        "id": "9mX4t_vPiGGO"
      }
    },
    {
      "cell_type": "code",
      "source": [
        "import matplotlib.pyplot as plt\n",
        "import seaborn as sns\n",
        "from sklearn.datasets import load_breast_cancer\n",
        "from sklearn.model_selection import train_test_split\n",
        "from sklearn.ensemble import RandomForestClassifier\n",
        "from sklearn.metrics import confusion_matrix, accuracy_score\n",
        "\n",
        "# Load dataset\n",
        "data = load_breast_cancer()\n",
        "X, y = data.data, data.target\n",
        "\n",
        "# Train-test split\n",
        "X_train, X_test, y_train, y_test = train_test_split(\n",
        "    X, y, test_size=0.2, random_state=42, stratify=y\n",
        ")\n",
        "\n",
        "# Train Random Forest Classifier\n",
        "rf_clf = RandomForestClassifier(n_estimators=100, random_state=42)\n",
        "rf_clf.fit(X_train, y_train)\n",
        "\n",
        "# Predictions\n",
        "y_pred = rf_clf.predict(X_test)\n",
        "\n",
        "# Confusion Matrix\n",
        "cm = confusion_matrix(y_test, y_pred)\n",
        "\n",
        "# Print accuracy\n",
        "print(\"Random Forest Accuracy:\", accuracy_score(y_test, y_pred))\n",
        "\n",
        "# Plot confusion matrix\n",
        "plt.figure(figsize=(6, 5))\n",
        "sns.heatmap(cm, annot=True, fmt=\"d\", cmap=\"Blues\", xticklabels=data.target_names, yticklabels=data.target_names)\n",
        "plt.xlabel(\"Predicted\")\n",
        "plt.ylabel(\"Actual\")\n",
        "plt.title(\"Random Forest Classifier - Confusion Matrix\")\n",
        "plt.show()\n"
      ],
      "metadata": {
        "colab": {
          "base_uri": "https://localhost:8080/",
          "height": 504
        },
        "id": "CSrMHi1-S4a_",
        "outputId": "c3e2d530-549f-4e60-874e-717fcf579a77"
      },
      "execution_count": null,
      "outputs": [
        {
          "output_type": "stream",
          "name": "stdout",
          "text": [
            "Random Forest Accuracy: 0.956140350877193\n"
          ]
        },
        {
          "output_type": "display_data",
          "data": {
            "text/plain": [
              "<Figure size 600x500 with 2 Axes>"
            ],
            "image/png": "[encoded data removed]"
          },
          "metadata": {}
        }
      ]
    },
    {
      "cell_type": "markdown",
      "source": [
        "36. Train a Stacking Classifier using Decision Trees, SVM, and Logistic Regression, and compare accuracy."
      ],
      "metadata": {
        "id": "cq-KJ0yRiJ_w"
      }
    },
    {
      "cell_type": "code",
      "source": [
        "# Import libraries\n",
        "from sklearn.datasets import load_iris\n",
        "from sklearn.model_selection import train_test_split\n",
        "from sklearn.tree import DecisionTreeClassifier\n",
        "from sklearn.svm import SVC\n",
        "from sklearn.linear_model import LogisticRegression\n",
        "from sklearn.ensemble import StackingClassifier\n",
        "from sklearn.metrics import accuracy_score\n",
        "\n",
        "# Load dataset\n",
        "data = load_iris()\n",
        "X = data.data\n",
        "y = data.target\n",
        "X_train, X_test, y_train, y_test = train_test_split(X, y, test_size=0.2, random_state=42)\n",
        "\n",
        "# Define base learners\n",
        "base_learners = [\n",
        "    ('dt', DecisionTreeClassifier(random_state=42)),\n",
        "    ('svm', SVC(probability=True, random_state=42)),\n",
        "    ('lr', LogisticRegression(max_iter=1000, random_state=42))\n",
        "]\n",
        "\n",
        "# Train Stacking Classifier\n",
        "stack_clf = StackingClassifier(estimators=base_learners, final_estimator=LogisticRegression(), cv=5)\n",
        "stack_clf.fit(X_train, y_train)\n",
        "y_pred_stack = stack_clf.predict(X_test)\n",
        "stack_accuracy = accuracy_score(y_test, y_pred_stack)\n",
        "\n",
        "# Train individual models\n",
        "dt = DecisionTreeClassifier(random_state=42)\n",
        "dt.fit(X_train, y_train)\n",
        "dt_accuracy = accuracy_score(y_test, dt.predict(X_test))\n",
        "\n",
        "svm = SVC(random_state=42)\n",
        "svm.fit(X_train, y_train)\n",
        "svm_accuracy = accuracy_score(y_test, svm.predict(X_test))\n",
        "\n",
        "lr = LogisticRegression(max_iter=1000, random_state=42)\n",
        "lr.fit(X_train, y_train)\n",
        "lr_accuracy = accuracy_score(y_test, lr.predict(X_test))\n",
        "\n",
        "# Print accuracies\n",
        "print(f\"Stacking Classifier Accuracy: {stack_accuracy:.4f}\")\n",
        "print(f\"Decision Tree Accuracy: {dt_accuracy:.4f}\")\n",
        "print(f\"SVM Accuracy: {svm_accuracy:.4f}\")\n",
        "print(f\"Logistic Regression Accuracy: {lr_accuracy:.4f}\")\n"
      ],
      "metadata": {
        "colab": {
          "base_uri": "https://localhost:8080/"
        },
        "id": "_6_K-uDwS76E",
        "outputId": "ecc05a37-92a8-4cea-852c-188cf7fcb58e"
      },
      "execution_count": null,
      "outputs": [
        {
          "output_type": "stream",
          "name": "stdout",
          "text": [
            "Stacking Classifier Accuracy: 1.0000\n",
            "Decision Tree Accuracy: 1.0000\n",
            "SVM Accuracy: 1.0000\n",
            "Logistic Regression Accuracy: 1.0000\n"
          ]
        }
      ]
    },
    {
      "cell_type": "markdown",
      "source": [
        "37.  Train a Random Forest Classifier and print the top 5 most important features."
      ],
      "metadata": {
        "id": "rpMvU3wniOfw"
      }
    },
    {
      "cell_type": "code",
      "source": [
        "rf = RandomForestClassifier(n_estimators=100, random_state=42)\n",
        "rf.fit(X_train, y_train)\n",
        "\n",
        "feat_importances = pd.Series(rf.feature_importances_,\n",
        "                             index=[f\"f{i}\" for i in range(X_train.shape[1])])\n",
        "\n",
        "print(\"Q17) Top 5 Important Features:\\n\",\n",
        "      feat_importances.sort_values(ascending=False).head(5))\n"
      ],
      "metadata": {
        "colab": {
          "base_uri": "https://localhost:8080/"
        },
        "id": "ZTe5swvITCE8",
        "outputId": "03b975aa-af6b-4124-f2ea-6a189b5c581c"
      },
      "execution_count": null,
      "outputs": [
        {
          "output_type": "stream",
          "name": "stdout",
          "text": [
            "Q17) Top 5 Important Features:\n",
            " f0     0.275448\n",
            "f10    0.154738\n",
            "f6     0.070535\n",
            "f18    0.064431\n",
            "f7     0.054465\n",
            "dtype: float64\n"
          ]
        }
      ]
    },
    {
      "cell_type": "markdown",
      "source": [
        "38. Train a Bagging Classifier and evaluate performance using Precision, Recall, and F1-score."
      ],
      "metadata": {
        "id": "7Ow7trk1iSnF"
      }
    },
    {
      "cell_type": "code",
      "source": [
        "# Import libraries\n",
        "from sklearn.datasets import load_iris\n",
        "from sklearn.model_selection import train_test_split\n",
        "from sklearn.ensemble import BaggingClassifier\n",
        "from sklearn.tree import DecisionTreeClassifier\n",
        "from sklearn.metrics import precision_score, recall_score, f1_score, classification_report\n",
        "\n",
        "# Load dataset\n",
        "data = load_iris()\n",
        "X = data.data\n",
        "y = data.target\n",
        "X_train, X_test, y_train, y_test = train_test_split(X, y, test_size=0.2, random_state=42)\n",
        "\n",
        "# Initialize Bagging Classifier with Decision Tree as base estimator\n",
        "bag_clf = BaggingClassifier(\n",
        "    estimator=DecisionTreeClassifier(),\n",
        "    n_estimators=50,\n",
        "    random_state=42\n",
        ")\n",
        "\n",
        "# Train the model\n",
        "bag_clf.fit(X_train, y_train)\n",
        "\n",
        "# Make predictions\n",
        "y_pred = bag_clf.predict(X_test)\n",
        "\n",
        "# Evaluate performance\n",
        "precision = precision_score(y_test, y_pred, average='macro')\n",
        "recall = recall_score(y_test, y_pred, average='macro')\n",
        "f1 = f1_score(y_test, y_pred, average='macro')\n",
        "\n",
        "# Print metrics\n",
        "print(\"Precision:\", round(precision, 4))\n",
        "print(\"Recall:\", round(recall, 4))\n",
        "print(\"F1-score:\", round(f1, 4))\n",
        "\n",
        "# Optional: Detailed classification report\n",
        "print(\"\\nClassification Report:\\n\", classification_report(y_test, y_pred))\n",
        "\n"
      ],
      "metadata": {
        "colab": {
          "base_uri": "https://localhost:8080/"
        },
        "id": "qRwSGhqvTFQ_",
        "outputId": "f0dbf498-d21c-4773-d8b0-784563999f07"
      },
      "execution_count": null,
      "outputs": [
        {
          "output_type": "stream",
          "name": "stdout",
          "text": [
            "Precision: 1.0\n",
            "Recall: 1.0\n",
            "F1-score: 1.0\n",
            "\n",
            "Classification Report:\n",
            "               precision    recall  f1-score   support\n",
            "\n",
            "           0       1.00      1.00      1.00        10\n",
            "           1       1.00      1.00      1.00         9\n",
            "           2       1.00      1.00      1.00        11\n",
            "\n",
            "    accuracy                           1.00        30\n",
            "   macro avg       1.00      1.00      1.00        30\n",
            "weighted avg       1.00      1.00      1.00        30\n",
            "\n"
          ]
        }
      ]
    },
    {
      "cell_type": "markdown",
      "source": [
        "39. Train a Random Forest Classifier and analyze the effect of max_depth on accuracy."
      ],
      "metadata": {
        "id": "J8BUOmXjiXrZ"
      }
    },
    {
      "cell_type": "code",
      "source": [
        "depths = [None, 3, 5, 8, 12]\n",
        "\n",
        "print(\"Q19) Effect of max_depth on Accuracy:\")\n",
        "for d in depths:\n",
        "    rf = RandomForestClassifier(n_estimators=100, max_depth=d, random_state=7)\n",
        "    rf.fit(X_train, y_train)\n",
        "    acc = accuracy_score(y_test, rf.predict(X_test))\n",
        "    print(f\"   max_depth={d} -> Accuracy={round(acc,4)}\")\n"
      ],
      "metadata": {
        "colab": {
          "base_uri": "https://localhost:8080/"
        },
        "id": "yG9pkya1TMYg",
        "outputId": "214a9e42-90ae-4519-c145-4dbdd3e252c9"
      },
      "execution_count": null,
      "outputs": [
        {
          "output_type": "stream",
          "name": "stdout",
          "text": [
            "Q19) Effect of max_depth on Accuracy:\n",
            "   max_depth=None -> Accuracy=0.88\n",
            "   max_depth=3 -> Accuracy=0.844\n",
            "   max_depth=5 -> Accuracy=0.84\n",
            "   max_depth=8 -> Accuracy=0.872\n",
            "   max_depth=12 -> Accuracy=0.872\n"
          ]
        }
      ]
    },
    {
      "cell_type": "markdown",
      "source": [
        "40. Train a Bagging Regressor using different base estimators (DecisionTree and KNeighbors) and compare\n",
        "performance."
      ],
      "metadata": {
        "id": "ljvlveYHicVW"
      }
    },
    {
      "cell_type": "code",
      "source": [
        "# Import libraries\n",
        "from sklearn.datasets import fetch_california_housing\n",
        "from sklearn.model_selection import train_test_split\n",
        "from sklearn.ensemble import BaggingRegressor\n",
        "from sklearn.tree import DecisionTreeRegressor\n",
        "from sklearn.neighbors import KNeighborsRegressor\n",
        "from sklearn.metrics import mean_squared_error, r2_score\n",
        "\n",
        "# Load dataset\n",
        "data = fetch_california_housing()\n",
        "X = data.data\n",
        "y = data.target\n",
        "\n",
        "# Split dataset\n",
        "X_train, X_test, y_train, y_test = train_test_split(X, y, test_size=0.2, random_state=42)\n",
        "\n",
        "# Bagging Regressor with Decision Tree\n",
        "bag_dt = BaggingRegressor(\n",
        "    estimator=DecisionTreeRegressor(random_state=42),\n",
        "    n_estimators=50,\n",
        "    random_state=42\n",
        ")\n",
        "bag_dt.fit(X_train, y_train)\n",
        "y_pred_dt = bag_dt.predict(X_test)\n",
        "\n",
        "# Bagging Regressor with K-Neighbors\n",
        "bag_knn = BaggingRegressor(\n",
        "    estimator=KNeighborsRegressor(),\n",
        "    n_estimators=50,\n",
        "    random_state=42\n",
        ")\n",
        "bag_knn.fit(X_train, y_train)\n",
        "y_pred_knn = bag_knn.predict(X_test)\n",
        "\n",
        "# Evaluate performance\n",
        "print(\"Bagging with Decision Tree:\")\n",
        "print(\"MSE:\", round(mean_squared_error(y_test, y_pred_dt), 4))\n",
        "print(\"R² Score:\", round(r2_score(y_test, y_pred_dt), 4))\n",
        "\n",
        "print(\"\\nBagging with K-Neighbors Regressor:\")\n",
        "print(\"MSE:\", round(mean_squared_error(y_test, y_pred_knn), 4))\n",
        "print(\"R² Score:\", round(r2_score(y_test, y_pred_knn), 4))\n",
        "\n",
        "\n"
      ],
      "metadata": {
        "colab": {
          "base_uri": "https://localhost:8080/"
        },
        "id": "F7ylkLzdTPaO",
        "outputId": "d171465b-8f25-49a7-8e4d-150c6c9a18d4"
      },
      "execution_count": 17,
      "outputs": [
        {
          "output_type": "stream",
          "name": "stdout",
          "text": [
            "Bagging with Decision Tree:\n",
            "MSE: 0.2573\n",
            "R² Score: 0.8036\n",
            "\n",
            "Bagging with K-Neighbors Regressor:\n",
            "MSE: 1.0763\n",
            "R² Score: 0.1787\n"
          ]
        }
      ]
    },
    {
      "cell_type": "markdown",
      "source": [
        "41. Train a Random Forest Classifier and evaluate its performance using ROC-AUC Score."
      ],
      "metadata": {
        "id": "V1jY78ptigLR"
      }
    },
    {
      "cell_type": "code",
      "source": [
        "from sklearn.metrics import roc_auc_score\n",
        "\n",
        "rf = RandomForestClassifier(n_estimators=100, random_state=42)\n",
        "rf.fit(X_train, y_train)\n",
        "y_prob = rf.predict_proba(X_test)[:, 1]\n",
        "\n",
        "print(\"Q21) RandomForestClassifier ROC-AUC:\",\n",
        "      round(roc_auc_score(y_test, y_prob), 4))\n"
      ],
      "metadata": {
        "colab": {
          "base_uri": "https://localhost:8080/"
        },
        "id": "2G_GTYEwTSUk",
        "outputId": "57e95e40-8aa3-43b0-f9b9-13b8787631dc"
      },
      "execution_count": null,
      "outputs": [
        {
          "output_type": "stream",
          "name": "stdout",
          "text": [
            "Q21) RandomForestClassifier ROC-AUC: 0.9642\n"
          ]
        }
      ]
    },
    {
      "cell_type": "markdown",
      "source": [
        "42. Train a Bagging Classifier and evaluate its performance using cross-validation."
      ],
      "metadata": {
        "id": "BeAwJErkj5eB"
      }
    },
    {
      "cell_type": "code",
      "source": [
        "# Import libraries\n",
        "from sklearn.datasets import load_iris\n",
        "from sklearn.model_selection import cross_val_score, train_test_split\n",
        "from sklearn.ensemble import BaggingClassifier\n",
        "from sklearn.tree import DecisionTreeClassifier\n",
        "import numpy as np\n",
        "\n",
        "# Load dataset\n",
        "data = load_iris()\n",
        "X = data.data\n",
        "y = data.target\n",
        "\n",
        "# Initialize Bagging Classifier with Decision Tree as base estimator\n",
        "bag_clf = BaggingClassifier(\n",
        "    estimator=DecisionTreeClassifier(random_state=42),\n",
        "    n_estimators=50,\n",
        "    random_state=42\n",
        ")\n",
        "\n",
        "# Perform 5-fold cross-validation\n",
        "cv_scores = cross_val_score(bag_clf, X, y, cv=5, scoring='accuracy')\n",
        "\n",
        "# Print results\n",
        "print(\"Cross-validation scores:\", np.round(cv_scores, 4))\n",
        "print(\"Mean CV Accuracy:\", round(np.mean(cv_scores), 4))\n",
        "print(\"Standard Deviation:\", round(np.std(cv_scores), 4))\n",
        "\n"
      ],
      "metadata": {
        "colab": {
          "base_uri": "https://localhost:8080/"
        },
        "id": "-MbQrHP3TdWH",
        "outputId": "bcab7983-fbdb-4cfb-9abe-4158f69301bc"
      },
      "execution_count": 18,
      "outputs": [
        {
          "output_type": "stream",
          "name": "stdout",
          "text": [
            "Cross-validation scores: [0.9667 0.9667 0.9333 0.9667 1.    ]\n",
            "Mean CV Accuracy: 0.9667\n",
            "Standard Deviation: 0.0211\n"
          ]
        }
      ]
    },
    {
      "cell_type": "markdown",
      "source": [
        "43.  Train a Random Forest Classifier and plot the Precision-Recall curve."
      ],
      "metadata": {
        "id": "GCB7nP94j_P0"
      }
    },
    {
      "cell_type": "code",
      "source": [
        "from sklearn.metrics import precision_recall_curve, average_precision_score\n",
        "import matplotlib.pyplot as plt\n",
        "\n",
        "rf = RandomForestClassifier(n_estimators=100, random_state=42)\n",
        "rf.fit(X_train, y_train)\n",
        "y_prob = rf.predict_proba(X_test)[:, 1]\n",
        "\n",
        "precision, recall, thresholds = precision_recall_curve(y_test, y_prob)\n",
        "avg_prec = average_precision_score(y_test, y_prob)\n",
        "\n",
        "print(\"Q23) Average Precision Score:\", round(avg_prec, 4))\n",
        "\n",
        "plt.plot(recall, precision, marker=\".\")\n",
        "plt.title(f\"Precision-Recall Curve (AP={avg_prec:.3f})\")\n",
        "plt.xlabel(\"Recall\")\n",
        "plt.ylabel(\"Precision\")\n",
        "plt.grid(True)\n",
        "plt.show()\n"
      ],
      "metadata": {
        "colab": {
          "base_uri": "https://localhost:8080/",
          "height": 489
        },
        "id": "iwo1Iix6Tgs0",
        "outputId": "365f6af8-d62a-4a0b-d7f3-b39760ce8457"
      },
      "execution_count": null,
      "outputs": [
        {
          "output_type": "stream",
          "name": "stdout",
          "text": [
            "Q23) Average Precision Score: 0.9602\n"
          ]
        },
        {
          "output_type": "display_data",
          "data": {
            "text/plain": [
              "<Figure size 640x480 with 1 Axes>"
            ],
            "image/png": "[encoded data removed]"
          },
          "metadata": {}
        }
      ]
    },
    {
      "cell_type": "markdown",
      "source": [
        "44. Train a Stacking Classifier with Random Forest and Logistic Regression and compare accuracy."
      ],
      "metadata": {
        "id": "XrreysxQkFPq"
      }
    },
    {
      "cell_type": "code",
      "source": [
        "from sklearn.datasets import load_breast_cancer\n",
        "from sklearn.model_selection import train_test_split\n",
        "from sklearn.ensemble import RandomForestClassifier, StackingClassifier\n",
        "from sklearn.linear_model import LogisticRegression\n",
        "from sklearn.preprocessing import StandardScaler\n",
        "from sklearn.pipeline import make_pipeline\n",
        "from sklearn.metrics import accuracy_score\n",
        "\n",
        "# Load dataset\n",
        "data = load_breast_cancer()\n",
        "X, y = data.data, data.target\n",
        "\n",
        "# Split data\n",
        "X_train, X_test, y_train, y_test = train_test_split(X, y, test_size=0.2, random_state=42)\n",
        "\n",
        "# Base learners with scaling for Logistic Regression\n",
        "rf = RandomForestClassifier(n_estimators=100, random_state=42)\n",
        "lr = make_pipeline(StandardScaler(), LogisticRegression(max_iter=1000, random_state=42))\n",
        "\n",
        "# Stacking classifier\n",
        "stack = StackingClassifier(\n",
        "    estimators=[('rf', rf), ('lr', lr)],\n",
        "    final_estimator=LogisticRegression(),\n",
        "    cv=5\n",
        ")\n",
        "\n",
        "# Train models\n",
        "rf.fit(X_train, y_train)\n",
        "lr.fit(X_train, y_train)\n",
        "stack.fit(X_train, y_train)\n",
        "\n",
        "# Predictions\n",
        "y_pred_rf = rf.predict(X_test)\n",
        "y_pred_lr = lr.predict(X_test)\n",
        "y_pred_stack = stack.predict(X_test)\n",
        "\n",
        "# Accuracy\n",
        "print(\"Random Forest Accuracy:\", accuracy_score(y_test, y_pred_rf))\n",
        "print(\"Logistic Regression Accuracy:\", accuracy_score(y_test, y_pred_lr))\n",
        "print(\"Stacking Classifier Accuracy:\", accuracy_score(y_test, y_pred_stack))\n",
        "\n",
        "\n"
      ],
      "metadata": {
        "colab": {
          "base_uri": "https://localhost:8080/"
        },
        "id": "Ikv-XOptTszX",
        "outputId": "1557ec87-44b4-4856-d142-c1b4d045b432"
      },
      "execution_count": null,
      "outputs": [
        {
          "output_type": "stream",
          "name": "stdout",
          "text": [
            "Random Forest Accuracy: 0.9649122807017544\n",
            "Logistic Regression Accuracy: 0.9736842105263158\n",
            "Stacking Classifier Accuracy: 0.9736842105263158\n"
          ]
        }
      ]
    },
    {
      "cell_type": "markdown",
      "source": [
        "45.  Train a Bagging Regressor with different levels of bootstrap samples and compare performance."
      ],
      "metadata": {
        "id": "YGhbNSFekKMz"
      }
    },
    {
      "cell_type": "code",
      "source": [
        "from sklearn.ensemble import BaggingRegressor\n",
        "from sklearn.tree import DecisionTreeRegressor\n",
        "from sklearn.metrics import mean_squared_error\n",
        "from sklearn.datasets import make_regression\n",
        "from sklearn.model_selection import train_test_split\n",
        "\n",
        "# Create regression dataset\n",
        "X, y = make_regression(n_samples=900, n_features=15, n_informative=8,\n",
        "                       noise=2.5, random_state=1)\n",
        "X_train, X_test, y_train, y_test = train_test_split(\n",
        "    X, y, test_size=0.25, random_state=1)\n",
        "\n",
        "# Try different bootstrap sample fractions\n",
        "for bs in [0.5, 0.7, 1.0]:   # 50%, 70%, 100% of training samples\n",
        "    br = BaggingRegressor(\n",
        "        estimator=DecisionTreeRegressor(random_state=1),\n",
        "        n_estimators=30,\n",
        "        bootstrap=True,\n",
        "        max_samples=bs,\n",
        "        random_state=1\n",
        "    )\n",
        "    br.fit(X_train, y_train)\n",
        "    mse = mean_squared_error(y_test, br.predict(X_test))\n",
        "    print(f\"Bootstrap sample fraction={bs} -> MSE={round(mse, 4)}\")\n",
        "\n"
      ],
      "metadata": {
        "id": "naAkLlT_kX8B",
        "colab": {
          "base_uri": "https://localhost:8080/"
        },
        "outputId": "20597a30-c5e7-4396-dd29-ee56d36377ae"
      },
      "execution_count": null,
      "outputs": [
        {
          "output_type": "stream",
          "name": "stdout",
          "text": [
            "Bootstrap sample fraction=0.5 -> MSE=5120.8843\n",
            "Bootstrap sample fraction=0.7 -> MSE=5293.0917\n",
            "Bootstrap sample fraction=1.0 -> MSE=4776.4778\n"
          ]
        }
      ]
    },
    {
      "cell_type": "code",
      "source": [],
      "metadata": {
        "id": "BxGN9JfeTzP0"
      },
      "execution_count": null,
      "outputs": []
    }
  ]
}
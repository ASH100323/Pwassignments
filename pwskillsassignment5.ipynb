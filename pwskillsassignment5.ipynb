{
  "nbformat": 4,
  "nbformat_minor": 0,
  "metadata": {
    "colab": {
      "provenance": []
    },
    "kernelspec": {
      "name": "python3",
      "display_name": "Python 3"
    },
    "language_info": {
      "name": "python"
    }
  },
  "cells": [
    {
      "cell_type": "markdown",
      "source": [
        " 1. What is statistics, and why is it important?"
      ],
      "metadata": {
        "id": "7xdWKUfAzrSv"
      }
    },
    {
      "cell_type": "markdown",
      "source": [
        "Statistics is the science of collecting, analyzing, interpreting, presenting, and organizing data.\n",
        "Importance: Helps in decision-making, pattern recognition, forecasting, and drawing conclusions from data in various fields like economics, science, business, and research."
      ],
      "metadata": {
        "id": "Gy2uJU158YFY"
      }
    },
    {
      "cell_type": "markdown",
      "source": [
        "2. What are the two main types of statistics?"
      ],
      "metadata": {
        "id": "Yq-lzgR_zrPS"
      }
    },
    {
      "cell_type": "markdown",
      "source": [
        "(a) Descriptive Statistics: Summarizes data (mean, median, charts).\n",
        "\n",
        "(b) Inferential Statistics: Makes predictions/inferences about a population using sample data."
      ],
      "metadata": {
        "id": "ZsTsvMq2XwP1"
      }
    },
    {
      "cell_type": "markdown",
      "source": [
        "3. What are descriptive statistics?"
      ],
      "metadata": {
        "id": "eSfzvYIzzrMe"
      }
    },
    {
      "cell_type": "markdown",
      "source": [
        "They summarize and describe the main features of a dataset (e.g., mean, standard deviation, frequency).\n",
        "\n"
      ],
      "metadata": {
        "id": "GaQGR1DAXw18"
      }
    },
    {
      "cell_type": "markdown",
      "source": [
        "4. What is inferential statistics?"
      ],
      "metadata": {
        "id": "O7upy3dzzrJz"
      }
    },
    {
      "cell_type": "markdown",
      "source": [
        "Inferential statistics use a random sample of data to draw conclusions about a larger population (e.g., hypothesis testing, confidence intervals)."
      ],
      "metadata": {
        "id": "6ZVpt-25YB1F"
      }
    },
    {
      "cell_type": "markdown",
      "source": [
        "5. What is sampling in statistics?"
      ],
      "metadata": {
        "id": "Q0nN624czrHA"
      }
    },
    {
      "cell_type": "markdown",
      "source": [
        "Sampling is the process of selecting a subset (sample) from a larger population to analyze and draw conclusions."
      ],
      "metadata": {
        "id": "ZgKdVd05YCa9"
      }
    },
    {
      "cell_type": "markdown",
      "source": [
        "6. What are the different types of sampling methods?"
      ],
      "metadata": {
        "id": "aGx91tUEzrEB"
      }
    },
    {
      "cell_type": "markdown",
      "source": [
        "*   Simple Random Sampling\n",
        "*   Stratisfied Sampling\n",
        "*   Cluster Sampling\n",
        "*   Systamatic Sampling\n",
        "\n",
        "\n",
        "\n"
      ],
      "metadata": {
        "id": "oIR5yb-_YDKN"
      }
    },
    {
      "cell_type": "markdown",
      "source": [
        "7. What is the difference between random and non-random sampling?"
      ],
      "metadata": {
        "id": "G5ODP-gOzrBM"
      }
    },
    {
      "cell_type": "markdown",
      "source": [
        "(a) Random Sampling: Every item has an equal chance (unbiased).\n",
        "\n",
        "(b) Non-Random Sampling: Items are selected by judgment or convenience (can be biased).\n",
        "\n"
      ],
      "metadata": {
        "id": "QlGFQynYZAWN"
      }
    },
    {
      "cell_type": "markdown",
      "source": [
        "8. Define and give examples of qualitative and quantitative data."
      ],
      "metadata": {
        "id": "WLgxZJaDzq-X"
      }
    },
    {
      "cell_type": "markdown",
      "source": [
        "Qualitative: Non-numerical and categorical data (e.g., gender, color).\n",
        "\n",
        "Quantitative: Numerical (e.g., height, marks)."
      ],
      "metadata": {
        "id": "NhhRytOvZNLe"
      }
    },
    {
      "cell_type": "markdown",
      "source": [
        "9. What are the different types of data in statistics?"
      ],
      "metadata": {
        "id": "df9FGS16zq7j"
      }
    },
    {
      "cell_type": "markdown",
      "source": [
        "Qualitative: Nominal, Ordinal\n",
        "\n",
        "Quantitative: Discrete, Continuous"
      ],
      "metadata": {
        "id": "NcwOLHgEZYiV"
      }
    },
    {
      "cell_type": "markdown",
      "source": [
        "10. Explain nominal, ordinal, interval, and ratio levels of measurement."
      ],
      "metadata": {
        "id": "pEi1mQtmzq5h"
      }
    },
    {
      "cell_type": "markdown",
      "source": [
        "Nominal: Categories (e.g., gender)\n",
        "\n",
        "Ordinal: Ordered categories (e.g., ranks)\n",
        "\n",
        "Interval: Numeric, no true zero (e.g., temperature)\n",
        "\n",
        "Ratio: Numeric, true zero (e.g., weight)\n",
        "\n"
      ],
      "metadata": {
        "id": "DMiOYQESZdO2"
      }
    },
    {
      "cell_type": "markdown",
      "source": [
        "11. What is the measure of central tendency?"
      ],
      "metadata": {
        "id": "jW-pL4Bezq2y"
      }
    },
    {
      "cell_type": "markdown",
      "source": [
        "It indicates the center of a dataset (mean, median, mode)."
      ],
      "metadata": {
        "id": "0bptMLqBZlj2"
      }
    },
    {
      "cell_type": "markdown",
      "source": [
        "12.  Define mean, median, and mode."
      ],
      "metadata": {
        "id": "0n2U11GQzq0Z"
      }
    },
    {
      "cell_type": "markdown",
      "source": [
        "Mean: Average\n",
        "\n",
        "Median: Middle value\n",
        "\n",
        "Mode: Most frequent value"
      ],
      "metadata": {
        "id": "ChcPLYWRZoVb"
      }
    },
    {
      "cell_type": "markdown",
      "source": [
        "13. What is the significance of the measure of central tendency?"
      ],
      "metadata": {
        "id": "HmVhUwHHzqx7"
      }
    },
    {
      "cell_type": "markdown",
      "source": [
        "It helps summarize data with a single value, indicating where most values lie."
      ],
      "metadata": {
        "id": "_9GVKJNqZrCO"
      }
    },
    {
      "cell_type": "markdown",
      "source": [
        "14. What is variance, and how is it calculated?"
      ],
      "metadata": {
        "id": "mLrkocW4zqvh"
      }
    },
    {
      "cell_type": "markdown",
      "source": [
        "It measures the average squared deviation from the mean.\n",
        "\n",
        "\n",
        "\\[\\text{Variance} = \\frac{1}{n} \\sum_{i=1}^{n} (x_i - \\bar{x})^2\\]"
      ],
      "metadata": {
        "id": "wsWPIFEGZt3e"
      }
    },
    {
      "cell_type": "markdown",
      "source": [
        "15.  What is standard deviation, and why is it important?"
      ],
      "metadata": {
        "id": "Yw0V_6RAzqs7"
      }
    },
    {
      "cell_type": "markdown",
      "source": [
        "Square root of variance. Shows how spread out the data is.\n",
        "Lower SD = data close to mean, higher = more spread.\n",
        "\n"
      ],
      "metadata": {
        "id": "5Zb_7uWfakXm"
      }
    },
    {
      "cell_type": "markdown",
      "source": [
        "16. Define and explain the term range in statistics."
      ],
      "metadata": {
        "id": "QOA0m_SWzqqk"
      }
    },
    {
      "cell_type": "markdown",
      "source": [
        "Range = Max - Min value. Shows the spread."
      ],
      "metadata": {
        "id": "Yzyfc52raq7-"
      }
    },
    {
      "cell_type": "markdown",
      "source": [
        "17. What is the difference between variance and standard deviation?"
      ],
      "metadata": {
        "id": "chOLWXkmzqnr"
      }
    },
    {
      "cell_type": "markdown",
      "source": [
        "Variance is the average squared deviation.\n",
        "Standard deviation is its square root (easier to interpret in original units)."
      ],
      "metadata": {
        "id": "Gwr0HN9GatSd"
      }
    },
    {
      "cell_type": "markdown",
      "source": [
        "18. What is skewness in a dataset?"
      ],
      "metadata": {
        "id": "8v9zLps766YQ"
      }
    },
    {
      "cell_type": "markdown",
      "source": [
        "Skewness indicates asymmetry of the data distribution."
      ],
      "metadata": {
        "id": "anUYB5syav-N"
      }
    },
    {
      "cell_type": "markdown",
      "source": [
        "19. What does it mean if a dataset is positively or negatively skewed?"
      ],
      "metadata": {
        "id": "E-M-C8rC66Vu"
      }
    },
    {
      "cell_type": "markdown",
      "source": [
        "Positive Skew: Tail on right, mean > median\n",
        "Negative Skew: Tail on left, mean < median"
      ],
      "metadata": {
        "id": "weZ5Nh2Ja1Pe"
      }
    },
    {
      "cell_type": "markdown",
      "source": [
        "20. Define and explain kurtosis."
      ],
      "metadata": {
        "id": "td8C-JeI66St"
      }
    },
    {
      "cell_type": "markdown",
      "source": [
        "Kurtosis measures the \"tailedness\" of the distribution.\n",
        "\n",
        "High kurtosis: Heavy tails\n",
        "\n",
        "Low kurtosis: Light tails\n",
        "\n"
      ],
      "metadata": {
        "id": "9DSwsxcQa59d"
      }
    },
    {
      "cell_type": "markdown",
      "source": [
        "21. What is the purpose of covariance?"
      ],
      "metadata": {
        "id": "BUG1-6pP66Pp"
      }
    },
    {
      "cell_type": "markdown",
      "source": [
        "Shows the direction of linear relationship between variables.\n",
        "\n"
      ],
      "metadata": {
        "id": "WlCfuSH5bDFG"
      }
    },
    {
      "cell_type": "markdown",
      "source": [
        "22. What does correlation measure in statistics?"
      ],
      "metadata": {
        "id": "A0TQPZXG66Mg"
      }
    },
    {
      "cell_type": "markdown",
      "source": [
        "Measures both strength and direction of the relationship between variables (e.g., Pearson's r).\n",
        "\n"
      ],
      "metadata": {
        "id": "2IolzGSabJsH"
      }
    },
    {
      "cell_type": "markdown",
      "source": [
        "23. What is the difference between covariance and correlation?"
      ],
      "metadata": {
        "id": "-wwePCew66Jj"
      }
    },
    {
      "cell_type": "markdown",
      "source": [
        "Covariance: Only direction, unscaled\n",
        "\n",
        "Correlation: Direction and strength, scaled between -1 and 1"
      ],
      "metadata": {
        "id": "7dNzqeevbKoO"
      }
    },
    {
      "cell_type": "markdown",
      "source": [
        "24. What are some real-world applications of statistics?"
      ],
      "metadata": {
        "id": "7uOg8a7F66Gf"
      }
    },
    {
      "cell_type": "markdown",
      "source": [
        "\n",
        "*  Market research\n",
        "\n",
        "*  Medical trials\n",
        "\n",
        "*  Weather forecasting\n",
        "*  Sports analytics\n",
        "\n",
        "\n",
        "*  Economics\n",
        "\n",
        "\n",
        "*  Machine learning\n",
        "\n",
        "\n",
        "\n"
      ],
      "metadata": {
        "id": "Ef-gNDENbNMm"
      }
    },
    {
      "cell_type": "markdown",
      "source": [
        "#Practical"
      ],
      "metadata": {
        "id": "ATJTyuSO66DZ"
      }
    },
    {
      "cell_type": "markdown",
      "source": [
        "1. How do you calculate the mean, median, and mode of a dataset?"
      ],
      "metadata": {
        "id": "Jke_UIVf66AT"
      }
    },
    {
      "cell_type": "code",
      "source": [
        "import numpy as np\n",
        "from scipy import stats\n",
        "\n",
        "data = [10, 20, 20, 30, 40]\n",
        "\n",
        "mean = np.mean(data)\n",
        "median = np.median(data)\n",
        "mode = stats.mode(data)\n",
        "\n",
        "print(\"Mean:\", mean)\n",
        "print(\"Median:\", median)\n",
        "print(\"Mode:\", mode.mode[0])"
      ],
      "metadata": {
        "colab": {
          "base_uri": "https://localhost:8080/",
          "height": 211
        },
        "id": "FuLePfKLbp3v",
        "outputId": "f0b976b9-d6c0-445f-c4b9-cdba47888ad7"
      },
      "execution_count": 1,
      "outputs": [
        {
          "output_type": "stream",
          "name": "stdout",
          "text": [
            "Mean: 24.0\n",
            "Median: 20.0\n"
          ]
        },
        {
          "output_type": "error",
          "ename": "IndexError",
          "evalue": "invalid index to scalar variable.",
          "traceback": [
            "\u001b[0;31m---------------------------------------------------------------------------\u001b[0m",
            "\u001b[0;31mIndexError\u001b[0m                                Traceback (most recent call last)",
            "\u001b[0;32m/tmp/ipython-input-3956992090.py\u001b[0m in \u001b[0;36m<cell line: 0>\u001b[0;34m()\u001b[0m\n\u001b[1;32m     10\u001b[0m \u001b[0mprint\u001b[0m\u001b[0;34m(\u001b[0m\u001b[0;34m\"Mean:\"\u001b[0m\u001b[0;34m,\u001b[0m \u001b[0mmean\u001b[0m\u001b[0;34m)\u001b[0m\u001b[0;34m\u001b[0m\u001b[0;34m\u001b[0m\u001b[0m\n\u001b[1;32m     11\u001b[0m \u001b[0mprint\u001b[0m\u001b[0;34m(\u001b[0m\u001b[0;34m\"Median:\"\u001b[0m\u001b[0;34m,\u001b[0m \u001b[0mmedian\u001b[0m\u001b[0;34m)\u001b[0m\u001b[0;34m\u001b[0m\u001b[0;34m\u001b[0m\u001b[0m\n\u001b[0;32m---> 12\u001b[0;31m \u001b[0mprint\u001b[0m\u001b[0;34m(\u001b[0m\u001b[0;34m\"Mode:\"\u001b[0m\u001b[0;34m,\u001b[0m \u001b[0mmode\u001b[0m\u001b[0;34m.\u001b[0m\u001b[0mmode\u001b[0m\u001b[0;34m[\u001b[0m\u001b[0;36m0\u001b[0m\u001b[0;34m]\u001b[0m\u001b[0;34m)\u001b[0m\u001b[0;34m\u001b[0m\u001b[0;34m\u001b[0m\u001b[0m\n\u001b[0m",
            "\u001b[0;31mIndexError\u001b[0m: invalid index to scalar variable."
          ]
        }
      ]
    },
    {
      "cell_type": "markdown",
      "source": [
        "2. Write a Python program to compute the variance and standard deviation of a dataset."
      ],
      "metadata": {
        "id": "FfExNoOl659J"
      }
    },
    {
      "cell_type": "code",
      "source": [
        "variance = np.var(data)\n",
        "std_dev = np.std(data)\n",
        "\n",
        "print(\"Variance:\", variance)\n",
        "print(\"Standard Deviation:\", std_dev)"
      ],
      "metadata": {
        "colab": {
          "base_uri": "https://localhost:8080/"
        },
        "id": "aBIKP3eMb1PN",
        "outputId": "c6da011c-beb3-4c3f-dd8f-7ad05a0d2e1d"
      },
      "execution_count": 2,
      "outputs": [
        {
          "output_type": "stream",
          "name": "stdout",
          "text": [
            "Variance: 104.0\n",
            "Standard Deviation: 10.198039027185569\n"
          ]
        }
      ]
    },
    {
      "cell_type": "markdown",
      "source": [
        "3. Create a dataset and classify it into nominal, ordinal, interval, and ratio types."
      ],
      "metadata": {
        "id": "GITt9Ra9656I"
      }
    },
    {
      "cell_type": "code",
      "source": [
        "data = {\n",
        "    \"Nominal\": [\"Red\", \"Blue\", \"Green\"],\n",
        "    \"Ordinal\": [\"Low\", \"Medium\", \"High\"],\n",
        "    \"Interval\": [20, 30, 40],  # Temperature in Celsius\n",
        "    \"Ratio\": [150, 160, 170]   # Height\n",
        "}\n",
        "print(data)"
      ],
      "metadata": {
        "colab": {
          "base_uri": "https://localhost:8080/"
        },
        "id": "M35xX0jlb3__",
        "outputId": "239d84ba-da8f-408d-ac14-fc24a0648a56"
      },
      "execution_count": 3,
      "outputs": [
        {
          "output_type": "stream",
          "name": "stdout",
          "text": [
            "{'Nominal': ['Red', 'Blue', 'Green'], 'Ordinal': ['Low', 'Medium', 'High'], 'Interval': [20, 30, 40], 'Ratio': [150, 160, 170]}\n"
          ]
        }
      ]
    },
    {
      "cell_type": "markdown",
      "source": [
        "4. Implement sampling techniques like random sampling and stratified sampling."
      ],
      "metadata": {
        "id": "r6dObBbv6525"
      }
    },
    {
      "cell_type": "code",
      "source": [
        "import pandas as pd\n",
        "from sklearn.model_selection import train_test_split\n",
        "\n",
        "df = pd.DataFrame({'Gender': ['M', 'F', 'F', 'M', 'F', 'M'], 'Score': [85, 90, 88, 70, 95, 60]})\n",
        "\n",
        "# Random Sampling\n",
        "random_sample = df.sample(n=3)\n",
        "print(\"Random Sample:\\n\", random_sample)\n",
        "\n",
        "# Stratified Sampling\n",
        "stratified_sample, _ = train_test_split(df, stratify=df['Gender'], test_size=0.5)\n",
        "print(\"Stratified Sample:\\n\", stratified_sample)"
      ],
      "metadata": {
        "colab": {
          "base_uri": "https://localhost:8080/"
        },
        "id": "kSBIvjX4b9VN",
        "outputId": "0cecc26d-d56e-4079-d023-2feafac4333a"
      },
      "execution_count": 4,
      "outputs": [
        {
          "output_type": "stream",
          "name": "stdout",
          "text": [
            "Random Sample:\n",
            "   Gender  Score\n",
            "2      F     88\n",
            "0      M     85\n",
            "3      M     70\n",
            "Stratified Sample:\n",
            "   Gender  Score\n",
            "4      F     95\n",
            "3      M     70\n",
            "5      M     60\n"
          ]
        }
      ]
    },
    {
      "cell_type": "markdown",
      "source": [
        "5. Write a Python function to calculate the range of a dataset."
      ],
      "metadata": {
        "id": "HsYU7vZ665z-"
      }
    },
    {
      "cell_type": "code",
      "source": [
        "def calc_range(data):\n",
        "    return max(data) - min(data)\n",
        "\n",
        "print(\"Range:\", calc_range([5, 10, 15, 20]))"
      ],
      "metadata": {
        "colab": {
          "base_uri": "https://localhost:8080/"
        },
        "id": "n-6bI1q1cCT_",
        "outputId": "226e8a06-6598-451d-cf27-5fc04b56f576"
      },
      "execution_count": 5,
      "outputs": [
        {
          "output_type": "stream",
          "name": "stdout",
          "text": [
            "Range: 15\n"
          ]
        }
      ]
    },
    {
      "cell_type": "markdown",
      "source": [
        "6. Create a dataset and plot its histogram to visualize skewness."
      ],
      "metadata": {
        "id": "XR8M7xwK65ww"
      }
    },
    {
      "cell_type": "code",
      "source": [
        "import matplotlib.pyplot as plt\n",
        "\n",
        "data = np.random.exponential(scale=2, size=1000)\n",
        "plt.hist(data, bins=30)\n",
        "plt.title(\"Histogram - Positively Skewed\")\n",
        "plt.show()"
      ],
      "metadata": {
        "colab": {
          "base_uri": "https://localhost:8080/",
          "height": 452
        },
        "id": "EKL7B4kmcFsW",
        "outputId": "ad3a7079-bbc8-4171-b3a3-e009a38b26a9"
      },
      "execution_count": 6,
      "outputs": [
        {
          "output_type": "display_data",
          "data": {
            "text/plain": [
              "<Figure size 640x480 with 1 Axes>"
            ],
            "image/png": "[encoded data removed]"
          },
          "metadata": {}
        }
      ]
    },
    {
      "cell_type": "markdown",
      "source": [
        "7. Calculate skewness and kurtosis of a dataset using Python libraries."
      ],
      "metadata": {
        "id": "bKPIxSCE65tm"
      }
    },
    {
      "cell_type": "code",
      "source": [
        "from scipy.stats import skew, kurtosis\n",
        "\n",
        "print(\"Skewness:\", skew(data))\n",
        "print(\"Kurtosis:\", kurtosis(data))\n"
      ],
      "metadata": {
        "colab": {
          "base_uri": "https://localhost:8080/"
        },
        "id": "Jvhd9MeWcIgf",
        "outputId": "bb7e9b49-86b9-4f1c-aff7-e37ec2acea77"
      },
      "execution_count": 7,
      "outputs": [
        {
          "output_type": "stream",
          "name": "stdout",
          "text": [
            "Skewness: 1.8334673527400887\n",
            "Kurtosis: 4.435983904914539\n"
          ]
        }
      ]
    },
    {
      "cell_type": "markdown",
      "source": [
        "8. Generate a dataset and demonstrate positive and negative skewness."
      ],
      "metadata": {
        "id": "bKSky2c_65qw"
      }
    },
    {
      "cell_type": "code",
      "source": [
        "# Positive skew\n",
        "pos_skew = np.random.exponential(scale=2, size=1000)\n",
        "\n",
        "# Negative skew\n",
        "neg_skew = -1 * np.random.exponential(scale=2, size=1000)\n",
        "\n",
        "print(\"Positive Skewness:\", skew(pos_skew))\n",
        "print(\"Negative Skewness:\", skew(neg_skew))"
      ],
      "metadata": {
        "colab": {
          "base_uri": "https://localhost:8080/"
        },
        "id": "6kzQRxVwcLje",
        "outputId": "6912555c-e9ab-4606-b5ef-69c5a37b5a76"
      },
      "execution_count": 8,
      "outputs": [
        {
          "output_type": "stream",
          "name": "stdout",
          "text": [
            "Positive Skewness: 2.3593244156621624\n",
            "Negative Skewness: -1.9155274343165034\n"
          ]
        }
      ]
    },
    {
      "cell_type": "markdown",
      "source": [
        "9. Write a Python script to calculate covariance between two datasets."
      ],
      "metadata": {
        "id": "HTXKwl5065ng"
      }
    },
    {
      "cell_type": "code",
      "source": [
        "x = [1, 2, 3, 4, 5]\n",
        "y = [3, 4, 2, 4, 5]\n",
        "\n",
        "cov = np.cov(x, y)[0][1]\n",
        "print(\"Covariance:\", cov)"
      ],
      "metadata": {
        "colab": {
          "base_uri": "https://localhost:8080/"
        },
        "id": "piIUBMoocPKm",
        "outputId": "5c09b84e-b175-498b-9e0a-da7debce490b"
      },
      "execution_count": 9,
      "outputs": [
        {
          "output_type": "stream",
          "name": "stdout",
          "text": [
            "Covariance: 1.0\n"
          ]
        }
      ]
    },
    {
      "cell_type": "markdown",
      "source": [
        "10. Write a Python script to calculate the correlation coefficient between two datasets."
      ],
      "metadata": {
        "id": "JWVYSpqt65ks"
      }
    },
    {
      "cell_type": "code",
      "source": [
        "corr = np.corrcoef(x, y)[0][1]\n",
        "print(\"Correlation Coefficient:\", corr)"
      ],
      "metadata": {
        "colab": {
          "base_uri": "https://localhost:8080/"
        },
        "id": "virC0-MlcR7c",
        "outputId": "6af374bd-8720-434e-bd5f-b375a51f2eb3"
      },
      "execution_count": 10,
      "outputs": [
        {
          "output_type": "stream",
          "name": "stdout",
          "text": [
            "Correlation Coefficient: 0.5547001962252291\n"
          ]
        }
      ]
    },
    {
      "cell_type": "markdown",
      "source": [
        "11. Create a scatter plot to visualize the relationship between two variables.\n"
      ],
      "metadata": {
        "id": "ZDMK7TcJ65hn"
      }
    },
    {
      "cell_type": "code",
      "source": [
        "plt.scatter(x, y)\n",
        "plt.xlabel(\"X\")\n",
        "plt.ylabel(\"Y\")\n",
        "plt.title(\"Scatter Plot\")\n",
        "plt.show()"
      ],
      "metadata": {
        "colab": {
          "base_uri": "https://localhost:8080/",
          "height": 472
        },
        "id": "PFMNfRmlcVN2",
        "outputId": "6a45bd9b-dfef-4b28-b42d-8f638a5a70a6"
      },
      "execution_count": 11,
      "outputs": [
        {
          "output_type": "display_data",
          "data": {
            "text/plain": [
              "<Figure size 640x480 with 1 Axes>"
            ],
            "image/png": "[encoded data removed]"
          },
          "metadata": {}
        }
      ]
    },
    {
      "cell_type": "markdown",
      "source": [
        "12. Implement and compare simple random sampling and systematic sampling."
      ],
      "metadata": {
        "id": "sek8l4mh65eg"
      }
    },
    {
      "cell_type": "code",
      "source": [
        "# Simple Random\n",
        "random_sample = df.sample(n=2)\n",
        "\n",
        "# Systematic (every 2nd element)\n",
        "systematic_sample = df.iloc[::2]\n",
        "\n",
        "print(\"Random Sample:\\n\", random_sample)\n",
        "print(\"Systematic Sample:\\n\", systematic_sample)"
      ],
      "metadata": {
        "colab": {
          "base_uri": "https://localhost:8080/"
        },
        "id": "wcBwp5iRcYTO",
        "outputId": "c94408e6-b265-4d90-b5c3-f196c9e7bfe9"
      },
      "execution_count": 12,
      "outputs": [
        {
          "output_type": "stream",
          "name": "stdout",
          "text": [
            "Random Sample:\n",
            "   Gender  Score\n",
            "0      M     85\n",
            "3      M     70\n",
            "Systematic Sample:\n",
            "   Gender  Score\n",
            "0      M     85\n",
            "2      F     88\n",
            "4      F     95\n"
          ]
        }
      ]
    },
    {
      "cell_type": "markdown",
      "source": [
        "13. Calculate the mean, median, and mode of grouped data."
      ],
      "metadata": {
        "id": "xFIirEQt65bQ"
      }
    },
    {
      "cell_type": "code",
      "source": [
        "import pandas as pd\n",
        "\n",
        "grouped_data = {'Class': ['0-10','10-20','20-30'], 'Frequency': [5, 15, 10]}\n",
        "df = pd.DataFrame(grouped_data)\n",
        "print(\"Grouped data: \\n\", df)\n",
        "# Advanced calculation can be done if needed\n"
      ],
      "metadata": {
        "colab": {
          "base_uri": "https://localhost:8080/"
        },
        "id": "LgNOAUiicbZO",
        "outputId": "c3fe5753-dd08-40c9-9b44-94c6f63d5246"
      },
      "execution_count": 13,
      "outputs": [
        {
          "output_type": "stream",
          "name": "stdout",
          "text": [
            "Grouped data: \n",
            "    Class  Frequency\n",
            "0   0-10          5\n",
            "1  10-20         15\n",
            "2  20-30         10\n"
          ]
        }
      ]
    },
    {
      "cell_type": "markdown",
      "source": [
        "14. Simulate data using Python and calculate its central tendency and dispersion."
      ],
      "metadata": {
        "id": "ms6DkRm765YY"
      }
    },
    {
      "cell_type": "code",
      "source": [
        "sim_data = np.random.normal(50, 10, 1000)\n",
        "print(\"Mean:\", np.mean(sim_data))\n",
        "print(\"Std Dev:\", np.std(sim_data))"
      ],
      "metadata": {
        "colab": {
          "base_uri": "https://localhost:8080/"
        },
        "id": "ONxbtU5GcfMW",
        "outputId": "ef74ddae-a7ce-444c-9e1c-4130581d29ed"
      },
      "execution_count": 14,
      "outputs": [
        {
          "output_type": "stream",
          "name": "stdout",
          "text": [
            "Mean: 49.8990580125665\n",
            "Std Dev: 9.812736201118295\n"
          ]
        }
      ]
    },
    {
      "cell_type": "markdown",
      "source": [
        "15.Use NumPy or pandas to summarize a dataset’s descriptive statistics."
      ],
      "metadata": {
        "id": "mtRBl7TN65VQ"
      }
    },
    {
      "cell_type": "code",
      "source": [
        "import pandas as pd\n",
        "df = pd.DataFrame({'Data': sim_data})\n",
        "print(df.describe())\n"
      ],
      "metadata": {
        "colab": {
          "base_uri": "https://localhost:8080/"
        },
        "id": "oQTZRB9MciHA",
        "outputId": "98ddc59d-0390-4c60-e588-36126cc18615"
      },
      "execution_count": 15,
      "outputs": [
        {
          "output_type": "stream",
          "name": "stdout",
          "text": [
            "              Data\n",
            "count  1000.000000\n",
            "mean     49.899058\n",
            "std       9.817646\n",
            "min      14.759788\n",
            "25%      43.018188\n",
            "50%      50.209365\n",
            "75%      56.502628\n",
            "max      78.784733\n"
          ]
        }
      ]
    },
    {
      "cell_type": "markdown",
      "source": [
        "16.Plot a boxplot to understand the spread and identify outliers."
      ],
      "metadata": {
        "id": "5yY_grKK65SH"
      }
    },
    {
      "cell_type": "code",
      "source": [
        "plt.boxplot(sim_data)\n",
        "plt.title(\"Boxplot\")\n",
        "plt.show()"
      ],
      "metadata": {
        "colab": {
          "base_uri": "https://localhost:8080/",
          "height": 452
        },
        "id": "sY8MjmZvckov",
        "outputId": "7f3a44f0-3109-4df2-d5e2-c174a0cf98b7"
      },
      "execution_count": 16,
      "outputs": [
        {
          "output_type": "display_data",
          "data": {
            "text/plain": [
              "<Figure size 640x480 with 1 Axes>"
            ],
            "image/png": "[encoded data removed]"
          },
          "metadata": {}
        }
      ]
    },
    {
      "cell_type": "markdown",
      "source": [
        "17.Calculate the interquartile range (IQR) of a dataset."
      ],
      "metadata": {
        "id": "cUe7Lkfy65PL"
      }
    },
    {
      "cell_type": "code",
      "source": [
        "Q1 = np.percentile(sim_data, 25)\n",
        "Q3 = np.percentile(sim_data, 75)\n",
        "IQR = Q3 - Q1\n",
        "print(\"IQR:\", IQR)"
      ],
      "metadata": {
        "colab": {
          "base_uri": "https://localhost:8080/"
        },
        "id": "0sDSpOFPcsVV",
        "outputId": "a3eeb0ae-0a1d-4432-c729-22a65228996e"
      },
      "execution_count": 17,
      "outputs": [
        {
          "output_type": "stream",
          "name": "stdout",
          "text": [
            "IQR: 13.484440244082926\n"
          ]
        }
      ]
    },
    {
      "cell_type": "markdown",
      "source": [
        "18. Implement Z-score normalization and explain its significance."
      ],
      "metadata": {
        "id": "cG8YJcJt65Lw"
      }
    },
    {
      "cell_type": "code",
      "source": [
        "z_scores = (sim_data - np.mean(sim_data)) / np.std(sim_data)\n",
        "print(\"First 5 Z-scores:\", z_scores[:5])\n"
      ],
      "metadata": {
        "colab": {
          "base_uri": "https://localhost:8080/"
        },
        "id": "jwYOptg6cvKm",
        "outputId": "83c9ecfe-fd82-44ed-c092-57aeff9c1ec8"
      },
      "execution_count": 18,
      "outputs": [
        {
          "output_type": "stream",
          "name": "stdout",
          "text": [
            "First 5 Z-scores: [-0.62868566 -1.02721793 -0.68792392 -1.15943164 -1.54547346]\n"
          ]
        }
      ]
    },
    {
      "cell_type": "markdown",
      "source": [
        "19.Compare two datasets using their standard deviations."
      ],
      "metadata": {
        "id": "wVTHNqXbAjJ8"
      }
    },
    {
      "cell_type": "code",
      "source": [
        "data1 = np.random.normal(60, 5, 100)\n",
        "data2 = np.random.normal(60, 15, 100)\n",
        "print(\"SD1:\", np.std(data1), \"SD2:\", np.std(data2))\n"
      ],
      "metadata": {
        "colab": {
          "base_uri": "https://localhost:8080/"
        },
        "id": "qnw2024Tcx0k",
        "outputId": "783e325a-d8e7-4d48-ec0a-4daaea980a03"
      },
      "execution_count": 19,
      "outputs": [
        {
          "output_type": "stream",
          "name": "stdout",
          "text": [
            "SD1: 4.861288011067388 SD2: 14.376334860282263\n"
          ]
        }
      ]
    },
    {
      "cell_type": "markdown",
      "source": [
        "20. Write a Python program to visualize covariance using a heatmap."
      ],
      "metadata": {
        "id": "DRCRqwZh65Ig"
      }
    },
    {
      "cell_type": "code",
      "source": [
        "import seaborn as sns\n",
        "df = pd.DataFrame({'X': x, 'Y': y})\n",
        "sns.heatmap(df.cov(), annot=True, cmap='coolwarm')\n",
        "plt.title(\"Covariance Heatmap\")\n",
        "plt.show()"
      ],
      "metadata": {
        "colab": {
          "base_uri": "https://localhost:8080/",
          "height": 452
        },
        "id": "dx5RTfadc00G",
        "outputId": "375399c4-fa57-43e8-a26f-bcfb1ba9c19e"
      },
      "execution_count": 20,
      "outputs": [
        {
          "output_type": "display_data",
          "data": {
            "text/plain": [
              "<Figure size 640x480 with 2 Axes>"
            ],
            "image/png": "[encoded data removed]"
          },
          "metadata": {}
        }
      ]
    },
    {
      "cell_type": "markdown",
      "source": [
        "21. Use seaborn to create a correlation matrix for a dataset."
      ],
      "metadata": {
        "id": "XR0kJyns65FQ"
      }
    },
    {
      "cell_type": "code",
      "source": [
        "sns.heatmap(df.corr(), annot=True, cmap='Blues')\n",
        "plt.title(\"Correlation Matrix\")\n",
        "plt.show()"
      ],
      "metadata": {
        "colab": {
          "base_uri": "https://localhost:8080/",
          "height": 452
        },
        "id": "4KSHMw2dc3XX",
        "outputId": "6a03d0e4-89f5-4361-c4a7-fdb2fb96fa48"
      },
      "execution_count": 21,
      "outputs": [
        {
          "output_type": "display_data",
          "data": {
            "text/plain": [
              "<Figure size 640x480 with 2 Axes>"
            ],
            "image/png": "[encoded data removed]"
          },
          "metadata": {}
        }
      ]
    },
    {
      "cell_type": "markdown",
      "source": [
        "22.Generate a dataset and implement both variance and standard deviation computations."
      ],
      "metadata": {
        "id": "jK1U2wa565CH"
      }
    },
    {
      "cell_type": "code",
      "source": [
        "import numpy as np\n",
        "\n",
        "# Step 1: Generate a random dataset\n",
        "np.random.seed(42)  # for reproducibility\n",
        "data = np.random.randint(10, 100, size=15)  # 15 random integers between 10 and 100\n",
        "\n",
        "# Step 2: Compute variance and standard deviation using NumPy\n",
        "variance_np = np.var(data)\n",
        "std_dev_np = np.std(data)\n",
        "\n",
        "# Step 3: Compute variance and std dev manually\n",
        "mean = sum(data) / len(data)\n",
        "manual_variance = sum((x - mean) ** 2 for x in data) / len(data)\n",
        "manual_std_dev = manual_variance ** 0.5\n",
        "\n",
        "# Step 4: Output\n",
        "print(\"Dataset:\", data)\n",
        "print(\"\\nUsing NumPy:\")\n",
        "print(\"Variance:\", round(variance_np, 2))\n",
        "print(\"Standard Deviation:\", round(std_dev_np, 2))\n",
        "\n",
        "print(\"\\nManual Calculation:\")\n",
        "print(\"Variance:\", round(manual_variance, 2))\n",
        "print(\"Standard Deviation:\", round(manual_std_dev, 2))"
      ],
      "metadata": {
        "colab": {
          "base_uri": "https://localhost:8080/"
        },
        "id": "wFaZRpgmc6aX",
        "outputId": "aeb44ccf-9764-453b-c816-df776ab9dc4b"
      },
      "execution_count": 23,
      "outputs": [
        {
          "output_type": "stream",
          "name": "stdout",
          "text": [
            "Dataset: [61 24 81 70 30 92 96 84 84 97 33 12 31 62 11]\n",
            "\n",
            "Using NumPy:\n",
            "Variance: 919.32\n",
            "Standard Deviation: 30.32\n",
            "\n",
            "Manual Calculation:\n",
            "Variance: 919.32\n",
            "Standard Deviation: 30.32\n"
          ]
        }
      ]
    },
    {
      "cell_type": "markdown",
      "source": [
        "23.Visualize skewness and kurtosis using Python libraries like matplotlib or seaborn."
      ],
      "metadata": {
        "id": "_snHMSSO64_b"
      }
    },
    {
      "cell_type": "code",
      "source": [
        "sns.histplot(sim_data, kde=True)\n",
        "plt.title(\"Skewness & Kurtosis Visualization\")\n",
        "plt.show()\n",
        "\n"
      ],
      "metadata": {
        "colab": {
          "base_uri": "https://localhost:8080/",
          "height": 452
        },
        "id": "wfF0bFjFc9aH",
        "outputId": "fe7a9c40-a0f6-4108-b603-14315cd7d055"
      },
      "execution_count": 25,
      "outputs": [
        {
          "output_type": "display_data",
          "data": {
            "text/plain": [
              "<Figure size 640x480 with 1 Axes>"
            ],
            "image/png": "[encoded data removed]"
          },
          "metadata": {}
        }
      ]
    },
    {
      "cell_type": "markdown",
      "source": [
        "24.Implement the Pearson and Spearman correlation coefficients for a dataset."
      ],
      "metadata": {
        "id": "MfiH_wAy647y"
      }
    },
    {
      "cell_type": "code",
      "source": [
        "from scipy.stats import spearmanr, pearsonr\n",
        "\n",
        "print(\"Pearson:\", pearsonr(x, y)[0])\n",
        "print(\"Spearman:\", spearmanr(x, y)[0])\n"
      ],
      "metadata": {
        "colab": {
          "base_uri": "https://localhost:8080/"
        },
        "id": "emG1BQTfdV-P",
        "outputId": "1788d819-120d-455f-ba5d-9a288f543c6b"
      },
      "execution_count": 24,
      "outputs": [
        {
          "output_type": "stream",
          "name": "stdout",
          "text": [
            "Pearson: 0.5547001962252291\n",
            "Spearman: 0.6155870112510925\n"
          ]
        }
      ]
    },
    {
      "cell_type": "markdown",
      "source": [],
      "metadata": {
        "id": "XLngWQGs644a"
      }
    },
    {
      "cell_type": "markdown",
      "source": [],
      "metadata": {
        "id": "19j6wd4m640w"
      }
    },
    {
      "cell_type": "markdown",
      "source": [],
      "metadata": {
        "id": "cBq6XAPj64xy"
      }
    },
    {
      "cell_type": "markdown",
      "source": [],
      "metadata": {
        "id": "2yobzTav64uh"
      }
    },
    {
      "cell_type": "markdown",
      "source": [],
      "metadata": {
        "id": "h9jgkHuB64rJ"
      }
    },
    {
      "cell_type": "markdown",
      "source": [],
      "metadata": {
        "id": "QE8DdmFo64oI"
      }
    },
    {
      "cell_type": "markdown",
      "source": [],
      "metadata": {
        "id": "IBva8P2P64lB"
      }
    },
    {
      "cell_type": "markdown",
      "source": [],
      "metadata": {
        "id": "IA1BAf9i64iJ"
      }
    },
    {
      "cell_type": "markdown",
      "source": [],
      "metadata": {
        "id": "W2KCannh64fQ"
      }
    },
    {
      "cell_type": "markdown",
      "source": [],
      "metadata": {
        "id": "X6cvPFuZ64cR"
      }
    },
    {
      "cell_type": "markdown",
      "source": [],
      "metadata": {
        "id": "4M35pr6B64Xh"
      }
    },
    {
      "cell_type": "markdown",
      "source": [],
      "metadata": {
        "id": "zCz9JQR264SJ"
      }
    },
    {
      "cell_type": "markdown",
      "source": [],
      "metadata": {
        "id": "fEfWg8dB64PI"
      }
    },
    {
      "cell_type": "markdown",
      "source": [],
      "metadata": {
        "id": "xPVGWRm764II"
      }
    },
    {
      "cell_type": "markdown",
      "source": [],
      "metadata": {
        "id": "HJMl9yhF63_A"
      }
    },
    {
      "cell_type": "markdown",
      "source": [],
      "metadata": {
        "id": "J9wy-yTi637o"
      }
    },
    {
      "cell_type": "markdown",
      "source": [],
      "metadata": {
        "id": "Q5oFxEKA63aZ"
      }
    },
    {
      "cell_type": "code",
      "execution_count": null,
      "metadata": {
        "id": "CMcXF8ptzj7n"
      },
      "outputs": [],
      "source": []
    }
  ]
}
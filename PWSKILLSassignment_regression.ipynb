{
  "nbformat": 4,
  "nbformat_minor": 0,
  "metadata": {
    "colab": {
      "provenance": []
    },
    "kernelspec": {
      "name": "python3",
      "display_name": "Python 3"
    },
    "language_info": {
      "name": "python"
    }
  },
  "cells": [
    {
      "cell_type": "markdown",
      "source": [
        "#**Regression**"
      ],
      "metadata": {
        "id": "r63Xuygif3q6"
      }
    },
    {
      "cell_type": "markdown",
      "source": [
        "1. What is Simple Linear Regression?"
      ],
      "metadata": {
        "id": "u1my9npwf3n6"
      }
    },
    {
      "cell_type": "markdown",
      "source": [
        "Simple Linear Regression is a statistical method used to model the relationship between one independent variable (X) and one dependent variable (Y) by fitting a straight line to the observed data."
      ],
      "metadata": {
        "id": "S1tlrTb7h7jh"
      }
    },
    {
      "cell_type": "markdown",
      "source": [
        "2. What are the key assumptions of Simple Linear Regression?"
      ],
      "metadata": {
        "id": "Y6Hx2OsNf3k6"
      }
    },
    {
      "cell_type": "markdown",
      "source": [
        "Linearity: The relationship between X and Y is linear.\n",
        "\n",
        "Independence: Observations are independent of each other.\n",
        "\n",
        "Homoscedasticity: Constant variance of residuals.\n",
        "\n",
        "Normality: Residuals are normally distributed.\n",
        "\n",
        "No major outliers or influential points."
      ],
      "metadata": {
        "id": "QdeAaZMaiQJ6"
      }
    },
    {
      "cell_type": "markdown",
      "source": [
        "3. What does the coefficient m represent in the equation Y=mX+c?"
      ],
      "metadata": {
        "id": "KbeTZs7xf3h6"
      }
    },
    {
      "cell_type": "markdown",
      "source": [
        "The coefficient m represents the slope — the change in Y for a one-unit increase in X."
      ],
      "metadata": {
        "id": "gGZ0tcEciU-6"
      }
    },
    {
      "cell_type": "markdown",
      "source": [
        "4. What does the intercept c represent in the equation Y=mX+c?"
      ],
      "metadata": {
        "id": "6Ad-Dk2Kf3fC"
      }
    },
    {
      "cell_type": "markdown",
      "source": [
        "The intercept c is the predicted value of Y when X = 0."
      ],
      "metadata": {
        "id": "UoVuZhAvifEh"
      }
    },
    {
      "cell_type": "markdown",
      "source": [
        "5. How do we calculate the slope m in Simple Linear Regression?"
      ],
      "metadata": {
        "id": "RN4Y7epUf3cC"
      }
    },
    {
      "cell_type": "markdown",
      "source": [
        "![Screenshot 2025-08-21 113155.png](data:image/png;base64,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)"
      ],
      "metadata": {
        "id": "9qwKWNBYiiXi"
      }
    },
    {
      "cell_type": "markdown",
      "source": [
        "6. What is the purpose of the least squares method in Simple Linear Regression?"
      ],
      "metadata": {
        "id": "3ZcAfJyOf3Y6"
      }
    },
    {
      "cell_type": "markdown",
      "source": [
        "It minimizes the sum of squared differences between observed values and predicted values, giving the best-fitting line."
      ],
      "metadata": {
        "id": "bcY_X7ZviwWy"
      }
    },
    {
      "cell_type": "markdown",
      "source": [
        "7.  How is the coefficient of determination (R²) interpreted in Simple Linear Regression?"
      ],
      "metadata": {
        "id": "udHw_sY4f3WL"
      }
    },
    {
      "cell_type": "markdown",
      "source": [
        "R² measures the proportion of variance in Y explained by X. Ranges from 0 to 1 — higher values mean better fit."
      ],
      "metadata": {
        "id": "TsJ5lB7BizWQ"
      }
    },
    {
      "cell_type": "markdown",
      "source": [
        "8. What is Multiple Linear Regression?"
      ],
      "metadata": {
        "id": "7X4m8VNMf3TK"
      }
    },
    {
      "cell_type": "markdown",
      "source": [
        "A regression technique that models the relationship between one dependent variable (Y) and two or more independent variables (X₁, X₂, …, Xn)."
      ],
      "metadata": {
        "id": "JCEPGV_oi1vi"
      }
    },
    {
      "cell_type": "markdown",
      "source": [
        "9. What is the main difference between Simple and Multiple Linear Regression?"
      ],
      "metadata": {
        "id": "C_d027crf3QJ"
      }
    },
    {
      "cell_type": "markdown",
      "source": [
        "Simple: One independent variable.\n",
        "\n",
        "Multiple: Two or more independent variables."
      ],
      "metadata": {
        "id": "Kga3dYtpi4-C"
      }
    },
    {
      "cell_type": "markdown",
      "source": [
        "10. What are the key assumptions of Multiple Linear Regression?"
      ],
      "metadata": {
        "id": "wBc7Qndxf3Ni"
      }
    },
    {
      "cell_type": "markdown",
      "source": [
        "Linearity between predictors and outcome.\n",
        "\n",
        "Independence of errors.\n",
        "\n",
        "Homoscedasticity (constant variance).\n",
        "\n",
        "Normality of residuals.\n",
        "\n",
        "No multicollinearity among predictors."
      ],
      "metadata": {
        "id": "Sa-zN4Pni8U6"
      }
    },
    {
      "cell_type": "markdown",
      "source": [
        "11. What is heteroscedasticity, and how does it affect the results of a Multiple Linear Regression model?"
      ],
      "metadata": {
        "id": "Ml6QG_DMf3Kb"
      }
    },
    {
      "cell_type": "markdown",
      "source": [
        "Heteroscedasticity means non-constant variance of residuals. It leads to inefficient estimates and invalid statistical tests (biased standard errors)."
      ],
      "metadata": {
        "id": "q6ijxCKTi_ya"
      }
    },
    {
      "cell_type": "markdown",
      "source": [
        "12. How can you improve a Multiple Linear Regression model with high multicollinearity?"
      ],
      "metadata": {
        "id": "GpJXPOO1f3Hp"
      }
    },
    {
      "cell_type": "markdown",
      "source": [
        "Remove or combine correlated variables.\n",
        "\n",
        "Use dimensionality reduction (PCA).\n",
        "\n",
        "Apply regularization techniques (Ridge/Lasso)."
      ],
      "metadata": {
        "id": "1Vt8rwvvjCmi"
      }
    },
    {
      "cell_type": "markdown",
      "source": [
        "13. What are some common techniques for transforming categorical variables for use in regression models?"
      ],
      "metadata": {
        "id": "H-jYMYiZf3ES"
      }
    },
    {
      "cell_type": "markdown",
      "source": [
        "One-hot encoding (dummy variables).\n",
        "\n",
        "Label encoding (for ordinal categories).\n",
        "\n",
        "Effect/target encoding (advanced)."
      ],
      "metadata": {
        "id": "OSPigYrujGHi"
      }
    },
    {
      "cell_type": "markdown",
      "source": [
        "14. What is the role of interaction terms in Multiple Linear Regression?"
      ],
      "metadata": {
        "id": "vEJ5Qy-sf25y"
      }
    },
    {
      "cell_type": "markdown",
      "source": [
        "They allow modeling the combined effect of two or more variables when their joint impact on Y is not additive."
      ],
      "metadata": {
        "id": "iaFBxZVgjI_a"
      }
    },
    {
      "cell_type": "markdown",
      "source": [
        "15. How can the interpretation of intercept differ between Simple and Multiple Linear Regression?"
      ],
      "metadata": {
        "id": "qi6sdGnag1nR"
      }
    },
    {
      "cell_type": "markdown",
      "source": [
        "Simple: Value of Y when X = 0.\n",
        "\n",
        "Multiple: Value of Y when all predictors = 0 (may not always be meaningful)."
      ],
      "metadata": {
        "id": "bCNmCMWNjLcS"
      }
    },
    {
      "cell_type": "markdown",
      "source": [
        "16. What is the significance of the slope in regression analysis, and how does it affect predictions?"
      ],
      "metadata": {
        "id": "KQaViBq3g2st"
      }
    },
    {
      "cell_type": "markdown",
      "source": [
        "Slope shows the direction and magnitude of the relationship. A positive slope means Y increases with X; negative slope means Y decreases."
      ],
      "metadata": {
        "id": "1XoU3trdjOkC"
      }
    },
    {
      "cell_type": "markdown",
      "source": [
        "17. How does the intercept in a regression model provide context for the relationship between variables?"
      ],
      "metadata": {
        "id": "pbcpMOfeg2p8"
      }
    },
    {
      "cell_type": "markdown",
      "source": [
        "It anchors the regression line and shows the baseline prediction when predictors are zero."
      ],
      "metadata": {
        "id": "N_Qg85OXjREb"
      }
    },
    {
      "cell_type": "markdown",
      "source": [
        "18. What are the limitations of using R² as a sole measure of model performance?"
      ],
      "metadata": {
        "id": "NosJwWW_g2nL"
      }
    },
    {
      "cell_type": "markdown",
      "source": [
        "R² always increases with more predictors (overfitting risk).\n",
        "\n",
        "Doesn’t measure causality.\n",
        "\n",
        "Doesn’t show if predictors are statistically significant."
      ],
      "metadata": {
        "id": "nKLYhgoYjT-i"
      }
    },
    {
      "cell_type": "markdown",
      "source": [
        "19. How would you interpret a large standard error for a regression coefficient?"
      ],
      "metadata": {
        "id": "U7ChdnJ1g2kZ"
      }
    },
    {
      "cell_type": "markdown",
      "source": [
        "It indicates high variability/uncertainty in the coefficient estimate, meaning the predictor may not be reliable."
      ],
      "metadata": {
        "id": "chfUonIvjWmC"
      }
    },
    {
      "cell_type": "markdown",
      "source": [
        "20. How can heteroscedasticity be identified in residual plots, and why is it important to address it?"
      ],
      "metadata": {
        "id": "sJaSwKmbg2hZ"
      }
    },
    {
      "cell_type": "markdown",
      "source": [
        "Identified by plotting residuals vs. predicted values (patterns/funnel shapes).\n",
        "\n",
        "Important because it affects validity of tests and efficiency of estimates."
      ],
      "metadata": {
        "id": "455jzpIIjaaK"
      }
    },
    {
      "cell_type": "markdown",
      "source": [
        "21. What does it mean if a Multiple Linear Regression model has a high R² but low adjusted R²?"
      ],
      "metadata": {
        "id": "gqfLNkQTg2eL"
      }
    },
    {
      "cell_type": "markdown",
      "source": [
        "It suggests that some predictors do not add value and are only inflating R² without improving model fit."
      ],
      "metadata": {
        "id": "UEu2xSGijdvx"
      }
    },
    {
      "cell_type": "markdown",
      "source": [
        "22. Why is it important to scale variables in Multiple Linear Regression?"
      ],
      "metadata": {
        "id": "TsJdEfkng2aT"
      }
    },
    {
      "cell_type": "markdown",
      "source": [
        "Scaling ensures comparability, improves numerical stability, and helps with regularization methods."
      ],
      "metadata": {
        "id": "Q3EvsD-0jgYJ"
      }
    },
    {
      "cell_type": "markdown",
      "source": [
        "23. What is polynomial regression?"
      ],
      "metadata": {
        "id": "1nT6bUBCg2Wp"
      }
    },
    {
      "cell_type": "markdown",
      "source": [
        "A type of regression where the relationship between X and Y is modeled as an nth-degree polynomial."
      ],
      "metadata": {
        "id": "zyUgFDyJjjfK"
      }
    },
    {
      "cell_type": "markdown",
      "source": [
        "24. How does polynomial regression differ from linear regression?"
      ],
      "metadata": {
        "id": "PEWXGUIRg2ER"
      }
    },
    {
      "cell_type": "markdown",
      "source": [
        "Linear: Straight-line relationship.\n",
        "\n",
        "Polynomial: Curved relationship, but still linear in coefficients."
      ],
      "metadata": {
        "id": "v08JZp-3jmpC"
      }
    },
    {
      "cell_type": "markdown",
      "source": [
        "25. When is polynomial regression used?"
      ],
      "metadata": {
        "id": "eH54-8IshccR"
      }
    },
    {
      "cell_type": "markdown",
      "source": [
        "When data shows a non-linear trend that a straight line cannot capture."
      ],
      "metadata": {
        "id": "3r3YLG4Xjq3y"
      }
    },
    {
      "cell_type": "markdown",
      "source": [
        "26. What is the general equation for polynomial regression?"
      ],
      "metadata": {
        "id": "6Tlc8Gophfgg"
      }
    },
    {
      "cell_type": "markdown",
      "source": [
        "Y=b\n",
        "0\n",
        "\t​\n",
        "\n",
        "+b\n",
        "1\n",
        "\t​\n",
        "\n",
        "X+b\n",
        "2\n",
        "\t​\n",
        "\n",
        "X\n",
        "2\n",
        "+b\n",
        "3\n",
        "\t​\n",
        "\n",
        "X\n",
        "3\n",
        "+⋯+b\n",
        "n\n",
        "\t​\n",
        "\n",
        "X\n",
        "n\n",
        "+ϵ"
      ],
      "metadata": {
        "id": "87Q6mwYSjuwa"
      }
    },
    {
      "cell_type": "markdown",
      "source": [
        "27. Can polynomial regression be applied to multiple variables?"
      ],
      "metadata": {
        "id": "AaIPmU3FhjDD"
      }
    },
    {
      "cell_type": "markdown",
      "source": [
        "Yes, by including polynomial terms of each predictor and their interactions."
      ],
      "metadata": {
        "id": "h2po73Z7j2OS"
      }
    },
    {
      "cell_type": "markdown",
      "source": [
        "28. What are the limitations of polynomial regression?"
      ],
      "metadata": {
        "id": "-c-YbST8hnsM"
      }
    },
    {
      "cell_type": "markdown",
      "source": [
        "Overfitting with high-degree polynomials.\n",
        "\n",
        "Extrapolation is unreliable.\n",
        "\n",
        "Computational complexity increases."
      ],
      "metadata": {
        "id": "OLvg-wFCj6LR"
      }
    },
    {
      "cell_type": "markdown",
      "source": [
        "29. What methods can be used to evaluate model fit when selecting the degree of a polynomial?"
      ],
      "metadata": {
        "id": "v6--ghp_hnoi"
      }
    },
    {
      "cell_type": "markdown",
      "source": [
        "Cross-validation.\n",
        "\n",
        "Adjusted R².\n",
        "\n",
        "AIC/BIC.\n",
        "\n",
        "Residual analysis."
      ],
      "metadata": {
        "id": "eu6YDk4Zj81i"
      }
    },
    {
      "cell_type": "markdown",
      "source": [
        "30. Why is visualization important in polynomial regression?"
      ],
      "metadata": {
        "id": "X06KyEsphnlZ"
      }
    },
    {
      "cell_type": "markdown",
      "source": [
        "It helps detect underfitting/overfitting and shows how well the polynomial captures the data trend."
      ],
      "metadata": {
        "id": "eiYldteZkBcJ"
      }
    },
    {
      "cell_type": "markdown",
      "source": [
        "31. How is polynomial regression implemented in Python?"
      ],
      "metadata": {
        "id": "jUzFz2sWhniS"
      }
    },
    {
      "cell_type": "code",
      "source": [
        "import numpy as np\n",
        "from sklearn.preprocessing import PolynomialFeatures\n",
        "from sklearn.linear_model import LinearRegression\n",
        "from sklearn.pipeline import make_pipeline\n",
        "\n",
        "# Example dataset\n",
        "X = np.array([1, 2, 3, 4, 5]).reshape(-1, 1)\n",
        "y = np.array([1, 4, 9, 16, 25])\n",
        "\n",
        "# Build and fit polynomial regression model\n",
        "model = make_pipeline(PolynomialFeatures(3), LinearRegression())\n",
        "model.fit(X, y)\n",
        "\n",
        "# Make predictions\n",
        "y_pred = model.predict(X)\n",
        "print(\"Predictions:\", y_pred)\n",
        "\n"
      ],
      "metadata": {
        "colab": {
          "base_uri": "https://localhost:8080/"
        },
        "id": "Dj1keqprkNAi",
        "outputId": "943c70c2-b110-4cfa-c4f7-0657a5f3275c"
      },
      "execution_count": 2,
      "outputs": [
        {
          "output_type": "stream",
          "name": "stdout",
          "text": [
            "Predictions: [ 1.  4.  9. 16. 25.]\n"
          ]
        }
      ]
    }
  ]
}
{
  "nbformat": 4,
  "nbformat_minor": 0,
  "metadata": {
    "colab": {
      "provenance": []
    },
    "kernelspec": {
      "name": "python3",
      "display_name": "Python 3"
    },
    "language_info": {
      "name": "python"
    }
  },
  "cells": [
    {
      "cell_type": "markdown",
      "source": [
        "#Python OOPs Questions"
      ],
      "metadata": {
        "id": "VRoudOypKWnH"
      }
    },
    {
      "cell_type": "markdown",
      "source": [
        "1. What is Object-Oriented Programming (OOP)?"
      ],
      "metadata": {
        "id": "mS9XS17THZ3o"
      }
    },
    {
      "cell_type": "markdown",
      "source": [
        "A programming paradigm based on the concept of objects, which contain data (attributes) and functions (methods)."
      ],
      "metadata": {
        "id": "mpwx3FISHh-0"
      }
    },
    {
      "cell_type": "markdown",
      "source": [
        "2. What is a class in OOP?\n"
      ],
      "metadata": {
        "id": "Qz-MPstIHi30"
      }
    },
    {
      "cell_type": "markdown",
      "source": [
        "A blueprint for creating objects. It defines attributes and methods for the object."
      ],
      "metadata": {
        "id": "A20taCGQHjnN"
      }
    },
    {
      "cell_type": "markdown",
      "source": [
        "3. What is an object in OOP?"
      ],
      "metadata": {
        "id": "wtY0BqRTHkFU"
      }
    },
    {
      "cell_type": "markdown",
      "source": [
        "An instance of a class. It has the class's attributes and behaviors."
      ],
      "metadata": {
        "id": "1LGKMoz8HkbA"
      }
    },
    {
      "cell_type": "markdown",
      "source": [
        "4. What is the difference between abstraction and encapsulation?"
      ],
      "metadata": {
        "id": "LlHFgWrTHktO"
      }
    },
    {
      "cell_type": "markdown",
      "source": [
        "Abstraction hides implementation details and shows only essential features.\n",
        "\n",
        "Encapsulation hides data using access modifiers (private, protected)."
      ],
      "metadata": {
        "id": "8X5GnXhwHl20"
      }
    },
    {
      "cell_type": "markdown",
      "source": [
        "5. What are dunder methods in Python?"
      ],
      "metadata": {
        "id": "uaH7pfRZHoAU"
      }
    },
    {
      "cell_type": "markdown",
      "source": [
        "Double underscore methods like _ _ init _ _, _ _str_ _, _ _len_ _. These are special methods used to define custom behavior."
      ],
      "metadata": {
        "id": "iWnM_EiGHn31"
      }
    },
    {
      "cell_type": "markdown",
      "source": [
        "6. Explain the concept of inheritance in OOP."
      ],
      "metadata": {
        "id": "fWiIcquhIHDm"
      }
    },
    {
      "cell_type": "markdown",
      "source": [
        "One class (child) inherits attributes and methods from another class (parent)."
      ],
      "metadata": {
        "id": "1akDrFAWHnv8"
      }
    },
    {
      "cell_type": "markdown",
      "source": [
        "7. What is polymorphism in OOP?"
      ],
      "metadata": {
        "id": "Qg5cfOz6Hnnj"
      }
    },
    {
      "cell_type": "markdown",
      "source": [
        "The ability to use one interface for different data types (e.g., same method name behaves differently in subclasses)."
      ],
      "metadata": {
        "id": "3Bmhf5SwHnb0"
      }
    },
    {
      "cell_type": "markdown",
      "source": [
        "8. How is encapsulation achieved in Python?\n"
      ],
      "metadata": {
        "id": "POuhleg3HnP0"
      }
    },
    {
      "cell_type": "markdown",
      "source": [
        "By using private (__var) or protected (_var) variables and providing getter/setter methods."
      ],
      "metadata": {
        "id": "Guq1hfubHmoF"
      }
    },
    {
      "cell_type": "markdown",
      "source": [
        "9. What is a constructor in Python?"
      ],
      "metadata": {
        "id": "HCpRjkuIHhQu"
      }
    },
    {
      "cell_type": "markdown",
      "source": [
        "The __init__() method is the constructor used to initialize objects."
      ],
      "metadata": {
        "id": "5qkmFy1cIZ68"
      }
    },
    {
      "cell_type": "markdown",
      "source": [
        "10. What are class and static methods in Python?"
      ],
      "metadata": {
        "id": "T1fBis6UIZ4M"
      }
    },
    {
      "cell_type": "markdown",
      "source": [
        "@classmethod: Takes cls as argument; used for factory methods.\n",
        "\n",
        "@staticmethod: No self or cls; behaves like a regular function inside class."
      ],
      "metadata": {
        "id": "omrYDBH1IZ1c"
      }
    },
    {
      "cell_type": "markdown",
      "source": [
        "11. What is method overloading in Python?"
      ],
      "metadata": {
        "id": "HTHLIiF9IZyt"
      }
    },
    {
      "cell_type": "markdown",
      "source": [
        "Python doesn't support it directly. You can use default arguments or *args/**kwargs."
      ],
      "metadata": {
        "id": "c9qQjzC0IZwG"
      }
    },
    {
      "cell_type": "markdown",
      "source": [
        "12. What is method overriding in OOP?"
      ],
      "metadata": {
        "id": "w1bJ-qcjIZtQ"
      }
    },
    {
      "cell_type": "markdown",
      "source": [
        "A child class provides its own implementation of a method defined in the parent class."
      ],
      "metadata": {
        "id": "Ld-DurE4IZqW"
      }
    },
    {
      "cell_type": "markdown",
      "source": [
        "13. What is a property decorator in Python?"
      ],
      "metadata": {
        "id": "7dGgyTw7IuF0"
      }
    },
    {
      "cell_type": "markdown",
      "source": [
        "@property allows a method to be accessed like an attribute. Used for getter/setter."
      ],
      "metadata": {
        "id": "S6mCSCaFIZnk"
      }
    },
    {
      "cell_type": "markdown",
      "source": [
        " 14. Why is polymorphism important in OOP?"
      ],
      "metadata": {
        "id": "7qav89XEIZk1"
      }
    },
    {
      "cell_type": "markdown",
      "source": [
        "It allows flexibility and reusability of code by treating different objects with a common interface."
      ],
      "metadata": {
        "id": "RYMSC4geIZh-"
      }
    },
    {
      "cell_type": "markdown",
      "source": [
        "15. What is an abstract class in Python?"
      ],
      "metadata": {
        "id": "pfaM8-B5IZcM"
      }
    },
    {
      "cell_type": "markdown",
      "source": [
        "A class with @abstractmethod (from abc module) that cannot be instantiated. Used to define interface."
      ],
      "metadata": {
        "id": "HTpd5JtkIZZN"
      }
    },
    {
      "cell_type": "markdown",
      "source": [
        "16. What are the advantages of OOP?"
      ],
      "metadata": {
        "id": "6iN7QgTyIZWO"
      }
    },
    {
      "cell_type": "markdown",
      "source": [
        "*   Modularity\n",
        "*   Reusability\n",
        "*   Maintainability\n",
        "*   Scalability\n",
        "\n"
      ],
      "metadata": {
        "id": "AM1LY9_KIZTe"
      }
    },
    {
      "cell_type": "markdown",
      "source": [
        "17. What is the difference between a class variable and an instance variable?"
      ],
      "metadata": {
        "id": "6I44TjRNIZP8"
      }
    },
    {
      "cell_type": "markdown",
      "source": [
        "Class variable: Shared among all instances.\n",
        "Instance variable: Unique to each object.\n",
        "\n"
      ],
      "metadata": {
        "id": "6LwCkOvNIZMN"
      }
    },
    {
      "cell_type": "markdown",
      "source": [
        "18. What is multiple inheritance in Python?"
      ],
      "metadata": {
        "id": "lJTlrWDOIZIt"
      }
    },
    {
      "cell_type": "markdown",
      "source": [
        "A class inherits from more than one parent class."
      ],
      "metadata": {
        "id": "eFH2buukIZBE"
      }
    },
    {
      "cell_type": "markdown",
      "source": [
        "19. Explain the purpose of \"_ _ str _ _ ' and ' _ _repr_ _ \" methods in Python?"
      ],
      "metadata": {
        "id": "XQkqplc_IY31"
      }
    },
    {
      "cell_type": "markdown",
      "source": [
        "_ _ str _ _: For readable string representation.\n",
        "\n",
        "_ _ repr _ _: For developer/debugging representation."
      ],
      "metadata": {
        "id": "9tdCSo0BQvS8"
      }
    },
    {
      "cell_type": "markdown",
      "source": [
        "20. What is the significance of the ‘super()’ function in Python?"
      ],
      "metadata": {
        "id": "hqoRoadrIYss"
      }
    },
    {
      "cell_type": "markdown",
      "source": [
        "Allows calling the parent class’s methods. Useful in method overriding."
      ],
      "metadata": {
        "id": "kf3WK9eTJ7R1"
      }
    },
    {
      "cell_type": "markdown",
      "source": [
        "21. What is the significance of the __del__ method in Python?"
      ],
      "metadata": {
        "id": "eTS2v4-yJ7oE"
      }
    },
    {
      "cell_type": "markdown",
      "source": [
        "Called when an object is deleted or goes out of scope. Used for cleanup."
      ],
      "metadata": {
        "id": "TQeANLZeKBbm"
      }
    },
    {
      "cell_type": "markdown",
      "source": [
        "22. What is the difference between @staticmethod and @classmethod in Python?"
      ],
      "metadata": {
        "id": "WnGVFxJdKCfW"
      }
    },
    {
      "cell_type": "markdown",
      "source": [
        "@staticmethod: No access to cls or self.\n",
        "\n",
        "@classmethod: Access to cls and can modify class state."
      ],
      "metadata": {
        "id": "ulXwIFd-KHms"
      }
    },
    {
      "cell_type": "markdown",
      "source": [
        "23. How does polymorphism work in Python with inheritance?"
      ],
      "metadata": {
        "id": "PhHHmoIkKIGc"
      }
    },
    {
      "cell_type": "markdown",
      "source": [
        "Through method overriding, different child classes provide different implementations."
      ],
      "metadata": {
        "id": "epcRzC_RKLtl"
      }
    },
    {
      "cell_type": "markdown",
      "source": [
        "24. What is method chaining in Python OOP?"
      ],
      "metadata": {
        "id": "H6Wy0C6GKMHe"
      }
    },
    {
      "cell_type": "markdown",
      "source": [
        "Calling multiple methods on the same object in one line:\n",
        "obj.method1().method2()"
      ],
      "metadata": {
        "id": "LJAgiEwNKQDk"
      }
    },
    {
      "cell_type": "markdown",
      "source": [
        "25. What is the purpose of the __call__ method in Python?"
      ],
      "metadata": {
        "id": "Hvdf589wKQZ-"
      }
    },
    {
      "cell_type": "markdown",
      "source": [
        "Allows an object to be called like a function."
      ],
      "metadata": {
        "id": "SlowxGz_KU_1"
      }
    },
    {
      "cell_type": "markdown",
      "source": [
        "#Practical Questions"
      ],
      "metadata": {
        "id": "YAJKUYWRKb62"
      }
    },
    {
      "cell_type": "markdown",
      "source": [
        "1. Create a parent class Animal with a method speak() that prints a generic message. Create a child class Dog\n",
        "that overrides the speak() method to print \"Bark!\"."
      ],
      "metadata": {
        "id": "hjnF22j8Kf80"
      }
    },
    {
      "cell_type": "code",
      "source": [
        "class Animal:\n",
        "    def speak(self):\n",
        "        print(\"Animal speaks\")\n",
        "\n",
        "class Dog(Animal):\n",
        "    def speak(self):\n",
        "        print(\"Bark!\")\n",
        "\n",
        "d = Dog()\n",
        "d.speak()"
      ],
      "metadata": {
        "colab": {
          "base_uri": "https://localhost:8080/"
        },
        "id": "le6E5crKKlyk",
        "outputId": "e9519d05-3b05-4322-ca15-aeef4c01c129"
      },
      "execution_count": 16,
      "outputs": [
        {
          "output_type": "stream",
          "name": "stdout",
          "text": [
            "Bark!\n"
          ]
        }
      ]
    },
    {
      "cell_type": "markdown",
      "source": [
        "2. Write a program to create an abstract class Shape with a method area(). Derive classes Circle and Rectangle\n",
        "from it and implement the area() method in both."
      ],
      "metadata": {
        "id": "OpCZOO0UKmKg"
      }
    },
    {
      "cell_type": "code",
      "source": [
        "from abc import ABC, abstractmethod\n",
        "\n",
        "class Shape(ABC):\n",
        "    @abstractmethod\n",
        "    def area(self):\n",
        "        pass\n",
        "\n",
        "class Circle(Shape):\n",
        "    def __init__(self, radius):\n",
        "        self.radius = radius\n",
        "    def area(self):\n",
        "        return 3.14 * self.radius ** 2\n",
        "\n",
        "class Rectangle(Shape):\n",
        "    def __init__(self, length, width):\n",
        "        self.length = length\n",
        "        self.width = width\n",
        "    def area(self):\n",
        "        return self.length * self.width\n",
        "\n",
        "circle = Circle(3)\n",
        "rect = Rectangle(4, 5)\n",
        "\n",
        "print(circle.area())\n",
        "print(rect.area())"
      ],
      "metadata": {
        "colab": {
          "base_uri": "https://localhost:8080/"
        },
        "id": "NDXLuEd5Kqit",
        "outputId": "ae373d64-c77a-4498-ccae-e20c50eb282c"
      },
      "execution_count": 38,
      "outputs": [
        {
          "output_type": "stream",
          "name": "stdout",
          "text": [
            "28.26\n",
            "20\n"
          ]
        }
      ]
    },
    {
      "cell_type": "markdown",
      "source": [
        "3. Implement a multi-level inheritance scenario where a class Vehicle has an attribute type. Derive a class Car\n",
        "and further derive a class ElectricCar that adds a battery attribute."
      ],
      "metadata": {
        "id": "Gn59bG0yKrDk"
      }
    },
    {
      "cell_type": "code",
      "source": [
        "class Vehicle:\n",
        "    def __init__(self, type):\n",
        "        self.type = type\n",
        "\n",
        "class Car(Vehicle):\n",
        "    def __init__(self, type, brand):\n",
        "        super().__init__(type)\n",
        "        self.brand = brand\n",
        "\n",
        "class ElectricCar(Car):\n",
        "    def __init__(self, type, brand, battery):\n",
        "        super().__init__(type, brand)\n",
        "        self.battery = battery\n",
        "\n",
        "ecar = ElectricCar(\"Four Wheeler\", \"Tesla\", \"85 kWh\")\n",
        "print(ecar.type)\n",
        "print(ecar.brand)\n",
        "print(ecar.battery)"
      ],
      "metadata": {
        "colab": {
          "base_uri": "https://localhost:8080/"
        },
        "id": "4zmMn97nKxT1",
        "outputId": "25409a06-f4b4-45cf-bf14-0c87e16f0912"
      },
      "execution_count": 39,
      "outputs": [
        {
          "output_type": "stream",
          "name": "stdout",
          "text": [
            "Four Wheeler\n",
            "Tesla\n",
            "85 kWh\n"
          ]
        }
      ]
    },
    {
      "cell_type": "markdown",
      "source": [
        "4. Demonstrate polymorphism by creating a base class Bird with a method fly(). Create two derived classes\n",
        "Sparrow and Penguin that override the fly() method.\n",
        "\n",
        "\n"
      ],
      "metadata": {
        "id": "XUxaqlB1Kxr-"
      }
    },
    {
      "cell_type": "code",
      "source": [
        "class Bird:\n",
        "    def fly(self):\n",
        "        print(\"Some birds can fly\")\n",
        "\n",
        "class Sparrow(Bird):\n",
        "    def fly(self):\n",
        "        print(\"Sparrow flies high\")\n",
        "\n",
        "class Penguin(Bird):\n",
        "    def fly(self):\n",
        "        print(\"Penguins can't fly\")\n",
        "\n",
        "b1 = Sparrow()\n",
        "b2 = Penguin()\n",
        "\n",
        "b1.fly()\n",
        "b2.fly()"
      ],
      "metadata": {
        "colab": {
          "base_uri": "https://localhost:8080/"
        },
        "id": "oHHS9gNmKyvE",
        "outputId": "de1e1832-92de-45c5-9aad-dd9f35fc57e4"
      },
      "execution_count": 40,
      "outputs": [
        {
          "output_type": "stream",
          "name": "stdout",
          "text": [
            "Sparrow flies high\n",
            "Penguins can't fly\n"
          ]
        }
      ]
    },
    {
      "cell_type": "markdown",
      "source": [
        "5. Write a program to demonstrate encapsulation by creating a class BankAccount with private attributes\n",
        "balance and methods to deposit, withdraw, and check balance."
      ],
      "metadata": {
        "id": "MNSCHUjsKzIQ"
      }
    },
    {
      "cell_type": "code",
      "source": [
        "class BankAccount:\n",
        "    def __init__(self):\n",
        "        self.__balance = 0\n",
        "\n",
        "    def deposit(self, amount):\n",
        "        self.__balance += amount\n",
        "\n",
        "    def withdraw(self, amount):\n",
        "        if amount <= self.__balance:\n",
        "            self.__balance -= amount\n",
        "\n",
        "    def check_balance(self):\n",
        "        return self.__balance\n",
        "\n",
        "b = BankAccount()\n",
        "b.deposit(1000)\n",
        "b.withdraw(400)\n",
        "print(b.check_balance())"
      ],
      "metadata": {
        "colab": {
          "base_uri": "https://localhost:8080/"
        },
        "id": "MiIuT4_vK2VG",
        "outputId": "cde4cc6e-25a5-4fdc-fcb8-34d9e3ba26f9"
      },
      "execution_count": 41,
      "outputs": [
        {
          "output_type": "stream",
          "name": "stdout",
          "text": [
            "600\n"
          ]
        }
      ]
    },
    {
      "cell_type": "markdown",
      "source": [
        "6. Demonstrate runtime polymorphism using a method play() in a base class Instrument. Derive classes Guitar\n",
        "and Piano that implement their own version of play()."
      ],
      "metadata": {
        "id": "s-znZgP-K2tn"
      }
    },
    {
      "cell_type": "code",
      "source": [
        "class Instrument:\n",
        "    def play(self):\n",
        "        print(\"Playing instrument\")\n",
        "\n",
        "class Guitar(Instrument):\n",
        "    def play(self):\n",
        "        print(\"Strumming guitar\")\n",
        "\n",
        "class Piano(Instrument):\n",
        "    def play(self):\n",
        "        print(\"Playing piano\")\n",
        "i1 = Guitar()\n",
        "i2 = Piano()\n",
        "\n",
        "i1.play()\n",
        "i2.play()"
      ],
      "metadata": {
        "colab": {
          "base_uri": "https://localhost:8080/"
        },
        "id": "HoibPKH1K5t8",
        "outputId": "ca8962bd-e0e9-4ebf-f12d-39a8da713083"
      },
      "execution_count": 42,
      "outputs": [
        {
          "output_type": "stream",
          "name": "stdout",
          "text": [
            "Strumming guitar\n",
            "Playing piano\n"
          ]
        }
      ]
    },
    {
      "cell_type": "markdown",
      "source": [
        "7. Create a class MathOperations with a class method add_numbers() to add two numbers and a static\n",
        "method subtract_numbers() to subtract two numbers."
      ],
      "metadata": {
        "id": "b0rVyQWeK6CE"
      }
    },
    {
      "cell_type": "code",
      "source": [
        "class MathOperations:\n",
        "    @classmethod\n",
        "    def add_numbers(cls, a, b):\n",
        "        return a + b\n",
        "\n",
        "    @staticmethod\n",
        "    def subtract_numbers(a, b):\n",
        "        return a - b\n",
        "\n",
        "print(MathOperations.add_numbers(5, 3))\n",
        "print(MathOperations.subtract_numbers(10, 4))"
      ],
      "metadata": {
        "colab": {
          "base_uri": "https://localhost:8080/"
        },
        "id": "emIaqw3hK8bc",
        "outputId": "655d070d-fccc-4c8b-e704-0e88e51b0640"
      },
      "execution_count": 43,
      "outputs": [
        {
          "output_type": "stream",
          "name": "stdout",
          "text": [
            "8\n",
            "6\n"
          ]
        }
      ]
    },
    {
      "cell_type": "markdown",
      "source": [
        "8. Implement a class Person with a class method to count the total number of persons created."
      ],
      "metadata": {
        "id": "jpUrTRSGK883"
      }
    },
    {
      "cell_type": "code",
      "source": [
        "class Person:\n",
        "    count = 0\n",
        "\n",
        "    def __init__(self):\n",
        "        Person.count += 1\n",
        "\n",
        "    @classmethod\n",
        "    def total_persons(cls):\n",
        "        return cls.count\n",
        "p1 = Person()\n",
        "p2 = Person()\n",
        "p3 = Person()\n",
        "\n",
        "print(Person.total_persons())"
      ],
      "metadata": {
        "colab": {
          "base_uri": "https://localhost:8080/"
        },
        "id": "1-K7-cY9K_ke",
        "outputId": "e0960160-1faa-46a2-9ccf-b4455c7563ad"
      },
      "execution_count": 44,
      "outputs": [
        {
          "output_type": "stream",
          "name": "stdout",
          "text": [
            "3\n"
          ]
        }
      ]
    },
    {
      "cell_type": "markdown",
      "source": [
        "9. Write a class Fraction with attributes numerator and denominator. Override the str method to display the\n",
        "fraction as \"numerator/denominator\"."
      ],
      "metadata": {
        "id": "kOAvgY1OK_8l"
      }
    },
    {
      "cell_type": "code",
      "source": [
        "class Fraction:\n",
        "    def __init__(self, num, denom):\n",
        "        self.num = num\n",
        "        self.denom = denom\n",
        "\n",
        "    def __str__(self):\n",
        "        return f\"{self.num}/{self.denom}\"\n",
        "\n",
        "f = Fraction(3, 4)\n",
        "print(f)"
      ],
      "metadata": {
        "colab": {
          "base_uri": "https://localhost:8080/"
        },
        "id": "vp1euyD9LGgE",
        "outputId": "22d64052-23d6-43c9-9a3d-d24fa8b404e6"
      },
      "execution_count": 45,
      "outputs": [
        {
          "output_type": "stream",
          "name": "stdout",
          "text": [
            "3/4\n"
          ]
        }
      ]
    },
    {
      "cell_type": "markdown",
      "source": [
        "10. Demonstrate operator overloading by creating a class Vector and overriding the add method to add two\n",
        "vectors."
      ],
      "metadata": {
        "id": "Owkgx02xLGz-"
      }
    },
    {
      "cell_type": "code",
      "source": [
        "class Vector:\n",
        "    def __init__(self, x, y):\n",
        "        self.x = x\n",
        "        self.y = y\n",
        "\n",
        "    def __add__(self, other):\n",
        "        return Vector(self.x + other.x, self.y + other.y)\n",
        "\n",
        "    def __str__(self):\n",
        "        return f\"({self.x}, {self.y})\"\n",
        "\n",
        "v1 = Vector(2, 3)\n",
        "v2 = Vector(4, 1)\n",
        "v3 = v1 + v2\n",
        "print(v3)"
      ],
      "metadata": {
        "colab": {
          "base_uri": "https://localhost:8080/"
        },
        "id": "V8WUvFENLKAe",
        "outputId": "288daee2-39c7-4889-a9a5-1b9688135b8d"
      },
      "execution_count": 46,
      "outputs": [
        {
          "output_type": "stream",
          "name": "stdout",
          "text": [
            "(6, 4)\n"
          ]
        }
      ]
    },
    {
      "cell_type": "markdown",
      "source": [
        "11. Create a class Person with attributes name and age. Add a method greet() that prints \"Hello, my name is\n",
        "{name} and I am {age} years old.\""
      ],
      "metadata": {
        "id": "vLAOuBbfLKUW"
      }
    },
    {
      "cell_type": "code",
      "source": [
        "class Person:\n",
        "    def __init__(self, name, age):\n",
        "        self.name = name\n",
        "        self.age = age\n",
        "\n",
        "    def greet(self):\n",
        "        print(f\"Hello, my name is {self.name} and I am {self.age} years old.\")\n",
        "\n",
        "p = Person(\"Ashmi\", 22)\n",
        "p.greet()"
      ],
      "metadata": {
        "colab": {
          "base_uri": "https://localhost:8080/"
        },
        "id": "_9u2QLUnLMcg",
        "outputId": "8041372a-5281-4947-b8c9-d751c233877b"
      },
      "execution_count": 47,
      "outputs": [
        {
          "output_type": "stream",
          "name": "stdout",
          "text": [
            "Hello, my name is Ashmi and I am 22 years old.\n"
          ]
        }
      ]
    },
    {
      "cell_type": "markdown",
      "source": [
        "12. Implement a class Student with attributes name and grades. Create a method average_grade() to compute\n",
        "the average of the grades."
      ],
      "metadata": {
        "id": "NsTP7M0JLMwk"
      }
    },
    {
      "cell_type": "code",
      "source": [
        "class Student:\n",
        "    def __init__(self, name, grades):\n",
        "        self.name = name\n",
        "        self.grades = grades\n",
        "\n",
        "    def average_grade(self):\n",
        "        return sum(self.grades) / len(self.grades)\n",
        "\n",
        "s = Student(\"Ali\", [85, 90, 95])\n",
        "print(s.average_grade())"
      ],
      "metadata": {
        "colab": {
          "base_uri": "https://localhost:8080/"
        },
        "id": "TB5USJrNLNLE",
        "outputId": "dcc3b873-8333-4ad9-9297-17abcd6762f0"
      },
      "execution_count": 48,
      "outputs": [
        {
          "output_type": "stream",
          "name": "stdout",
          "text": [
            "90.0\n"
          ]
        }
      ]
    },
    {
      "cell_type": "markdown",
      "source": [
        "13. Create a class Rectangle with methods set_dimensions() to set the dimensions and area() to calculate the\n",
        "area."
      ],
      "metadata": {
        "id": "fkncclMZLQct"
      }
    },
    {
      "cell_type": "code",
      "source": [
        "class Rectangle:\n",
        "    def set_dimensions(self, length, width):\n",
        "        self.length = length\n",
        "        self.width = width\n",
        "\n",
        "    def area(self):\n",
        "        return self.length * self.width\n",
        "\n",
        "r = Rectangle()\n",
        "r.set_dimensions(5, 4)\n",
        "print(r.area())"
      ],
      "metadata": {
        "colab": {
          "base_uri": "https://localhost:8080/"
        },
        "id": "q3dkyyPrLS0F",
        "outputId": "11bc0db6-a226-4423-ecb3-2ecf134514b5"
      },
      "execution_count": 49,
      "outputs": [
        {
          "output_type": "stream",
          "name": "stdout",
          "text": [
            "20\n"
          ]
        }
      ]
    },
    {
      "cell_type": "markdown",
      "source": [
        "14. Create a class Employee with a method calculate_salary() that computes the salary based on hours worked\n",
        "and hourly rate. Create a derived class Manager that adds a bonus to the salary."
      ],
      "metadata": {
        "id": "eN6m_WS8LTbM"
      }
    },
    {
      "cell_type": "code",
      "source": [
        "class Employee:\n",
        "    def calculate_salary(self, hours, rate):\n",
        "        return hours * rate\n",
        "\n",
        "class Manager(Employee):\n",
        "    def calculate_salary(self, hours, rate, bonus):\n",
        "        return super().calculate_salary(hours, rate) + bonus\n",
        "m = Manager()\n",
        "print(m.calculate_salary(40, 50, 2000))  # 40 hours * 50 + 2000 bonus"
      ],
      "metadata": {
        "colab": {
          "base_uri": "https://localhost:8080/"
        },
        "id": "PuyYHmooLWOO",
        "outputId": "43f154bd-e2a7-4b65-f166-086cc0a197a2"
      },
      "execution_count": 50,
      "outputs": [
        {
          "output_type": "stream",
          "name": "stdout",
          "text": [
            "4000\n"
          ]
        }
      ]
    },
    {
      "cell_type": "markdown",
      "source": [
        "15. Create a class Product with attributes name, price, and quantity. Implement a method total_price() that\n",
        "calculates the total price of the product.\n",
        "\n",
        "\n"
      ],
      "metadata": {
        "id": "XzL_J6R2LW7c"
      }
    },
    {
      "cell_type": "code",
      "source": [
        "class Product:\n",
        "    def __init__(self, name, price, quantity):\n",
        "        self.name = name\n",
        "        self.price = price\n",
        "        self.quantity = quantity\n",
        "\n",
        "    def total_price(self):\n",
        "        return self.price * self.quantity\n",
        "\n",
        "p = Product(\"Laptop\", 500, 3)\n",
        "print(p.total_price())"
      ],
      "metadata": {
        "colab": {
          "base_uri": "https://localhost:8080/"
        },
        "id": "RRm3iYLnLabs",
        "outputId": "b0ae185a-1e7d-4fbb-9db8-261027b0b9db"
      },
      "execution_count": 34,
      "outputs": [
        {
          "output_type": "stream",
          "name": "stdout",
          "text": [
            "1500\n"
          ]
        }
      ]
    },
    {
      "cell_type": "markdown",
      "source": [
        "16. Create a class Animal with an abstract method sound(). Create two derived classes Cow and Sheep that\n",
        "implement the sound() method."
      ],
      "metadata": {
        "id": "h04hfubJLbBz"
      }
    },
    {
      "cell_type": "code",
      "source": [
        "from abc import ABC, abstractmethod\n",
        "\n",
        "class Animal(ABC):\n",
        "    @abstractmethod\n",
        "    def sound(self):\n",
        "        pass\n",
        "\n",
        "class Cow(Animal):\n",
        "    def sound(self):\n",
        "        return \"Moo\"\n",
        "\n",
        "class Sheep(Animal):\n",
        "    def sound(self):\n",
        "        return \"Baa\"\n",
        "\n",
        "c = Cow()\n",
        "s = Sheep()\n",
        "print(c.sound())\n",
        "print(s.sound())"
      ],
      "metadata": {
        "colab": {
          "base_uri": "https://localhost:8080/"
        },
        "id": "Yd2nkoufLdwm",
        "outputId": "e151b837-55cd-4467-97bd-453214590ff6"
      },
      "execution_count": 35,
      "outputs": [
        {
          "output_type": "stream",
          "name": "stdout",
          "text": [
            "Moo\n",
            "Baa\n"
          ]
        }
      ]
    },
    {
      "cell_type": "markdown",
      "source": [
        "17. Create a class Book with attributes title, author, and year_published. Add a method get_book_info() that\n",
        "returns a formatted string with the book's details."
      ],
      "metadata": {
        "id": "4HdV40AmLeLE"
      }
    },
    {
      "cell_type": "code",
      "source": [
        "class Book:\n",
        "    def __init__(self, title, author, year):\n",
        "        self.title = title\n",
        "        self.author = author\n",
        "        self.year = year\n",
        "\n",
        "    def get_book_info(self):\n",
        "        return f\"{self.title} by {self.author}, published in {self.year}\"\n",
        "\n",
        "b = Book(\"1984\", \"George Orwell\", 1949)\n",
        "print(b.get_book_info())"
      ],
      "metadata": {
        "colab": {
          "base_uri": "https://localhost:8080/"
        },
        "id": "U27RBedtLhFG",
        "outputId": "158b88ce-8fd2-44d4-aeed-569f8484990a"
      },
      "execution_count": 36,
      "outputs": [
        {
          "output_type": "stream",
          "name": "stdout",
          "text": [
            "1984 by George Orwell, published in 1949\n"
          ]
        }
      ]
    },
    {
      "cell_type": "markdown",
      "source": [
        "18. Create a class House with attributes address and price. Create a derived class Mansion that adds an\n",
        "attribute number_of_rooms.\n"
      ],
      "metadata": {
        "id": "tU9uoY8lMEDU"
      }
    },
    {
      "cell_type": "code",
      "source": [
        "class House:\n",
        "    def __init__(self, address, price):\n",
        "        self.address = address\n",
        "        self.price = price\n",
        "\n",
        "class Mansion(House):\n",
        "    def __init__(self, address, price, rooms):\n",
        "        super().__init__(address, price)\n",
        "        self.number_of_rooms = rooms\n",
        "\n",
        "m = Mansion(\"Palm Jumeirah, Dubai\", 10000000, 15)\n",
        "print(m.address)\n",
        "print(m.price)\n",
        "print(m.number_of_rooms)"
      ],
      "metadata": {
        "colab": {
          "base_uri": "https://localhost:8080/"
        },
        "id": "syLxgg2fMHo9",
        "outputId": "c1c532ca-b12f-4986-90ff-94b4375ad427"
      },
      "execution_count": 37,
      "outputs": [
        {
          "output_type": "stream",
          "name": "stdout",
          "text": [
            "Palm Jumeirah, Dubai\n",
            "10000000\n",
            "15\n"
          ]
        }
      ]
    },
    {
      "cell_type": "code",
      "source": [],
      "metadata": {
        "id": "S3feSgZ5UJZH"
      },
      "execution_count": null,
      "outputs": []
    }
  ]
}